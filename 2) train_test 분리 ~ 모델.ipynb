{
 "cells": [
  {
   "cell_type": "markdown",
   "id": "0d2fd835-694a-453b-aa40-b3575467c481",
   "metadata": {
    "id": "0d2fd835-694a-453b-aa40-b3575467c481"
   },
   "source": [
    "### 지역별 문장 30000개 랜덤으로 선택"
   ]
  },
  {
   "cell_type": "code",
   "execution_count": null,
   "id": "7e2c7269-d926-4677-a2b5-245a580939b2",
   "metadata": {
    "id": "7e2c7269-d926-4677-a2b5-245a580939b2",
    "outputId": "340cac53-ca84-439b-cc2d-29a083df99ed"
   },
   "outputs": [
    {
     "data": {
      "text/html": [
       "<div>\n",
       "<style scoped>\n",
       "    .dataframe tbody tr th:only-of-type {\n",
       "        vertical-align: middle;\n",
       "    }\n",
       "\n",
       "    .dataframe tbody tr th {\n",
       "        vertical-align: top;\n",
       "    }\n",
       "\n",
       "    .dataframe thead th {\n",
       "        text-align: right;\n",
       "    }\n",
       "</style>\n",
       "<table border=\"1\" class=\"dataframe\">\n",
       "  <thead>\n",
       "    <tr style=\"text-align: right;\">\n",
       "      <th></th>\n",
       "      <th>sentence</th>\n",
       "      <th>file</th>\n",
       "    </tr>\n",
       "  </thead>\n",
       "  <tbody>\n",
       "    <tr>\n",
       "      <th>14764</th>\n",
       "      <td>바나나우유를 달고나라떼를 해 먹었단 말여</td>\n",
       "      <td>chungcheong</td>\n",
       "    </tr>\n",
       "    <tr>\n",
       "      <th>29029</th>\n",
       "      <td>그래도 나쁜게 아니라 착하게 살면은 그것도 장점이 아닐까 싶은디</td>\n",
       "      <td>chungcheong</td>\n",
       "    </tr>\n",
       "    <tr>\n",
       "      <th>1640</th>\n",
       "      <td>그게   지금은 어떨지 몰르는데 그때는 쇼트닝을 고체로 된 걸 썼단 말이야</td>\n",
       "      <td>chungcheong</td>\n",
       "    </tr>\n",
       "    <tr>\n",
       "      <th>26717</th>\n",
       "      <td>남자친구는 너무 힘을 손꾸락에 힘을 줘갖고 대간하다 하긴 혔는디</td>\n",
       "      <td>chungcheong</td>\n",
       "    </tr>\n",
       "    <tr>\n",
       "      <th>17120</th>\n",
       "      <td>내가 집에 피아노를 들여놔야 되는 거 아니여 일단은</td>\n",
       "      <td>chungcheong</td>\n",
       "    </tr>\n",
       "    <tr>\n",
       "      <th>...</th>\n",
       "      <td>...</td>\n",
       "      <td>...</td>\n",
       "    </tr>\n",
       "    <tr>\n",
       "      <th>25097</th>\n",
       "      <td>도깨비라는 그 드라마도 되게 생각이 좀 많이 나는 것 같여</td>\n",
       "      <td>chungcheong</td>\n",
       "    </tr>\n",
       "    <tr>\n",
       "      <th>12488</th>\n",
       "      <td>그 쫌</td>\n",
       "      <td>chungcheong</td>\n",
       "    </tr>\n",
       "    <tr>\n",
       "      <th>18265</th>\n",
       "      <td>이프온리 나오는 영화 영화 이프온리에는 그 여자배우가 불로 배우가 직접 불렀...</td>\n",
       "      <td>chungcheong</td>\n",
       "    </tr>\n",
       "    <tr>\n",
       "      <th>21067</th>\n",
       "      <td>한 이십 개 씩은 결제하는 거 가텨</td>\n",
       "      <td>chungcheong</td>\n",
       "    </tr>\n",
       "    <tr>\n",
       "      <th>31799</th>\n",
       "      <td>좋은 엄마가 되기 위해 노력을 혀야 할 것 같어</td>\n",
       "      <td>chungcheong</td>\n",
       "    </tr>\n",
       "  </tbody>\n",
       "</table>\n",
       "<p>30000 rows × 2 columns</p>\n",
       "</div>"
      ],
      "text/plain": [
       "                                                sentence         file\n",
       "14764                            바나나우유를 달고나라떼를 해 먹었단 말여   chungcheong\n",
       "29029                그래도 나쁜게 아니라 착하게 살면은 그것도 장점이 아닐까 싶은디  chungcheong\n",
       "1640          그게   지금은 어떨지 몰르는데 그때는 쇼트닝을 고체로 된 걸 썼단 말이야   chungcheong\n",
       "26717                남자친구는 너무 힘을 손꾸락에 힘을 줘갖고 대간하다 하긴 혔는디  chungcheong\n",
       "17120                       내가 집에 피아노를 들여놔야 되는 거 아니여 일단은  chungcheong\n",
       "...                                                  ...          ...\n",
       "25097                  도깨비라는 그 드라마도 되게 생각이 좀 많이 나는 것 같여   chungcheong\n",
       "12488                                                그 쫌  chungcheong\n",
       "18265      이프온리 나오는 영화 영화 이프온리에는 그 여자배우가 불로 배우가 직접 불렀...  chungcheong\n",
       "21067                               한 이십 개 씩은 결제하는 거 가텨   chungcheong\n",
       "31799                        좋은 엄마가 되기 위해 노력을 혀야 할 것 같어   chungcheong\n",
       "\n",
       "[30000 rows x 2 columns]"
      ]
     },
     "execution_count": 12,
     "metadata": {},
     "output_type": "execute_result"
    }
   ],
   "source": [
    "random_sample = df[df['file'] == 'chungcheong'].sample(n=30000, random_state=42)\n",
    "random_sample"
   ]
  },
  {
   "cell_type": "code",
   "execution_count": null,
   "id": "e6978fa1-f0c1-48b1-8909-752cdd550488",
   "metadata": {
    "id": "e6978fa1-f0c1-48b1-8909-752cdd550488"
   },
   "outputs": [],
   "source": [
    "def ramdom_dialect_ramdom_30000():\n",
    "    df[df['file'] == 'chungcheong'].sample(n=30000, random_state=42)\n",
    "    df[df['file'] == 'jeju'].sample(n=30000, random_state=42)\n",
    "    df[df['file'] == 'jeolla'].sample(n=30000, random_state=42)\n",
    "    df[df['file'] == 'kangwon'].sample(n=30000, random_state=42)\n",
    "    df[df['file'] == 'kyungsang'].sample(n=30000, random_state=42)"
   ]
  },
  {
   "cell_type": "code",
   "execution_count": null,
   "id": "7e29fe3e-308e-463b-ac05-583908883d71",
   "metadata": {
    "id": "7e29fe3e-308e-463b-ac05-583908883d71"
   },
   "outputs": [],
   "source": [
    "def dialect_ramdom_30000():\n",
    "    # 각 방언에 대해 30000개씩 랜덤 샘플 선택\n",
    "    random_samples = []\n",
    "    dialects = ['chungcheong', 'jeju', 'jeolla', 'kangwon', 'kyungsang']\n",
    "\n",
    "    for dialect in dialects:\n",
    "        sample = df[df['file'] == dialect].sample(n=30000, random_state=42)\n",
    "        random_samples.append(sample)\n",
    "\n",
    "    # 모든 샘플을 하나의 데이터프레임으로 합치기\n",
    "    combined_df = pd.concat(random_samples)\n",
    "\n",
    "    # CSV 파일로 저장 (encoding='utf-8-sig' 옵션 추가)\n",
    "    combined_df.to_csv('dialect_random_30000.csv', index=False, encoding='utf-8-sig')\n",
    "\n",
    "# 함수 호출하여 실행\n",
    "dialect_ramdom_30000()"
   ]
  },
  {
   "cell_type": "code",
   "execution_count": null,
   "id": "fa3a09c1-53ae-46eb-85d5-f8c37f128135",
   "metadata": {
    "id": "fa3a09c1-53ae-46eb-85d5-f8c37f128135"
   },
   "outputs": [],
   "source": [
    "# 랜덤으로 30000개 뽑은 것 열어보기\n",
    "import pandas as pd\n",
    "\n",
    "df1 = pd.read_csv('dialect_random_30000.csv')"
   ]
  },
  {
   "cell_type": "code",
   "execution_count": null,
   "id": "2d778949-7775-4e53-afe1-8cd0c2ef8acd",
   "metadata": {
    "id": "2d778949-7775-4e53-afe1-8cd0c2ef8acd"
   },
   "outputs": [],
   "source": [
    "df1.head()"
   ]
  },
  {
   "cell_type": "code",
   "execution_count": null,
   "id": "9048eb35-29d7-4a96-97dd-eef0bbc9f360",
   "metadata": {
    "id": "9048eb35-29d7-4a96-97dd-eef0bbc9f360"
   },
   "outputs": [],
   "source": [
    "df1.tail()"
   ]
  },
  {
   "cell_type": "markdown",
   "id": "ec33705d-d216-41ce-b6d6-29bb4e327c93",
   "metadata": {
    "id": "ec33705d-d216-41ce-b6d6-29bb4e327c93"
   },
   "source": [
    "###  형태소 분석을 통한 조사, 구두점 제거"
   ]
  },
  {
   "cell_type": "code",
   "execution_count": null,
   "id": "0c631719-b97a-43d9-8280-a06fc13738c8",
   "metadata": {
    "id": "0c631719-b97a-43d9-8280-a06fc13738c8"
   },
   "outputs": [],
   "source": [
    "from pecab import PeCab\n",
    "pecab = PeCab()"
   ]
  },
  {
   "cell_type": "code",
   "execution_count": null,
   "id": "e707cb50-f007-4b42-b892-0eb1869513e2",
   "metadata": {
    "id": "e707cb50-f007-4b42-b892-0eb1869513e2"
   },
   "outputs": [],
   "source": [
    "# 조사, 구두점 제거 조사, 구두점 제거\n",
    "def remove_josa_puct(corpus_txt):\n",
    "    pecab_pos = pecab.pos(corpus_txt, drop_space=False)\n",
    "    pos_after = []\n",
    "    for txt, pos in pecab_pos:\n",
    "        if not pos.startswith(\"J\") and pos not in (\"SF\"):\n",
    "            pos_after.append(txt)\n",
    "    return \"\".join(pos_after)"
   ]
  },
  {
   "cell_type": "code",
   "execution_count": null,
   "id": "27632b20-378d-47cf-ada7-46c1856e0155",
   "metadata": {
    "id": "27632b20-378d-47cf-ada7-46c1856e0155"
   },
   "outputs": [],
   "source": [
    "from tqdm import tqdm\n",
    "tqdm.pandas()  # 진행사항 보여줌\n",
    "\n",
    "df1[\"sentence\"] = df1[\"sentence\"].progress_map(remove_josa_puct)\n",
    "df1.to_csv(\"dialect_pos.csv\", index=False, encoding='utf-8-sig')"
   ]
  },
  {
   "cell_type": "code",
   "execution_count": null,
   "id": "67052f41-1458-40e8-ab75-e2ea2c61a80e",
   "metadata": {
    "id": "67052f41-1458-40e8-ab75-e2ea2c61a80e"
   },
   "outputs": [],
   "source": [
    "-------------------------------"
   ]
  },
  {
   "cell_type": "code",
   "execution_count": null,
   "id": "ca76c249-1f6e-4a53-9692-07d5eb41f7df",
   "metadata": {
    "id": "ca76c249-1f6e-4a53-9692-07d5eb41f7df"
   },
   "outputs": [],
   "source": [
    "import pandas as pd\n",
    "\n",
    "df2 = pd.read_csv(\"dialect_random_30000.csv\")"
   ]
  },
  {
   "cell_type": "code",
   "execution_count": null,
   "id": "4ba68f3e-3822-49a0-a7e5-6b83826b01dc",
   "metadata": {
    "id": "4ba68f3e-3822-49a0-a7e5-6b83826b01dc"
   },
   "outputs": [],
   "source": [
    "# Okt 사용해서 품사 추출\n",
    "from konlpy.tag import Okt\n",
    "\n",
    "# Okt 형태소 분석기 객체 생성\n",
    "okt = Okt()\n",
    "\n",
    "text = \"아버지가 방어 들어가신다.\"\n",
    "\n",
    "# 형태소와 품사 태그 추출\n",
    "# pos = okt.pos(text)\n",
    "# print(pos)"
   ]
  },
  {
   "cell_type": "code",
   "execution_count": null,
   "id": "dde82f07-f898-441c-869b-edfbb46fa332",
   "metadata": {
    "id": "dde82f07-f898-441c-869b-edfbb46fa332",
    "outputId": "d44dbf51-e61c-4bac-d869-8983e9752554"
   },
   "outputs": [
    {
     "name": "stderr",
     "output_type": "stream",
     "text": [
      "100%|████████████████████████████████████████████████████████████████████████| 150000/150000 [01:53<00:00, 1323.94it/s]\n"
     ]
    }
   ],
   "source": [
    "from tqdm import tqdm\n",
    "tqdm.pandas()\n",
    "\n",
    "okt = Okt()\n",
    "df2['pos_tags'] = df2['sentence'].progress_map(okt.pos)\n",
    "df2.to_csv(\"dialect_pos_with_tags.csv\", index=False, encoding='utf-8-sig')"
   ]
  },
  {
   "cell_type": "code",
   "execution_count": null,
   "id": "2ba0a19d-eb92-48d2-8970-0550a7cc434a",
   "metadata": {
    "id": "2ba0a19d-eb92-48d2-8970-0550a7cc434a"
   },
   "outputs": [],
   "source": [
    "import pandas as pd\n",
    "\n",
    "df3 = pd.read_csv(\"dialect_pos_with_tags.csv\")"
   ]
  },
  {
   "cell_type": "code",
   "execution_count": null,
   "id": "46ef2b8a-e966-42c8-997d-e24a1fdda92a",
   "metadata": {
    "id": "46ef2b8a-e966-42c8-997d-e24a1fdda92a",
    "outputId": "1a4c0a99-ea64-41f4-d4c4-57f382d8cabc"
   },
   "outputs": [
    {
     "data": {
      "text/html": [
       "<div>\n",
       "<style scoped>\n",
       "    .dataframe tbody tr th:only-of-type {\n",
       "        vertical-align: middle;\n",
       "    }\n",
       "\n",
       "    .dataframe tbody tr th {\n",
       "        vertical-align: top;\n",
       "    }\n",
       "\n",
       "    .dataframe thead th {\n",
       "        text-align: right;\n",
       "    }\n",
       "</style>\n",
       "<table border=\"1\" class=\"dataframe\">\n",
       "  <thead>\n",
       "    <tr style=\"text-align: right;\">\n",
       "      <th></th>\n",
       "      <th>sentence</th>\n",
       "      <th>file</th>\n",
       "      <th>pos_tags</th>\n",
       "    </tr>\n",
       "  </thead>\n",
       "  <tbody>\n",
       "    <tr>\n",
       "      <th>0</th>\n",
       "      <td>바나나우유를 달고나라떼를 해 먹었단 말여</td>\n",
       "      <td>chungcheong</td>\n",
       "      <td>[('바나나', 'Noun'), ('우유', 'Noun'), ('를', 'Josa'...</td>\n",
       "    </tr>\n",
       "    <tr>\n",
       "      <th>1</th>\n",
       "      <td>그래도 나쁜게 아니라 착하게 살면은 그것도 장점이 아닐까 싶은디</td>\n",
       "      <td>chungcheong</td>\n",
       "      <td>[('그래도', 'Adverb'), ('나쁜게', 'Adjective'), ('아니...</td>\n",
       "    </tr>\n",
       "    <tr>\n",
       "      <th>2</th>\n",
       "      <td>그게   지금은 어떨지 몰르는데 그때는 쇼트닝을 고체로 된 걸 썼단 말이야</td>\n",
       "      <td>chungcheong</td>\n",
       "      <td>[('그게', 'Noun'), ('지금', 'Noun'), ('은', 'Josa')...</td>\n",
       "    </tr>\n",
       "    <tr>\n",
       "      <th>3</th>\n",
       "      <td>남자친구는 너무 힘을 손꾸락에 힘을 줘갖고 대간하다 하긴 혔는디</td>\n",
       "      <td>chungcheong</td>\n",
       "      <td>[('남자친구', 'Noun'), ('는', 'Josa'), ('너무', 'Adve...</td>\n",
       "    </tr>\n",
       "    <tr>\n",
       "      <th>4</th>\n",
       "      <td>내가 집에 피아노를 들여놔야 되는 거 아니여 일단은</td>\n",
       "      <td>chungcheong</td>\n",
       "      <td>[('내', 'Noun'), ('가', 'Josa'), ('집', 'Noun'), ...</td>\n",
       "    </tr>\n",
       "  </tbody>\n",
       "</table>\n",
       "</div>"
      ],
      "text/plain": [
       "                                     sentence         file  \\\n",
       "0                     바나나우유를 달고나라떼를 해 먹었단 말여   chungcheong   \n",
       "1         그래도 나쁜게 아니라 착하게 살면은 그것도 장점이 아닐까 싶은디  chungcheong   \n",
       "2  그게   지금은 어떨지 몰르는데 그때는 쇼트닝을 고체로 된 걸 썼단 말이야   chungcheong   \n",
       "3         남자친구는 너무 힘을 손꾸락에 힘을 줘갖고 대간하다 하긴 혔는디  chungcheong   \n",
       "4                내가 집에 피아노를 들여놔야 되는 거 아니여 일단은  chungcheong   \n",
       "\n",
       "                                            pos_tags  \n",
       "0  [('바나나', 'Noun'), ('우유', 'Noun'), ('를', 'Josa'...  \n",
       "1  [('그래도', 'Adverb'), ('나쁜게', 'Adjective'), ('아니...  \n",
       "2  [('그게', 'Noun'), ('지금', 'Noun'), ('은', 'Josa')...  \n",
       "3  [('남자친구', 'Noun'), ('는', 'Josa'), ('너무', 'Adve...  \n",
       "4  [('내', 'Noun'), ('가', 'Josa'), ('집', 'Noun'), ...  "
      ]
     },
     "execution_count": 2,
     "metadata": {},
     "output_type": "execute_result"
    }
   ],
   "source": [
    "df3.head()"
   ]
  },
  {
   "cell_type": "code",
   "execution_count": null,
   "id": "fff56b92-f66c-4566-b543-ae65a79933c4",
   "metadata": {
    "id": "fff56b92-f66c-4566-b543-ae65a79933c4"
   },
   "outputs": [],
   "source": [
    "# 동사(Verb), 형용사(Adjective)만 추출\n",
    "from konlpy.tag import Okt\n",
    "okt = Okt()\n",
    "\n",
    "def verb_adjective(corpus_txt):\n",
    "    okt_pos = okt.pos(corpus_txt)\n",
    "    pos_after = []\n",
    "    for txt, pos in okt_pos:\n",
    "        if pos in (\"Verb\") or pos in (\"Adjective\"):\n",
    "            pos_after.append(txt)\n",
    "    return \" \".join(pos_after)"
   ]
  },
  {
   "cell_type": "code",
   "execution_count": null,
   "id": "3b0e1b11-3baf-4eaf-a8bb-53c0508b7073",
   "metadata": {
    "id": "3b0e1b11-3baf-4eaf-a8bb-53c0508b7073",
    "outputId": "b5e3e4e0-d688-47bb-8372-33e18197ddce"
   },
   "outputs": [
    {
     "name": "stderr",
     "output_type": "stream",
     "text": [
      "100%|████████████████████████████████████████████████████████████████████████| 150000/150000 [02:19<00:00, 1076.99it/s]\n"
     ]
    }
   ],
   "source": [
    "from tqdm import tqdm\n",
    "tqdm.pandas()  # 진행사항 보여줌\n",
    "\n",
    "df3[\"verb_adjective\"] = df3[\"pos_tags\"].progress_map(verb_adjective)\n",
    "df3.to_csv(\"dialect_verb_adjective.csv\", index=False, encoding='utf-8-sig')"
   ]
  },
  {
   "cell_type": "code",
   "execution_count": null,
   "id": "59e13f4e-9909-43db-b6aa-0b3b380b8d09",
   "metadata": {
    "id": "59e13f4e-9909-43db-b6aa-0b3b380b8d09"
   },
   "outputs": [],
   "source": [
    "import pandas as pd\n",
    "\n",
    "df4 = pd.read_csv(\"dialect_verb_adjective.csv\")"
   ]
  },
  {
   "cell_type": "code",
   "execution_count": null,
   "id": "0390af3f-b3ef-42e2-9fd5-31ee0ffa3bd7",
   "metadata": {
    "id": "0390af3f-b3ef-42e2-9fd5-31ee0ffa3bd7",
    "outputId": "134fb887-c60a-461e-8a8d-668cb1441c52"
   },
   "outputs": [
    {
     "data": {
      "text/plain": [
       "0                        먹었단\n",
       "1    나쁜게 아니라 착하게 살면은 아닐까 싶은디\n",
       "2            어떨지 몰르는데 는 된 썼단\n",
       "3               는 줘 갖고 하다 하긴\n",
       "4              가 들여놔야 되는 아니여\n",
       "Name: verb_adjective, dtype: object"
      ]
     },
     "execution_count": 34,
     "metadata": {},
     "output_type": "execute_result"
    }
   ],
   "source": [
    "df4['verb_adjective'].head()"
   ]
  },
  {
   "cell_type": "code",
   "execution_count": null,
   "id": "412252bb-e9e0-4e9e-9b0d-dd4d7013cddc",
   "metadata": {
    "id": "412252bb-e9e0-4e9e-9b0d-dd4d7013cddc",
    "outputId": "eabde18b-7746-43dc-de74-d8ec502a9317"
   },
   "outputs": [
    {
     "data": {
      "text/plain": [
       "chungcheong    30000\n",
       "jeju           30000\n",
       "jeolla         30000\n",
       "kangwon        30000\n",
       "kyungsang      30000\n",
       "Name: file, dtype: int64"
      ]
     },
     "execution_count": 35,
     "metadata": {},
     "output_type": "execute_result"
    }
   ],
   "source": [
    "df4[\"file\"].value_counts()"
   ]
  },
  {
   "cell_type": "code",
   "execution_count": null,
   "id": "bf9defd7-1b96-43cf-bba2-5fa4b07a46c2",
   "metadata": {
    "id": "bf9defd7-1b96-43cf-bba2-5fa4b07a46c2",
    "outputId": "4af65a41-1444-4130-d4e5-0660b7b68f6b"
   },
   "outputs": [
    {
     "data": {
      "text/plain": [
       "sentence             0\n",
       "file                 0\n",
       "pos_tags             0\n",
       "verb_adjective    9848\n",
       "dtype: int64"
      ]
     },
     "execution_count": 36,
     "metadata": {},
     "output_type": "execute_result"
    }
   ],
   "source": [
    "# 결측치 제거\n",
    "df4.isnull().sum()"
   ]
  },
  {
   "cell_type": "code",
   "execution_count": null,
   "id": "814357cd-86d0-44d2-9c6d-40bf495ab11c",
   "metadata": {
    "id": "814357cd-86d0-44d2-9c6d-40bf495ab11c"
   },
   "outputs": [],
   "source": [
    "df4_cleaned = df4.dropna(axis=0)\n",
    "df4 = df4_cleaned"
   ]
  },
  {
   "cell_type": "code",
   "execution_count": null,
   "id": "8f6b51f1-b54a-4b06-8d53-a8512256fdc0",
   "metadata": {
    "id": "8f6b51f1-b54a-4b06-8d53-a8512256fdc0",
    "outputId": "c1a933c7-9723-48e7-81ea-cd0d117a3849"
   },
   "outputs": [
    {
     "data": {
      "text/plain": [
       "<bound method IndexOpsMixin.value_counts of 0         chungcheong\n",
       "1         chungcheong\n",
       "2         chungcheong\n",
       "3         chungcheong\n",
       "4         chungcheong\n",
       "             ...     \n",
       "149995      kyungsang\n",
       "149996      kyungsang\n",
       "149997      kyungsang\n",
       "149998      kyungsang\n",
       "149999      kyungsang\n",
       "Name: file, Length: 140152, dtype: object>"
      ]
     },
     "execution_count": 40,
     "metadata": {},
     "output_type": "execute_result"
    }
   ],
   "source": [
    "df4['file'].value_counts"
   ]
  },
  {
   "cell_type": "code",
   "execution_count": null,
   "id": "dc6e99ef-b491-41a1-b41c-9feff4e8f9df",
   "metadata": {
    "id": "dc6e99ef-b491-41a1-b41c-9feff4e8f9df",
    "outputId": "d031d770-ad03-457a-ca37-f402bd960281"
   },
   "outputs": [
    {
     "ename": "NameError",
     "evalue": "name 'df4' is not defined",
     "output_type": "error",
     "traceback": [
      "\u001b[1;31m---------------------------------------------------------------------------\u001b[0m",
      "\u001b[1;31mNameError\u001b[0m                                 Traceback (most recent call last)",
      "Cell \u001b[1;32mIn[1], line 4\u001b[0m\n\u001b[0;32m      1\u001b[0m \u001b[38;5;28;01mfrom\u001b[39;00m \u001b[38;5;21;01mtqdm\u001b[39;00m \u001b[38;5;28;01mimport\u001b[39;00m tqdm\n\u001b[0;32m      2\u001b[0m tqdm\u001b[38;5;241m.\u001b[39mpandas()  \u001b[38;5;66;03m# 진행사항 보여줌\u001b[39;00m\n\u001b[1;32m----> 4\u001b[0m df4\u001b[38;5;241m.\u001b[39mto_csv(\u001b[38;5;124m\"\u001b[39m\u001b[38;5;124mdialect_verb_adjective_null.csv\u001b[39m\u001b[38;5;124m\"\u001b[39m, index\u001b[38;5;241m=\u001b[39m\u001b[38;5;28;01mFalse\u001b[39;00m, encoding\u001b[38;5;241m=\u001b[39m\u001b[38;5;124m'\u001b[39m\u001b[38;5;124mutf-8-sig\u001b[39m\u001b[38;5;124m'\u001b[39m)\n",
      "\u001b[1;31mNameError\u001b[0m: name 'df4' is not defined"
     ]
    }
   ],
   "source": [
    "from tqdm import tqdm\n",
    "tqdm.pandas()  # 진행사항 보여줌\n",
    "\n",
    "df4.to_csv(\"dialect_verb_adjective_null.csv\", index=False, encoding='utf-8-sig')"
   ]
  },
  {
   "cell_type": "code",
   "execution_count": null,
   "id": "ea75e3a8-e5bc-4087-a6cf-446d028a431b",
   "metadata": {
    "id": "ea75e3a8-e5bc-4087-a6cf-446d028a431b"
   },
   "outputs": [],
   "source": [
    "import pandas as pd\n",
    "df5 = pd.read_csv(\"dialect_verb_adjective_null.csv\")"
   ]
  },
  {
   "cell_type": "code",
   "execution_count": null,
   "id": "17401a8c-73e9-4d98-b15b-fda19bed3f01",
   "metadata": {
    "id": "17401a8c-73e9-4d98-b15b-fda19bed3f01",
    "outputId": "b61e1220-54dc-4877-ad87-5eea862b7a8b"
   },
   "outputs": [
    {
     "data": {
      "text/plain": [
       "file\n",
       "chungcheong    29450\n",
       "kyungsang      29057\n",
       "jeolla         28186\n",
       "kangwon        27900\n",
       "jeju           25559\n",
       "Name: count, dtype: int64"
      ]
     },
     "execution_count": 2,
     "metadata": {},
     "output_type": "execute_result"
    }
   ],
   "source": [
    "df5[\"file\"].value_counts()"
   ]
  },
  {
   "cell_type": "markdown",
   "id": "1c190c61-717f-4270-8d91-05a6446aad3c",
   "metadata": {
    "id": "1c190c61-717f-4270-8d91-05a6446aad3c"
   },
   "source": [
    "### train, test 분리\n",
    "- 앞에 20000: train, 나머지: test"
   ]
  },
  {
   "cell_type": "code",
   "execution_count": null,
   "id": "0f54cf05-751e-44af-ad82-bbc0c200b8b5",
   "metadata": {
    "id": "0f54cf05-751e-44af-ad82-bbc0c200b8b5",
    "outputId": "d1438f09-d5e5-4785-fb52-755be4f891bd"
   },
   "outputs": [
    {
     "data": {
      "text/plain": [
       "20000"
      ]
     },
     "execution_count": 24,
     "metadata": {},
     "output_type": "execute_result"
    }
   ],
   "source": [
    "# jeju 데이터로 실험해봄\n",
    "jeju_df =df5[df5['file'] == 'jeju']\n",
    "jeju_df_20000 = jeju_df.head(20000)\n",
    "result_df = jeju_df_20000[['verb_adjective', 'file']]\n",
    "\n",
    "result_df.head()\n",
    "len(result_df)\n",
    "\n",
    "# # 결과를 새로운 CSV 파일로 저장\n",
    "# result_df.to_csv('filtered_jeju_sentences.csv', index=False)"
   ]
  },
  {
   "cell_type": "code",
   "execution_count": null,
   "id": "6ec132e7-bd6d-4fd2-953d-bab30289ed4b",
   "metadata": {
    "id": "6ec132e7-bd6d-4fd2-953d-bab30289ed4b",
    "outputId": "ff5b7bc2-add1-4682-c2a5-5e573674b1ef"
   },
   "outputs": [
    {
     "name": "stdout",
     "output_type": "stream",
     "text": [
      "                                     sentence         file  \\\n",
      "0                     바나나우유를 달고나라떼를 해 먹었단 말여   chungcheong   \n",
      "1         그래도 나쁜게 아니라 착하게 살면은 그것도 장점이 아닐까 싶은디  chungcheong   \n",
      "2  그게   지금은 어떨지 몰르는데 그때는 쇼트닝을 고체로 된 걸 썼단 말이야   chungcheong   \n",
      "3         남자친구는 너무 힘을 손꾸락에 힘을 줘갖고 대간하다 하긴 혔는디  chungcheong   \n",
      "4                내가 집에 피아노를 들여놔야 되는 거 아니여 일단은  chungcheong   \n",
      "\n",
      "                                            pos_tags           verb_adjective  \\\n",
      "0  [('바나나', 'Noun'), ('우유', 'Noun'), ('를', 'Josa'...                      먹었단   \n",
      "1  [('그래도', 'Adverb'), ('나쁜게', 'Adjective'), ('아니...  나쁜게 아니라 착하게 살면은 아닐까 싶은디   \n",
      "2  [('그게', 'Noun'), ('지금', 'Noun'), ('은', 'Josa')...          어떨지 몰르는데 는 된 썼단   \n",
      "3  [('남자친구', 'Noun'), ('는', 'Josa'), ('너무', 'Adve...             는 줘 갖고 하다 하긴   \n",
      "4  [('내', 'Noun'), ('가', 'Josa'), ('집', 'Noun'), ...            가 들여놔야 되는 아니여   \n",
      "\n",
      "   file_encoded  \n",
      "0             0  \n",
      "1             0  \n",
      "2             0  \n",
      "3             0  \n",
      "4             0  \n",
      "                                         sentence       file  \\\n",
      "140147    사실은 제가 중학생 때까지 오토바이   타는 폭주족이 진짜 많았거든예   kyungsang   \n",
      "140148        아들이 아직 학생이라 가지고 경제적으로 쪼꼼 힘이 들려고 해요   kyungsang   \n",
      "140149      니도   뭐지 중 고등학교 때 부산에 지하상가 쇼핑하러 많이 갔어   kyungsang   \n",
      "140150                     아니 너무 쫍아서 하기 싫을 거 같은데   kyungsang   \n",
      "140151            뭘 살려고 할려고 했냐면은 앞머리 뽕을 살려고 했었어요   kyungsang   \n",
      "\n",
      "                                                 pos_tags  \\\n",
      "140147  [('사실', 'Noun'), ('은', 'Josa'), ('제', 'Noun'),...   \n",
      "140148  [('아들', 'Noun'), ('이', 'Josa'), ('아직', 'Adverb...   \n",
      "140149  [('니', 'Noun'), ('도', 'Josa'), ('뭐', 'Noun'), ...   \n",
      "140150  [('아니', 'Adjective'), ('너무', 'Adverb'), ('쫍아',...   \n",
      "140151  [('뭘', 'Noun'), ('살려고', 'Verb'), ('할려고', 'Verb...   \n",
      "\n",
      "             verb_adjective  file_encoded  \n",
      "140147            가 타는 많았거든             4  \n",
      "140148               이라 들려고             4  \n",
      "140149              지 하러 갔어             4  \n",
      "140150       아니 서 하기 싫을 같은데             4  \n",
      "140151  살려고 할려고 했냐 살려고 했었어요             4  \n"
     ]
    }
   ],
   "source": [
    "# file_encoded에 labe-encoding으로 숫자로 변경해서 저장\n",
    "\n",
    "import pandas as pd\n",
    "from sklearn.preprocessing import LabelEncoder\n",
    "\n",
    "# Given list of categories\n",
    "# file = ['chungcheong', 'jeju', 'jeolla', 'kangwon', 'kyungsang']\n",
    "\n",
    "# Convert the list to a DataFrame\n",
    "df5 = pd.read_csv('dialect_verb_adjective_null.csv')\n",
    "\n",
    "# Initialize the LabelEncoder\n",
    "label_encoder = LabelEncoder()\n",
    "\n",
    "# Fit and transform the 'file' column using the LabelEncoder\n",
    "df5['file_encoded'] = label_encoder.fit_transform(df5['file'])\n",
    "\n",
    "# Print the DataFrame with original and encoded labels\n",
    "print(df5.head())\n",
    "print(df5.tail())"
   ]
  },
  {
   "cell_type": "code",
   "execution_count": null,
   "id": "d1763163-5ee3-41a3-8b7d-897b43ec58fc",
   "metadata": {
    "id": "d1763163-5ee3-41a3-8b7d-897b43ec58fc"
   },
   "outputs": [],
   "source": [
    "df5.to_csv('dialect_file_encoded.csv', index=False, encoding='utf-8-sig')"
   ]
  },
  {
   "cell_type": "code",
   "execution_count": null,
   "id": "6d6b9850-76fa-42de-9a03-5d94c37c9cde",
   "metadata": {
    "id": "6d6b9850-76fa-42de-9a03-5d94c37c9cde",
    "outputId": "068756a1-6612-43d5-8b52-66d8900e2085"
   },
   "outputs": [
    {
     "name": "stdout",
     "output_type": "stream",
     "text": [
      "                                         sentence       file  \\\n",
      "140147    사실은 제가 중학생 때까지 오토바이   타는 폭주족이 진짜 많았거든예   kyungsang   \n",
      "140148        아들이 아직 학생이라 가지고 경제적으로 쪼꼼 힘이 들려고 해요   kyungsang   \n",
      "140149      니도   뭐지 중 고등학교 때 부산에 지하상가 쇼핑하러 많이 갔어   kyungsang   \n",
      "140150                     아니 너무 쫍아서 하기 싫을 거 같은데   kyungsang   \n",
      "140151            뭘 살려고 할려고 했냐면은 앞머리 뽕을 살려고 했었어요   kyungsang   \n",
      "\n",
      "                                                 pos_tags  \\\n",
      "140147  [('사실', 'Noun'), ('은', 'Josa'), ('제', 'Noun'),...   \n",
      "140148  [('아들', 'Noun'), ('이', 'Josa'), ('아직', 'Adverb...   \n",
      "140149  [('니', 'Noun'), ('도', 'Josa'), ('뭐', 'Noun'), ...   \n",
      "140150  [('아니', 'Adjective'), ('너무', 'Adverb'), ('쫍아',...   \n",
      "140151  [('뭘', 'Noun'), ('살려고', 'Verb'), ('할려고', 'Verb...   \n",
      "\n",
      "             verb_adjective  file_encoded  \n",
      "140147            가 타는 많았거든             4  \n",
      "140148               이라 들려고             4  \n",
      "140149              지 하러 갔어             4  \n",
      "140150       아니 서 하기 싫을 같은데             4  \n",
      "140151  살려고 할려고 했냐 살려고 했었어요             4  \n"
     ]
    }
   ],
   "source": [
    "df6 = pd.read_csv('dialect_file_encoded.csv')\n",
    "print(df6.tail())"
   ]
  },
  {
   "cell_type": "code",
   "execution_count": null,
   "id": "87bfb4b1-4904-4f13-b479-da4fd7f14013",
   "metadata": {
    "id": "87bfb4b1-4904-4f13-b479-da4fd7f14013"
   },
   "outputs": [],
   "source": [
    "# result_df에 20000개 나눈 것 저장\n",
    "import pandas as pd\n",
    "\n",
    "# CSV 파일 읽기\n",
    "# df5 = pd.read_csv('dialect_verb_adjective_null.csv')\n",
    "\n",
    "# 지역 목록\n",
    "file = [0, 1, 2, 3, 4]\n",
    "\n",
    "# 결과를 저장할 빈 데이터프레임 생성\n",
    "result_df = pd.DataFrame()\n",
    "\n",
    "# 각 지역별로 20000개씩 추출하고 결과 데이터프레임에 추가\n",
    "for region in file:\n",
    "    regional_df = df5[df5['file_encoded'] == region].iloc[:20000]\n",
    "    result_df = pd.concat([result_df, regional_df[['verb_adjective', 'file_encoded']]], ignore_index=True)"
   ]
  },
  {
   "cell_type": "code",
   "execution_count": null,
   "id": "47d6bcd6-c167-42e1-9a17-5edfe14a2407",
   "metadata": {
    "id": "47d6bcd6-c167-42e1-9a17-5edfe14a2407"
   },
   "outputs": [],
   "source": [
    "from tqdm import tqdm\n",
    "tqdm.pandas()  # 진행사항 보여줌\n",
    "\n",
    "result_df.to_csv(\"dialect_verb_adjective_labelencoding.csv\", index=False, encoding='utf-8-sig')"
   ]
  },
  {
   "cell_type": "code",
   "execution_count": null,
   "id": "af7ceef7-0420-4d7a-b717-a2406b8f60af",
   "metadata": {
    "id": "af7ceef7-0420-4d7a-b717-a2406b8f60af",
    "outputId": "a109411c-6957-4b53-b99e-4b9363ecaf8f"
   },
   "outputs": [
    {
     "name": "stdout",
     "output_type": "stream",
     "text": [
      "            verb_adjective  file_encoded\n",
      "0                      먹었단             0\n",
      "1  나쁜게 아니라 착하게 살면은 아닐까 싶은디             0\n",
      "2          어떨지 몰르는데 는 된 썼단             0\n",
      "3             는 줘 갖고 하다 하긴             0\n",
      "4            가 들여놔야 되는 아니여             0\n"
     ]
    }
   ],
   "source": [
    "print(result_df.head())"
   ]
  },
  {
   "cell_type": "code",
   "execution_count": null,
   "id": "58e92ad2-6b40-46a4-9f05-0ce58f47a749",
   "metadata": {
    "id": "58e92ad2-6b40-46a4-9f05-0ce58f47a749",
    "outputId": "a351025d-072c-4ae2-ef7b-05546e36d5d5"
   },
   "outputs": [
    {
     "name": "stdout",
     "output_type": "stream",
     "text": [
      "              verb_adjective  file_encoded\n",
      "99995              벌렸지 솔직히 가             4\n",
      "99996              서 하고 있습니다             4\n",
      "99997  아까 말씀드렸던 무신사 같은 서 는 서             4\n",
      "99998               는 헤어져가지고             4\n",
      "99999               가 한 했었거든             4\n"
     ]
    }
   ],
   "source": [
    "print(result_df.tail())"
   ]
  },
  {
   "cell_type": "code",
   "execution_count": null,
   "id": "1b27a691-ded7-47cd-9583-d400360bf938",
   "metadata": {
    "id": "1b27a691-ded7-47cd-9583-d400360bf938",
    "outputId": "c2891376-332e-402f-ae55-050ba52687a6"
   },
   "outputs": [
    {
     "name": "stdout",
     "output_type": "stream",
     "text": [
      "100000\n"
     ]
    }
   ],
   "source": [
    "print(len(result_df))"
   ]
  },
  {
   "cell_type": "code",
   "execution_count": null,
   "id": "a7aab69c-41e8-4e36-8eab-1a411c4487c3",
   "metadata": {
    "id": "a7aab69c-41e8-4e36-8eab-1a411c4487c3"
   },
   "outputs": [],
   "source": [
    "# 결과를 train CSV 파일로 저장\n",
    "result_df.to_csv('train.csv', index=False, encoding='utf-8-sig')"
   ]
  },
  {
   "cell_type": "code",
   "execution_count": null,
   "id": "52f0195b-720e-468c-bd24-7873720d4420",
   "metadata": {
    "id": "52f0195b-720e-468c-bd24-7873720d4420"
   },
   "outputs": [],
   "source": [
    "import pandas as pd\n",
    "\n",
    "# CSV 파일 읽기\n",
    "df5 = pd.read_csv('dialect_file_encoded.csv')\n",
    "\n",
    "# 지역 목록\n",
    "regions = [0, 1, 2, 3, 4]\n",
    "\n",
    "# 결과를 저장할 빈 데이터프레임 생성\n",
    "result_df = pd.DataFrame()\n",
    "\n",
    "# 각 지역별로 20000개 이후의 데이터를 추출하고 결과 데이터프레임에 추가\n",
    "for region in regions:\n",
    "    regional_df = df5[df5['file_encoded'] == region].iloc[20000:]\n",
    "    result_df = pd.concat([result_df, regional_df[['verb_adjective', 'file_encoded']]], ignore_index=True)"
   ]
  },
  {
   "cell_type": "code",
   "execution_count": null,
   "id": "16244a89-f76b-4e22-a87f-1ff75962d911",
   "metadata": {
    "id": "16244a89-f76b-4e22-a87f-1ff75962d911",
    "outputId": "2bd8019a-540e-4152-c3b9-fede7d4d3860"
   },
   "outputs": [
    {
     "name": "stdout",
     "output_type": "stream",
     "text": [
      "             verb_adjective  file_encoded\n",
      "0                  비슷하다고 먹은             0\n",
      "1     따른 맛있는 많은디 가 유명하지란 했고             0\n",
      "2                         들             0\n",
      "3  가는 그러면은 상관없는데 보러 갈려면은 하고             0\n",
      "4                   개랴 끓여주는             0\n"
     ]
    }
   ],
   "source": [
    "print(result_df.head())"
   ]
  },
  {
   "cell_type": "code",
   "execution_count": null,
   "id": "de2d18c7-71f4-4915-a3fe-1da543dd58a5",
   "metadata": {
    "id": "de2d18c7-71f4-4915-a3fe-1da543dd58a5",
    "outputId": "6a4eceef-f7c2-438d-fcb7-536909bf1a76"
   },
   "outputs": [
    {
     "name": "stdout",
     "output_type": "stream",
     "text": [
      "40152\n"
     ]
    }
   ],
   "source": [
    "print(len(result_df))"
   ]
  },
  {
   "cell_type": "markdown",
   "id": "65a722fe-4343-4d85-a2bb-4bab07e44746",
   "metadata": {
    "id": "65a722fe-4343-4d85-a2bb-4bab07e44746"
   },
   "source": [
    "### 백터화(TF-IDF)"
   ]
  },
  {
   "cell_type": "code",
   "execution_count": null,
   "id": "1cca3bc8-247e-46a4-afc9-69371167d1f8",
   "metadata": {
    "id": "1cca3bc8-247e-46a4-afc9-69371167d1f8",
    "outputId": "04777a73-fdb0-45b9-fc50-45ab539fc7b6"
   },
   "outputs": [
    {
     "data": {
      "text/html": [
       "<style>#sk-container-id-3 {color: black;background-color: white;}#sk-container-id-3 pre{padding: 0;}#sk-container-id-3 div.sk-toggleable {background-color: white;}#sk-container-id-3 label.sk-toggleable__label {cursor: pointer;display: block;width: 100%;margin-bottom: 0;padding: 0.3em;box-sizing: border-box;text-align: center;}#sk-container-id-3 label.sk-toggleable__label-arrow:before {content: \"▸\";float: left;margin-right: 0.25em;color: #696969;}#sk-container-id-3 label.sk-toggleable__label-arrow:hover:before {color: black;}#sk-container-id-3 div.sk-estimator:hover label.sk-toggleable__label-arrow:before {color: black;}#sk-container-id-3 div.sk-toggleable__content {max-height: 0;max-width: 0;overflow: hidden;text-align: left;background-color: #f0f8ff;}#sk-container-id-3 div.sk-toggleable__content pre {margin: 0.2em;color: black;border-radius: 0.25em;background-color: #f0f8ff;}#sk-container-id-3 input.sk-toggleable__control:checked~div.sk-toggleable__content {max-height: 200px;max-width: 100%;overflow: auto;}#sk-container-id-3 input.sk-toggleable__control:checked~label.sk-toggleable__label-arrow:before {content: \"▾\";}#sk-container-id-3 div.sk-estimator input.sk-toggleable__control:checked~label.sk-toggleable__label {background-color: #d4ebff;}#sk-container-id-3 div.sk-label input.sk-toggleable__control:checked~label.sk-toggleable__label {background-color: #d4ebff;}#sk-container-id-3 input.sk-hidden--visually {border: 0;clip: rect(1px 1px 1px 1px);clip: rect(1px, 1px, 1px, 1px);height: 1px;margin: -1px;overflow: hidden;padding: 0;position: absolute;width: 1px;}#sk-container-id-3 div.sk-estimator {font-family: monospace;background-color: #f0f8ff;border: 1px dotted black;border-radius: 0.25em;box-sizing: border-box;margin-bottom: 0.5em;}#sk-container-id-3 div.sk-estimator:hover {background-color: #d4ebff;}#sk-container-id-3 div.sk-parallel-item::after {content: \"\";width: 100%;border-bottom: 1px solid gray;flex-grow: 1;}#sk-container-id-3 div.sk-label:hover label.sk-toggleable__label {background-color: #d4ebff;}#sk-container-id-3 div.sk-serial::before {content: \"\";position: absolute;border-left: 1px solid gray;box-sizing: border-box;top: 0;bottom: 0;left: 50%;z-index: 0;}#sk-container-id-3 div.sk-serial {display: flex;flex-direction: column;align-items: center;background-color: white;padding-right: 0.2em;padding-left: 0.2em;position: relative;}#sk-container-id-3 div.sk-item {position: relative;z-index: 1;}#sk-container-id-3 div.sk-parallel {display: flex;align-items: stretch;justify-content: center;background-color: white;position: relative;}#sk-container-id-3 div.sk-item::before, #sk-container-id-3 div.sk-parallel-item::before {content: \"\";position: absolute;border-left: 1px solid gray;box-sizing: border-box;top: 0;bottom: 0;left: 50%;z-index: -1;}#sk-container-id-3 div.sk-parallel-item {display: flex;flex-direction: column;z-index: 1;position: relative;background-color: white;}#sk-container-id-3 div.sk-parallel-item:first-child::after {align-self: flex-end;width: 50%;}#sk-container-id-3 div.sk-parallel-item:last-child::after {align-self: flex-start;width: 50%;}#sk-container-id-3 div.sk-parallel-item:only-child::after {width: 0;}#sk-container-id-3 div.sk-dashed-wrapped {border: 1px dashed gray;margin: 0 0.4em 0.5em 0.4em;box-sizing: border-box;padding-bottom: 0.4em;background-color: white;}#sk-container-id-3 div.sk-label label {font-family: monospace;font-weight: bold;display: inline-block;line-height: 1.2em;}#sk-container-id-3 div.sk-label-container {text-align: center;}#sk-container-id-3 div.sk-container {/* jupyter's `normalize.less` sets `[hidden] { display: none; }` but bootstrap.min.css set `[hidden] { display: none !important; }` so we also need the `!important` here to be able to override the default hidden behavior on the sphinx rendered scikit-learn.org. See: https://github.com/scikit-learn/scikit-learn/issues/21755 */display: inline-block !important;position: relative;}#sk-container-id-3 div.sk-text-repr-fallback {display: none;}</style><div id=\"sk-container-id-3\" class=\"sk-top-container\"><div class=\"sk-text-repr-fallback\"><pre>TfidfVectorizer(max_features=2000)</pre><b>In a Jupyter environment, please rerun this cell to show the HTML representation or trust the notebook. <br />On GitHub, the HTML representation is unable to render, please try loading this page with nbviewer.org.</b></div><div class=\"sk-container\" hidden><div class=\"sk-item\"><div class=\"sk-estimator sk-toggleable\"><input class=\"sk-toggleable__control sk-hidden--visually\" id=\"sk-estimator-id-3\" type=\"checkbox\" checked><label for=\"sk-estimator-id-3\" class=\"sk-toggleable__label sk-toggleable__label-arrow\">TfidfVectorizer</label><div class=\"sk-toggleable__content\"><pre>TfidfVectorizer(max_features=2000)</pre></div></div></div></div></div>"
      ],
      "text/plain": [
       "TfidfVectorizer(max_features=2000)"
      ]
     },
     "execution_count": 66,
     "metadata": {},
     "output_type": "execute_result"
    }
   ],
   "source": [
    "# TfidfVectorizer 로 벡터화 합니다.\n",
    "# fit 으로 변환할 어휘를 학습합니다.\n",
    "\n",
    "import pandas as pd\n",
    "from sklearn.feature_extraction.text import TfidfVectorizer\n",
    "\n",
    "# CSV 파일 읽기\n",
    "train = pd.read_csv(\"train.csv\")\n",
    "test = pd.read_csv('test.csv')\n",
    "\n",
    "# TfidfVectorizer로 벡터화\n",
    "tfidfvect = TfidfVectorizer(max_features=2000)\n",
    "\n",
    "# 텍스트 데이터 열을 사용하여 어휘 학습\n",
    "tfidfvect.fit(df7[\"verb_adjective\"])"
   ]
  },
  {
   "cell_type": "code",
   "execution_count": null,
   "id": "a7b0e039-4424-44d2-9aeb-f01cb69d3992",
   "metadata": {
    "id": "a7b0e039-4424-44d2-9aeb-f01cb69d3992",
    "outputId": "99de6424-1c4e-4d60-b243-adaa2826e271"
   },
   "outputs": [
    {
     "data": {
      "text/plain": [
       "((100000, 2000), (40152, 2000))"
      ]
     },
     "execution_count": 86,
     "metadata": {},
     "output_type": "execute_result"
    }
   ],
   "source": [
    "# transform\n",
    "X_train = tfidfvect.transform(train[\"verb_adjective\"])\n",
    "X_test = tfidfvect.transform(test[\"verb_adjective\"])\n",
    "X_train.shape, X_test.shape"
   ]
  },
  {
   "cell_type": "code",
   "execution_count": null,
   "id": "e7cde34a-d55a-4102-8ae7-dfdf0bec6f4e",
   "metadata": {
    "id": "e7cde34a-d55a-4102-8ae7-dfdf0bec6f4e",
    "outputId": "39fa28ee-11f9-4f20-c789-9bf1e0813ed5"
   },
   "outputs": [
    {
     "data": {
      "text/plain": [
       "그런     2668.556747\n",
       "하고     2463.296334\n",
       "하는     1997.486443\n",
       "이런     1386.205164\n",
       "있는     1234.684743\n",
       "같은     1168.888926\n",
       "그래     1052.638418\n",
       "아니      995.427244\n",
       "해서      852.938794\n",
       "갖고      836.335866\n",
       "나도      828.262844\n",
       "하면      797.505435\n",
       "있어      787.637812\n",
       "좋은      689.907371\n",
       "있고      628.378979\n",
       "해야      587.704406\n",
       "먹고      550.213240\n",
       "되는      536.014491\n",
       "어떻게     509.107577\n",
       "보면      500.491827\n",
       "dtype: float64"
      ]
     },
     "execution_count": 68,
     "metadata": {},
     "output_type": "execute_result"
    }
   ],
   "source": [
    "pd.DataFrame(X_train.toarray(), columns=tfidfvect.get_feature_names_out()).sum().nlargest(20)"
   ]
  },
  {
   "cell_type": "code",
   "execution_count": null,
   "id": "fe9ae24f-5d85-4874-9e2b-435543d5a895",
   "metadata": {
    "id": "fe9ae24f-5d85-4874-9e2b-435543d5a895",
    "outputId": "c1fd14f8-7530-4876-a65d-1f4ab9a402d9"
   },
   "outputs": [
    {
     "data": {
      "text/plain": [
       "0        0\n",
       "1        0\n",
       "2        0\n",
       "3        0\n",
       "4        0\n",
       "        ..\n",
       "99995    4\n",
       "99996    4\n",
       "99997    4\n",
       "99998    4\n",
       "99999    4\n",
       "Name: file_encoded, Length: 100000, dtype: int64"
      ]
     },
     "execution_count": 87,
     "metadata": {},
     "output_type": "execute_result"
    }
   ],
   "source": [
    "# 정답값으로 사용할 topic_idx 를 변수에 담아 재사용 합니다.\n",
    "label_name = \"file_encoded\"\n",
    "y_train = train[label_name]\n",
    "y_train"
   ]
  },
  {
   "cell_type": "code",
   "execution_count": null,
   "id": "97081b24-c040-40db-8167-f7043cb51bd3",
   "metadata": {
    "id": "97081b24-c040-40db-8167-f7043cb51bd3",
    "outputId": "e4689eb6-6546-4b9b-c1d5-e335e948e8e4"
   },
   "outputs": [
    {
     "data": {
      "text/plain": [
       "0        0\n",
       "1        0\n",
       "2        0\n",
       "3        0\n",
       "4        0\n",
       "        ..\n",
       "40147    4\n",
       "40148    4\n",
       "40149    4\n",
       "40150    4\n",
       "40151    4\n",
       "Name: file_encoded, Length: 40152, dtype: int64"
      ]
     },
     "execution_count": 88,
     "metadata": {},
     "output_type": "execute_result"
    }
   ],
   "source": [
    "label_name = \"file_encoded\"\n",
    "y_test = test[label_name]\n",
    "y_test"
   ]
  },
  {
   "cell_type": "markdown",
   "id": "c2dd1afc-53fe-4cd3-93b6-c767658c89e7",
   "metadata": {
    "id": "c2dd1afc-53fe-4cd3-93b6-c767658c89e7"
   },
   "source": [
    "### RandomForest"
   ]
  },
  {
   "cell_type": "code",
   "execution_count": null,
   "id": "c3365b5a-4541-42d9-9af6-8976fe103081",
   "metadata": {
    "id": "c3365b5a-4541-42d9-9af6-8976fe103081",
    "outputId": "9bbbca26-c80d-46c6-a946-070ff3cd2870"
   },
   "outputs": [
    {
     "data": {
      "text/html": [
       "<style>#sk-container-id-6 {color: black;background-color: white;}#sk-container-id-6 pre{padding: 0;}#sk-container-id-6 div.sk-toggleable {background-color: white;}#sk-container-id-6 label.sk-toggleable__label {cursor: pointer;display: block;width: 100%;margin-bottom: 0;padding: 0.3em;box-sizing: border-box;text-align: center;}#sk-container-id-6 label.sk-toggleable__label-arrow:before {content: \"▸\";float: left;margin-right: 0.25em;color: #696969;}#sk-container-id-6 label.sk-toggleable__label-arrow:hover:before {color: black;}#sk-container-id-6 div.sk-estimator:hover label.sk-toggleable__label-arrow:before {color: black;}#sk-container-id-6 div.sk-toggleable__content {max-height: 0;max-width: 0;overflow: hidden;text-align: left;background-color: #f0f8ff;}#sk-container-id-6 div.sk-toggleable__content pre {margin: 0.2em;color: black;border-radius: 0.25em;background-color: #f0f8ff;}#sk-container-id-6 input.sk-toggleable__control:checked~div.sk-toggleable__content {max-height: 200px;max-width: 100%;overflow: auto;}#sk-container-id-6 input.sk-toggleable__control:checked~label.sk-toggleable__label-arrow:before {content: \"▾\";}#sk-container-id-6 div.sk-estimator input.sk-toggleable__control:checked~label.sk-toggleable__label {background-color: #d4ebff;}#sk-container-id-6 div.sk-label input.sk-toggleable__control:checked~label.sk-toggleable__label {background-color: #d4ebff;}#sk-container-id-6 input.sk-hidden--visually {border: 0;clip: rect(1px 1px 1px 1px);clip: rect(1px, 1px, 1px, 1px);height: 1px;margin: -1px;overflow: hidden;padding: 0;position: absolute;width: 1px;}#sk-container-id-6 div.sk-estimator {font-family: monospace;background-color: #f0f8ff;border: 1px dotted black;border-radius: 0.25em;box-sizing: border-box;margin-bottom: 0.5em;}#sk-container-id-6 div.sk-estimator:hover {background-color: #d4ebff;}#sk-container-id-6 div.sk-parallel-item::after {content: \"\";width: 100%;border-bottom: 1px solid gray;flex-grow: 1;}#sk-container-id-6 div.sk-label:hover label.sk-toggleable__label {background-color: #d4ebff;}#sk-container-id-6 div.sk-serial::before {content: \"\";position: absolute;border-left: 1px solid gray;box-sizing: border-box;top: 0;bottom: 0;left: 50%;z-index: 0;}#sk-container-id-6 div.sk-serial {display: flex;flex-direction: column;align-items: center;background-color: white;padding-right: 0.2em;padding-left: 0.2em;position: relative;}#sk-container-id-6 div.sk-item {position: relative;z-index: 1;}#sk-container-id-6 div.sk-parallel {display: flex;align-items: stretch;justify-content: center;background-color: white;position: relative;}#sk-container-id-6 div.sk-item::before, #sk-container-id-6 div.sk-parallel-item::before {content: \"\";position: absolute;border-left: 1px solid gray;box-sizing: border-box;top: 0;bottom: 0;left: 50%;z-index: -1;}#sk-container-id-6 div.sk-parallel-item {display: flex;flex-direction: column;z-index: 1;position: relative;background-color: white;}#sk-container-id-6 div.sk-parallel-item:first-child::after {align-self: flex-end;width: 50%;}#sk-container-id-6 div.sk-parallel-item:last-child::after {align-self: flex-start;width: 50%;}#sk-container-id-6 div.sk-parallel-item:only-child::after {width: 0;}#sk-container-id-6 div.sk-dashed-wrapped {border: 1px dashed gray;margin: 0 0.4em 0.5em 0.4em;box-sizing: border-box;padding-bottom: 0.4em;background-color: white;}#sk-container-id-6 div.sk-label label {font-family: monospace;font-weight: bold;display: inline-block;line-height: 1.2em;}#sk-container-id-6 div.sk-label-container {text-align: center;}#sk-container-id-6 div.sk-container {/* jupyter's `normalize.less` sets `[hidden] { display: none; }` but bootstrap.min.css set `[hidden] { display: none !important; }` so we also need the `!important` here to be able to override the default hidden behavior on the sphinx rendered scikit-learn.org. See: https://github.com/scikit-learn/scikit-learn/issues/21755 */display: inline-block !important;position: relative;}#sk-container-id-6 div.sk-text-repr-fallback {display: none;}</style><div id=\"sk-container-id-6\" class=\"sk-top-container\"><div class=\"sk-text-repr-fallback\"><pre>RandomForestClassifier()</pre><b>In a Jupyter environment, please rerun this cell to show the HTML representation or trust the notebook. <br />On GitHub, the HTML representation is unable to render, please try loading this page with nbviewer.org.</b></div><div class=\"sk-container\" hidden><div class=\"sk-item\"><div class=\"sk-estimator sk-toggleable\"><input class=\"sk-toggleable__control sk-hidden--visually\" id=\"sk-estimator-id-6\" type=\"checkbox\" checked><label for=\"sk-estimator-id-6\" class=\"sk-toggleable__label sk-toggleable__label-arrow\">RandomForestClassifier</label><div class=\"sk-toggleable__content\"><pre>RandomForestClassifier()</pre></div></div></div></div></div>"
      ],
      "text/plain": [
       "RandomForestClassifier()"
      ]
     },
     "execution_count": 89,
     "metadata": {},
     "output_type": "execute_result"
    }
   ],
   "source": [
    "from tqdm import tqdm\n",
    "tqdm.pandas()  # 진행사항 보여줌\n",
    "\n",
    "from sklearn.ensemble import RandomForestClassifier\n",
    "\n",
    "rf = RandomForestClassifier()\n",
    "rf.fit(X_train, y_train)"
   ]
  },
  {
   "cell_type": "code",
   "execution_count": null,
   "id": "22d2da9f-9257-45bd-8f9a-6a9accc3a126",
   "metadata": {
    "id": "22d2da9f-9257-45bd-8f9a-6a9accc3a126",
    "outputId": "a711adf8-b3f1-4c9a-c9e4-8ef2b21abfc0"
   },
   "outputs": [
    {
     "name": "stdout",
     "output_type": "stream",
     "text": [
      "accuracy:  0.3993076310021917\n"
     ]
    }
   ],
   "source": [
    "from sklearn.metrics import accuracy_score\n",
    "\n",
    "from tqdm import tqdm\n",
    "tqdm.pandas()\n",
    "\n",
    "pred = rf.predict(X_test)\n",
    "accuracy = accuracy_score(y_test, pred)\n",
    "print(\"accuracy: \", accuracy)"
   ]
  },
  {
   "cell_type": "markdown",
   "id": "bf5a54b3-1731-408e-95fa-6f6eb99aa860",
   "metadata": {
    "id": "bf5a54b3-1731-408e-95fa-6f6eb99aa860"
   },
   "source": [
    "### DecisionTree"
   ]
  },
  {
   "cell_type": "code",
   "execution_count": null,
   "id": "3032078d-e40f-40d2-a525-3fd94078cd20",
   "metadata": {
    "id": "3032078d-e40f-40d2-a525-3fd94078cd20",
    "outputId": "fd864009-da33-40b5-a1f1-fb90d7ec981d"
   },
   "outputs": [
    {
     "data": {
      "text/html": [
       "<style>#sk-container-id-7 {color: black;background-color: white;}#sk-container-id-7 pre{padding: 0;}#sk-container-id-7 div.sk-toggleable {background-color: white;}#sk-container-id-7 label.sk-toggleable__label {cursor: pointer;display: block;width: 100%;margin-bottom: 0;padding: 0.3em;box-sizing: border-box;text-align: center;}#sk-container-id-7 label.sk-toggleable__label-arrow:before {content: \"▸\";float: left;margin-right: 0.25em;color: #696969;}#sk-container-id-7 label.sk-toggleable__label-arrow:hover:before {color: black;}#sk-container-id-7 div.sk-estimator:hover label.sk-toggleable__label-arrow:before {color: black;}#sk-container-id-7 div.sk-toggleable__content {max-height: 0;max-width: 0;overflow: hidden;text-align: left;background-color: #f0f8ff;}#sk-container-id-7 div.sk-toggleable__content pre {margin: 0.2em;color: black;border-radius: 0.25em;background-color: #f0f8ff;}#sk-container-id-7 input.sk-toggleable__control:checked~div.sk-toggleable__content {max-height: 200px;max-width: 100%;overflow: auto;}#sk-container-id-7 input.sk-toggleable__control:checked~label.sk-toggleable__label-arrow:before {content: \"▾\";}#sk-container-id-7 div.sk-estimator input.sk-toggleable__control:checked~label.sk-toggleable__label {background-color: #d4ebff;}#sk-container-id-7 div.sk-label input.sk-toggleable__control:checked~label.sk-toggleable__label {background-color: #d4ebff;}#sk-container-id-7 input.sk-hidden--visually {border: 0;clip: rect(1px 1px 1px 1px);clip: rect(1px, 1px, 1px, 1px);height: 1px;margin: -1px;overflow: hidden;padding: 0;position: absolute;width: 1px;}#sk-container-id-7 div.sk-estimator {font-family: monospace;background-color: #f0f8ff;border: 1px dotted black;border-radius: 0.25em;box-sizing: border-box;margin-bottom: 0.5em;}#sk-container-id-7 div.sk-estimator:hover {background-color: #d4ebff;}#sk-container-id-7 div.sk-parallel-item::after {content: \"\";width: 100%;border-bottom: 1px solid gray;flex-grow: 1;}#sk-container-id-7 div.sk-label:hover label.sk-toggleable__label {background-color: #d4ebff;}#sk-container-id-7 div.sk-serial::before {content: \"\";position: absolute;border-left: 1px solid gray;box-sizing: border-box;top: 0;bottom: 0;left: 50%;z-index: 0;}#sk-container-id-7 div.sk-serial {display: flex;flex-direction: column;align-items: center;background-color: white;padding-right: 0.2em;padding-left: 0.2em;position: relative;}#sk-container-id-7 div.sk-item {position: relative;z-index: 1;}#sk-container-id-7 div.sk-parallel {display: flex;align-items: stretch;justify-content: center;background-color: white;position: relative;}#sk-container-id-7 div.sk-item::before, #sk-container-id-7 div.sk-parallel-item::before {content: \"\";position: absolute;border-left: 1px solid gray;box-sizing: border-box;top: 0;bottom: 0;left: 50%;z-index: -1;}#sk-container-id-7 div.sk-parallel-item {display: flex;flex-direction: column;z-index: 1;position: relative;background-color: white;}#sk-container-id-7 div.sk-parallel-item:first-child::after {align-self: flex-end;width: 50%;}#sk-container-id-7 div.sk-parallel-item:last-child::after {align-self: flex-start;width: 50%;}#sk-container-id-7 div.sk-parallel-item:only-child::after {width: 0;}#sk-container-id-7 div.sk-dashed-wrapped {border: 1px dashed gray;margin: 0 0.4em 0.5em 0.4em;box-sizing: border-box;padding-bottom: 0.4em;background-color: white;}#sk-container-id-7 div.sk-label label {font-family: monospace;font-weight: bold;display: inline-block;line-height: 1.2em;}#sk-container-id-7 div.sk-label-container {text-align: center;}#sk-container-id-7 div.sk-container {/* jupyter's `normalize.less` sets `[hidden] { display: none; }` but bootstrap.min.css set `[hidden] { display: none !important; }` so we also need the `!important` here to be able to override the default hidden behavior on the sphinx rendered scikit-learn.org. See: https://github.com/scikit-learn/scikit-learn/issues/21755 */display: inline-block !important;position: relative;}#sk-container-id-7 div.sk-text-repr-fallback {display: none;}</style><div id=\"sk-container-id-7\" class=\"sk-top-container\"><div class=\"sk-text-repr-fallback\"><pre>DecisionTreeClassifier(random_state=0)</pre><b>In a Jupyter environment, please rerun this cell to show the HTML representation or trust the notebook. <br />On GitHub, the HTML representation is unable to render, please try loading this page with nbviewer.org.</b></div><div class=\"sk-container\" hidden><div class=\"sk-item\"><div class=\"sk-estimator sk-toggleable\"><input class=\"sk-toggleable__control sk-hidden--visually\" id=\"sk-estimator-id-7\" type=\"checkbox\" checked><label for=\"sk-estimator-id-7\" class=\"sk-toggleable__label sk-toggleable__label-arrow\">DecisionTreeClassifier</label><div class=\"sk-toggleable__content\"><pre>DecisionTreeClassifier(random_state=0)</pre></div></div></div></div></div>"
      ],
      "text/plain": [
       "DecisionTreeClassifier(random_state=0)"
      ]
     },
     "execution_count": 91,
     "metadata": {},
     "output_type": "execute_result"
    }
   ],
   "source": [
    "from sklearn.tree import DecisionTreeClassifier\n",
    "tree = DecisionTreeClassifier(random_state=0)\n",
    "tree.fit(X_train, y_train)"
   ]
  },
  {
   "cell_type": "code",
   "execution_count": null,
   "id": "20cab33c-268a-45d9-a7d3-7381ad0fbbe1",
   "metadata": {
    "id": "20cab33c-268a-45d9-a7d3-7381ad0fbbe1",
    "outputId": "5602c2df-100d-4aa7-a8e1-5875ac250072"
   },
   "outputs": [
    {
     "name": "stdout",
     "output_type": "stream",
     "text": [
      "accuracy:  0.3747509464036661\n"
     ]
    }
   ],
   "source": [
    "from sklearn.metrics import accuracy_score\n",
    "\n",
    "from tqdm import tqdm\n",
    "tqdm.pandas()\n",
    "\n",
    "pred = tree.predict(X_test)\n",
    "accuracy = accuracy_score(y_test, pred)\n",
    "print(\"accuracy: \", accuracy)"
   ]
  },
  {
   "cell_type": "code",
   "execution_count": null,
   "id": "1ae73a33-14a9-411b-a9d8-7a8b7f39a07a",
   "metadata": {
    "id": "1ae73a33-14a9-411b-a9d8-7a8b7f39a07a",
    "outputId": "d4c4f877-1ea4-4a8d-c12c-8ec919434efb"
   },
   "outputs": [
    {
     "name": "stdout",
     "output_type": "stream",
     "text": [
      "              precision    recall  f1-score   support\n",
      "\n",
      "           0       0.48      0.37      0.42      9450\n",
      "           1       0.28      0.69      0.39      5559\n",
      "           2       0.30      0.21      0.25      8186\n",
      "           3       0.52      0.37      0.43      7900\n",
      "           4       0.40      0.35      0.37      9057\n",
      "\n",
      "    accuracy                           0.37     40152\n",
      "   macro avg       0.40      0.40      0.37     40152\n",
      "weighted avg       0.41      0.37      0.37     40152\n",
      "\n"
     ]
    }
   ],
   "source": [
    "from sklearn.metrics import classification_report\n",
    "print(classification_report(y_test, pred))"
   ]
  },
  {
   "cell_type": "code",
   "execution_count": null,
   "id": "a13789c4-b02d-47ea-ba4c-161875067081",
   "metadata": {
    "id": "a13789c4-b02d-47ea-ba4c-161875067081",
    "outputId": "70c875db-6a2b-4f0c-be64-0c80bbb47e5f"
   },
   "outputs": [
    {
     "data": {
      "text/plain": [
       "0.38897197635361425"
      ]
     },
     "execution_count": 98,
     "metadata": {},
     "output_type": "execute_result"
    }
   ],
   "source": [
    "# cross_validation\n",
    "from sklearn.model_selection import cross_val_score\n",
    "scores = cross_val_score(tree, X_test, y_test, cv=10)\n",
    "scores.mean()"
   ]
  },
  {
   "cell_type": "markdown",
   "id": "e27307e3-bd74-455c-8354-074bc0cfbf49",
   "metadata": {
    "id": "e27307e3-bd74-455c-8354-074bc0cfbf49"
   },
   "source": [
    "### MLPClassifier"
   ]
  },
  {
   "cell_type": "code",
   "execution_count": null,
   "id": "7ec53260-959a-4017-ba40-44148bb8438c",
   "metadata": {
    "id": "7ec53260-959a-4017-ba40-44148bb8438c",
    "outputId": "0072c9a5-9762-48be-f0f1-859f827bff68"
   },
   "outputs": [
    {
     "name": "stderr",
     "output_type": "stream",
     "text": [
      "C:\\Users\\KOSA\\anaconda3\\Lib\\site-packages\\sklearn\\neural_network\\_multilayer_perceptron.py:686: ConvergenceWarning: Stochastic Optimizer: Maximum iterations (200) reached and the optimization hasn't converged yet.\n",
      "  warnings.warn(\n"
     ]
    },
    {
     "data": {
      "text/html": [
       "<style>#sk-container-id-8 {color: black;background-color: white;}#sk-container-id-8 pre{padding: 0;}#sk-container-id-8 div.sk-toggleable {background-color: white;}#sk-container-id-8 label.sk-toggleable__label {cursor: pointer;display: block;width: 100%;margin-bottom: 0;padding: 0.3em;box-sizing: border-box;text-align: center;}#sk-container-id-8 label.sk-toggleable__label-arrow:before {content: \"▸\";float: left;margin-right: 0.25em;color: #696969;}#sk-container-id-8 label.sk-toggleable__label-arrow:hover:before {color: black;}#sk-container-id-8 div.sk-estimator:hover label.sk-toggleable__label-arrow:before {color: black;}#sk-container-id-8 div.sk-toggleable__content {max-height: 0;max-width: 0;overflow: hidden;text-align: left;background-color: #f0f8ff;}#sk-container-id-8 div.sk-toggleable__content pre {margin: 0.2em;color: black;border-radius: 0.25em;background-color: #f0f8ff;}#sk-container-id-8 input.sk-toggleable__control:checked~div.sk-toggleable__content {max-height: 200px;max-width: 100%;overflow: auto;}#sk-container-id-8 input.sk-toggleable__control:checked~label.sk-toggleable__label-arrow:before {content: \"▾\";}#sk-container-id-8 div.sk-estimator input.sk-toggleable__control:checked~label.sk-toggleable__label {background-color: #d4ebff;}#sk-container-id-8 div.sk-label input.sk-toggleable__control:checked~label.sk-toggleable__label {background-color: #d4ebff;}#sk-container-id-8 input.sk-hidden--visually {border: 0;clip: rect(1px 1px 1px 1px);clip: rect(1px, 1px, 1px, 1px);height: 1px;margin: -1px;overflow: hidden;padding: 0;position: absolute;width: 1px;}#sk-container-id-8 div.sk-estimator {font-family: monospace;background-color: #f0f8ff;border: 1px dotted black;border-radius: 0.25em;box-sizing: border-box;margin-bottom: 0.5em;}#sk-container-id-8 div.sk-estimator:hover {background-color: #d4ebff;}#sk-container-id-8 div.sk-parallel-item::after {content: \"\";width: 100%;border-bottom: 1px solid gray;flex-grow: 1;}#sk-container-id-8 div.sk-label:hover label.sk-toggleable__label {background-color: #d4ebff;}#sk-container-id-8 div.sk-serial::before {content: \"\";position: absolute;border-left: 1px solid gray;box-sizing: border-box;top: 0;bottom: 0;left: 50%;z-index: 0;}#sk-container-id-8 div.sk-serial {display: flex;flex-direction: column;align-items: center;background-color: white;padding-right: 0.2em;padding-left: 0.2em;position: relative;}#sk-container-id-8 div.sk-item {position: relative;z-index: 1;}#sk-container-id-8 div.sk-parallel {display: flex;align-items: stretch;justify-content: center;background-color: white;position: relative;}#sk-container-id-8 div.sk-item::before, #sk-container-id-8 div.sk-parallel-item::before {content: \"\";position: absolute;border-left: 1px solid gray;box-sizing: border-box;top: 0;bottom: 0;left: 50%;z-index: -1;}#sk-container-id-8 div.sk-parallel-item {display: flex;flex-direction: column;z-index: 1;position: relative;background-color: white;}#sk-container-id-8 div.sk-parallel-item:first-child::after {align-self: flex-end;width: 50%;}#sk-container-id-8 div.sk-parallel-item:last-child::after {align-self: flex-start;width: 50%;}#sk-container-id-8 div.sk-parallel-item:only-child::after {width: 0;}#sk-container-id-8 div.sk-dashed-wrapped {border: 1px dashed gray;margin: 0 0.4em 0.5em 0.4em;box-sizing: border-box;padding-bottom: 0.4em;background-color: white;}#sk-container-id-8 div.sk-label label {font-family: monospace;font-weight: bold;display: inline-block;line-height: 1.2em;}#sk-container-id-8 div.sk-label-container {text-align: center;}#sk-container-id-8 div.sk-container {/* jupyter's `normalize.less` sets `[hidden] { display: none; }` but bootstrap.min.css set `[hidden] { display: none !important; }` so we also need the `!important` here to be able to override the default hidden behavior on the sphinx rendered scikit-learn.org. See: https://github.com/scikit-learn/scikit-learn/issues/21755 */display: inline-block !important;position: relative;}#sk-container-id-8 div.sk-text-repr-fallback {display: none;}</style><div id=\"sk-container-id-8\" class=\"sk-top-container\"><div class=\"sk-text-repr-fallback\"><pre>MLPClassifier()</pre><b>In a Jupyter environment, please rerun this cell to show the HTML representation or trust the notebook. <br />On GitHub, the HTML representation is unable to render, please try loading this page with nbviewer.org.</b></div><div class=\"sk-container\" hidden><div class=\"sk-item\"><div class=\"sk-estimator sk-toggleable\"><input class=\"sk-toggleable__control sk-hidden--visually\" id=\"sk-estimator-id-8\" type=\"checkbox\" checked><label for=\"sk-estimator-id-8\" class=\"sk-toggleable__label sk-toggleable__label-arrow\">MLPClassifier</label><div class=\"sk-toggleable__content\"><pre>MLPClassifier()</pre></div></div></div></div></div>"
      ],
      "text/plain": [
       "MLPClassifier()"
      ]
     },
     "execution_count": 101,
     "metadata": {},
     "output_type": "execute_result"
    }
   ],
   "source": [
    "from sklearn.neural_network import MLPClassifier\n",
    "mlp_model = MLPClassifier()\n",
    "mlp_model.fit(X_train, y_train)"
   ]
  },
  {
   "cell_type": "code",
   "execution_count": null,
   "id": "f1f2e055-cd91-4ec5-aec1-ccf19bb85fd1",
   "metadata": {
    "id": "f1f2e055-cd91-4ec5-aec1-ccf19bb85fd1",
    "outputId": "cb7ea674-258f-4876-f9d9-3d23e69437cb"
   },
   "outputs": [
    {
     "name": "stdout",
     "output_type": "stream",
     "text": [
      "accuracy:  0.39514843594341503\n"
     ]
    }
   ],
   "source": [
    "pred = mlp_model.predict(X_test)\n",
    "accuracy = accuracy_score(y_test, pred)\n",
    "print(\"accuracy: \", accuracy)"
   ]
  },
  {
   "cell_type": "code",
   "execution_count": null,
   "id": "da60963a-d01c-4f0b-8b70-c039ba355a1c",
   "metadata": {
    "id": "da60963a-d01c-4f0b-8b70-c039ba355a1c",
    "outputId": "9b0a3f3e-1a39-4d3b-fd9b-7ef633a9dcbc"
   },
   "outputs": [
    {
     "name": "stdout",
     "output_type": "stream",
     "text": [
      "              precision    recall  f1-score   support\n",
      "\n",
      "           0       0.53      0.39      0.45      9450\n",
      "           1       0.29      0.66      0.40      5559\n",
      "           2       0.31      0.26      0.28      8186\n",
      "           3       0.54      0.37      0.44      7900\n",
      "           4       0.42      0.38      0.40      9057\n",
      "\n",
      "    accuracy                           0.40     40152\n",
      "   macro avg       0.42      0.41      0.40     40152\n",
      "weighted avg       0.43      0.40      0.40     40152\n",
      "\n"
     ]
    }
   ],
   "source": [
    "from sklearn.metrics import classification_report\n",
    "print(classification_report(y_test, pred))"
   ]
  },
  {
   "cell_type": "markdown",
   "id": "98372327-04a7-494d-a13f-3e019f35e82b",
   "metadata": {
    "id": "98372327-04a7-494d-a13f-3e019f35e82b"
   },
   "source": [
    "### SVC"
   ]
  },
  {
   "cell_type": "code",
   "execution_count": null,
   "id": "3188587b-6402-4ce5-a8e8-35dbfc0f89b4",
   "metadata": {
    "id": "3188587b-6402-4ce5-a8e8-35dbfc0f89b4",
    "outputId": "baea07e3-ecae-4563-bbf3-618fabe3dfc3"
   },
   "outputs": [
    {
     "data": {
      "text/html": [
       "<style>#sk-container-id-9 {color: black;background-color: white;}#sk-container-id-9 pre{padding: 0;}#sk-container-id-9 div.sk-toggleable {background-color: white;}#sk-container-id-9 label.sk-toggleable__label {cursor: pointer;display: block;width: 100%;margin-bottom: 0;padding: 0.3em;box-sizing: border-box;text-align: center;}#sk-container-id-9 label.sk-toggleable__label-arrow:before {content: \"▸\";float: left;margin-right: 0.25em;color: #696969;}#sk-container-id-9 label.sk-toggleable__label-arrow:hover:before {color: black;}#sk-container-id-9 div.sk-estimator:hover label.sk-toggleable__label-arrow:before {color: black;}#sk-container-id-9 div.sk-toggleable__content {max-height: 0;max-width: 0;overflow: hidden;text-align: left;background-color: #f0f8ff;}#sk-container-id-9 div.sk-toggleable__content pre {margin: 0.2em;color: black;border-radius: 0.25em;background-color: #f0f8ff;}#sk-container-id-9 input.sk-toggleable__control:checked~div.sk-toggleable__content {max-height: 200px;max-width: 100%;overflow: auto;}#sk-container-id-9 input.sk-toggleable__control:checked~label.sk-toggleable__label-arrow:before {content: \"▾\";}#sk-container-id-9 div.sk-estimator input.sk-toggleable__control:checked~label.sk-toggleable__label {background-color: #d4ebff;}#sk-container-id-9 div.sk-label input.sk-toggleable__control:checked~label.sk-toggleable__label {background-color: #d4ebff;}#sk-container-id-9 input.sk-hidden--visually {border: 0;clip: rect(1px 1px 1px 1px);clip: rect(1px, 1px, 1px, 1px);height: 1px;margin: -1px;overflow: hidden;padding: 0;position: absolute;width: 1px;}#sk-container-id-9 div.sk-estimator {font-family: monospace;background-color: #f0f8ff;border: 1px dotted black;border-radius: 0.25em;box-sizing: border-box;margin-bottom: 0.5em;}#sk-container-id-9 div.sk-estimator:hover {background-color: #d4ebff;}#sk-container-id-9 div.sk-parallel-item::after {content: \"\";width: 100%;border-bottom: 1px solid gray;flex-grow: 1;}#sk-container-id-9 div.sk-label:hover label.sk-toggleable__label {background-color: #d4ebff;}#sk-container-id-9 div.sk-serial::before {content: \"\";position: absolute;border-left: 1px solid gray;box-sizing: border-box;top: 0;bottom: 0;left: 50%;z-index: 0;}#sk-container-id-9 div.sk-serial {display: flex;flex-direction: column;align-items: center;background-color: white;padding-right: 0.2em;padding-left: 0.2em;position: relative;}#sk-container-id-9 div.sk-item {position: relative;z-index: 1;}#sk-container-id-9 div.sk-parallel {display: flex;align-items: stretch;justify-content: center;background-color: white;position: relative;}#sk-container-id-9 div.sk-item::before, #sk-container-id-9 div.sk-parallel-item::before {content: \"\";position: absolute;border-left: 1px solid gray;box-sizing: border-box;top: 0;bottom: 0;left: 50%;z-index: -1;}#sk-container-id-9 div.sk-parallel-item {display: flex;flex-direction: column;z-index: 1;position: relative;background-color: white;}#sk-container-id-9 div.sk-parallel-item:first-child::after {align-self: flex-end;width: 50%;}#sk-container-id-9 div.sk-parallel-item:last-child::after {align-self: flex-start;width: 50%;}#sk-container-id-9 div.sk-parallel-item:only-child::after {width: 0;}#sk-container-id-9 div.sk-dashed-wrapped {border: 1px dashed gray;margin: 0 0.4em 0.5em 0.4em;box-sizing: border-box;padding-bottom: 0.4em;background-color: white;}#sk-container-id-9 div.sk-label label {font-family: monospace;font-weight: bold;display: inline-block;line-height: 1.2em;}#sk-container-id-9 div.sk-label-container {text-align: center;}#sk-container-id-9 div.sk-container {/* jupyter's `normalize.less` sets `[hidden] { display: none; }` but bootstrap.min.css set `[hidden] { display: none !important; }` so we also need the `!important` here to be able to override the default hidden behavior on the sphinx rendered scikit-learn.org. See: https://github.com/scikit-learn/scikit-learn/issues/21755 */display: inline-block !important;position: relative;}#sk-container-id-9 div.sk-text-repr-fallback {display: none;}</style><div id=\"sk-container-id-9\" class=\"sk-top-container\"><div class=\"sk-text-repr-fallback\"><pre>SVC()</pre><b>In a Jupyter environment, please rerun this cell to show the HTML representation or trust the notebook. <br />On GitHub, the HTML representation is unable to render, please try loading this page with nbviewer.org.</b></div><div class=\"sk-container\" hidden><div class=\"sk-item\"><div class=\"sk-estimator sk-toggleable\"><input class=\"sk-toggleable__control sk-hidden--visually\" id=\"sk-estimator-id-9\" type=\"checkbox\" checked><label for=\"sk-estimator-id-9\" class=\"sk-toggleable__label sk-toggleable__label-arrow\">SVC</label><div class=\"sk-toggleable__content\"><pre>SVC()</pre></div></div></div></div></div>"
      ],
      "text/plain": [
       "SVC()"
      ]
     },
     "execution_count": 107,
     "metadata": {},
     "output_type": "execute_result"
    }
   ],
   "source": [
    "from sklearn.svm import SVC\n",
    "svc_model = SVC()\n",
    "svc_model.fit(X_train, y_train)"
   ]
  },
  {
   "cell_type": "code",
   "execution_count": null,
   "id": "6c183864-2688-42d5-99ee-36de8a0dc74b",
   "metadata": {
    "id": "6c183864-2688-42d5-99ee-36de8a0dc74b",
    "outputId": "d45e3e3e-61c1-482a-8668-920205a8f2fa"
   },
   "outputs": [
    {
     "name": "stdout",
     "output_type": "stream",
     "text": [
      "accuracy:  0.4263050408447898\n"
     ]
    }
   ],
   "source": [
    "pred = svc_model.predict(X_test)\n",
    "accuracy = accuracy_score(y_test, pred)\n",
    "print(\"accuracy: \", accuracy)"
   ]
  },
  {
   "cell_type": "code",
   "execution_count": null,
   "id": "649ffeda-d1ba-406e-b402-489039eff9b7",
   "metadata": {
    "id": "649ffeda-d1ba-406e-b402-489039eff9b7",
    "outputId": "d831232c-b8a5-4ca1-eb43-37a42f9d159a"
   },
   "outputs": [
    {
     "name": "stdout",
     "output_type": "stream",
     "text": [
      "              precision    recall  f1-score   support\n",
      "\n",
      "           0       0.58      0.43      0.49      9450\n",
      "           1       0.30      0.69      0.41      5559\n",
      "           2       0.35      0.23      0.28      8186\n",
      "           3       0.58      0.38      0.46      7900\n",
      "           4       0.46      0.47      0.46      9057\n",
      "\n",
      "    accuracy                           0.43     40152\n",
      "   macro avg       0.45      0.44      0.42     40152\n",
      "weighted avg       0.46      0.43      0.43     40152\n",
      "\n"
     ]
    }
   ],
   "source": [
    "from sklearn.metrics import classification_report\n",
    "print(classification_report(y_test, pred))"
   ]
  },
  {
   "cell_type": "markdown",
   "id": "22d0172f-7005-46cc-ae22-92a7105bf6d7",
   "metadata": {
    "id": "22d0172f-7005-46cc-ae22-92a7105bf6d7"
   },
   "source": [
    "### xgboost"
   ]
  },
  {
   "cell_type": "code",
   "execution_count": null,
   "id": "b069d652-c204-4c3f-963b-6311bb149b60",
   "metadata": {
    "id": "b069d652-c204-4c3f-963b-6311bb149b60",
    "outputId": "8391cb33-629d-488f-ed98-35252f967bf8"
   },
   "outputs": [
    {
     "name": "stdout",
     "output_type": "stream",
     "text": [
      "Requirement already satisfied: xgboost in c:\\users\\kosa\\anaconda3\\lib\\site-packages (2.0.3)\n",
      "Requirement already satisfied: numpy in c:\\users\\kosa\\anaconda3\\lib\\site-packages (from xgboost) (1.26.4)\n",
      "Requirement already satisfied: scipy in c:\\users\\kosa\\anaconda3\\lib\\site-packages (from xgboost) (1.11.4)\n"
     ]
    }
   ],
   "source": [
    "!pip install xgboost"
   ]
  },
  {
   "cell_type": "code",
   "execution_count": null,
   "id": "909aa6e2-7ed6-4b95-92e9-b5412550962b",
   "metadata": {
    "id": "909aa6e2-7ed6-4b95-92e9-b5412550962b",
    "outputId": "48ac4ebf-527d-45fd-a127-a540afb38983"
   },
   "outputs": [
    {
     "data": {
      "text/html": [
       "<style>#sk-container-id-10 {color: black;background-color: white;}#sk-container-id-10 pre{padding: 0;}#sk-container-id-10 div.sk-toggleable {background-color: white;}#sk-container-id-10 label.sk-toggleable__label {cursor: pointer;display: block;width: 100%;margin-bottom: 0;padding: 0.3em;box-sizing: border-box;text-align: center;}#sk-container-id-10 label.sk-toggleable__label-arrow:before {content: \"▸\";float: left;margin-right: 0.25em;color: #696969;}#sk-container-id-10 label.sk-toggleable__label-arrow:hover:before {color: black;}#sk-container-id-10 div.sk-estimator:hover label.sk-toggleable__label-arrow:before {color: black;}#sk-container-id-10 div.sk-toggleable__content {max-height: 0;max-width: 0;overflow: hidden;text-align: left;background-color: #f0f8ff;}#sk-container-id-10 div.sk-toggleable__content pre {margin: 0.2em;color: black;border-radius: 0.25em;background-color: #f0f8ff;}#sk-container-id-10 input.sk-toggleable__control:checked~div.sk-toggleable__content {max-height: 200px;max-width: 100%;overflow: auto;}#sk-container-id-10 input.sk-toggleable__control:checked~label.sk-toggleable__label-arrow:before {content: \"▾\";}#sk-container-id-10 div.sk-estimator input.sk-toggleable__control:checked~label.sk-toggleable__label {background-color: #d4ebff;}#sk-container-id-10 div.sk-label input.sk-toggleable__control:checked~label.sk-toggleable__label {background-color: #d4ebff;}#sk-container-id-10 input.sk-hidden--visually {border: 0;clip: rect(1px 1px 1px 1px);clip: rect(1px, 1px, 1px, 1px);height: 1px;margin: -1px;overflow: hidden;padding: 0;position: absolute;width: 1px;}#sk-container-id-10 div.sk-estimator {font-family: monospace;background-color: #f0f8ff;border: 1px dotted black;border-radius: 0.25em;box-sizing: border-box;margin-bottom: 0.5em;}#sk-container-id-10 div.sk-estimator:hover {background-color: #d4ebff;}#sk-container-id-10 div.sk-parallel-item::after {content: \"\";width: 100%;border-bottom: 1px solid gray;flex-grow: 1;}#sk-container-id-10 div.sk-label:hover label.sk-toggleable__label {background-color: #d4ebff;}#sk-container-id-10 div.sk-serial::before {content: \"\";position: absolute;border-left: 1px solid gray;box-sizing: border-box;top: 0;bottom: 0;left: 50%;z-index: 0;}#sk-container-id-10 div.sk-serial {display: flex;flex-direction: column;align-items: center;background-color: white;padding-right: 0.2em;padding-left: 0.2em;position: relative;}#sk-container-id-10 div.sk-item {position: relative;z-index: 1;}#sk-container-id-10 div.sk-parallel {display: flex;align-items: stretch;justify-content: center;background-color: white;position: relative;}#sk-container-id-10 div.sk-item::before, #sk-container-id-10 div.sk-parallel-item::before {content: \"\";position: absolute;border-left: 1px solid gray;box-sizing: border-box;top: 0;bottom: 0;left: 50%;z-index: -1;}#sk-container-id-10 div.sk-parallel-item {display: flex;flex-direction: column;z-index: 1;position: relative;background-color: white;}#sk-container-id-10 div.sk-parallel-item:first-child::after {align-self: flex-end;width: 50%;}#sk-container-id-10 div.sk-parallel-item:last-child::after {align-self: flex-start;width: 50%;}#sk-container-id-10 div.sk-parallel-item:only-child::after {width: 0;}#sk-container-id-10 div.sk-dashed-wrapped {border: 1px dashed gray;margin: 0 0.4em 0.5em 0.4em;box-sizing: border-box;padding-bottom: 0.4em;background-color: white;}#sk-container-id-10 div.sk-label label {font-family: monospace;font-weight: bold;display: inline-block;line-height: 1.2em;}#sk-container-id-10 div.sk-label-container {text-align: center;}#sk-container-id-10 div.sk-container {/* jupyter's `normalize.less` sets `[hidden] { display: none; }` but bootstrap.min.css set `[hidden] { display: none !important; }` so we also need the `!important` here to be able to override the default hidden behavior on the sphinx rendered scikit-learn.org. See: https://github.com/scikit-learn/scikit-learn/issues/21755 */display: inline-block !important;position: relative;}#sk-container-id-10 div.sk-text-repr-fallback {display: none;}</style><div id=\"sk-container-id-10\" class=\"sk-top-container\"><div class=\"sk-text-repr-fallback\"><pre>XGBClassifier(base_score=None, booster=None, callbacks=None,\n",
       "              colsample_bylevel=None, colsample_bynode=None,\n",
       "              colsample_bytree=None, device=None, early_stopping_rounds=None,\n",
       "              enable_categorical=False, eval_metric=None, feature_types=None,\n",
       "              gamma=None, grow_policy=None, importance_type=None,\n",
       "              interaction_constraints=None, learning_rate=None, max_bin=None,\n",
       "              max_cat_threshold=None, max_cat_to_onehot=None,\n",
       "              max_delta_step=None, max_depth=None, max_leaves=None,\n",
       "              min_child_weight=None, missing=nan, monotone_constraints=None,\n",
       "              multi_strategy=None, n_estimators=None, n_jobs=None,\n",
       "              num_parallel_tree=None, objective=&#x27;multi:softprob&#x27;, ...)</pre><b>In a Jupyter environment, please rerun this cell to show the HTML representation or trust the notebook. <br />On GitHub, the HTML representation is unable to render, please try loading this page with nbviewer.org.</b></div><div class=\"sk-container\" hidden><div class=\"sk-item\"><div class=\"sk-estimator sk-toggleable\"><input class=\"sk-toggleable__control sk-hidden--visually\" id=\"sk-estimator-id-10\" type=\"checkbox\" checked><label for=\"sk-estimator-id-10\" class=\"sk-toggleable__label sk-toggleable__label-arrow\">XGBClassifier</label><div class=\"sk-toggleable__content\"><pre>XGBClassifier(base_score=None, booster=None, callbacks=None,\n",
       "              colsample_bylevel=None, colsample_bynode=None,\n",
       "              colsample_bytree=None, device=None, early_stopping_rounds=None,\n",
       "              enable_categorical=False, eval_metric=None, feature_types=None,\n",
       "              gamma=None, grow_policy=None, importance_type=None,\n",
       "              interaction_constraints=None, learning_rate=None, max_bin=None,\n",
       "              max_cat_threshold=None, max_cat_to_onehot=None,\n",
       "              max_delta_step=None, max_depth=None, max_leaves=None,\n",
       "              min_child_weight=None, missing=nan, monotone_constraints=None,\n",
       "              multi_strategy=None, n_estimators=None, n_jobs=None,\n",
       "              num_parallel_tree=None, objective=&#x27;multi:softprob&#x27;, ...)</pre></div></div></div></div></div>"
      ],
      "text/plain": [
       "XGBClassifier(base_score=None, booster=None, callbacks=None,\n",
       "              colsample_bylevel=None, colsample_bynode=None,\n",
       "              colsample_bytree=None, device=None, early_stopping_rounds=None,\n",
       "              enable_categorical=False, eval_metric=None, feature_types=None,\n",
       "              gamma=None, grow_policy=None, importance_type=None,\n",
       "              interaction_constraints=None, learning_rate=None, max_bin=None,\n",
       "              max_cat_threshold=None, max_cat_to_onehot=None,\n",
       "              max_delta_step=None, max_depth=None, max_leaves=None,\n",
       "              min_child_weight=None, missing=nan, monotone_constraints=None,\n",
       "              multi_strategy=None, n_estimators=None, n_jobs=None,\n",
       "              num_parallel_tree=None, objective='multi:softprob', ...)"
      ]
     },
     "execution_count": 112,
     "metadata": {},
     "output_type": "execute_result"
    }
   ],
   "source": [
    "from xgboost import XGBClassifier\n",
    "xgb_model = XGBClassifier()\n",
    "xgb_model.fit(X_train, y_train)"
   ]
  },
  {
   "cell_type": "code",
   "execution_count": null,
   "id": "f655fcd6-196d-4733-8e5c-77f4979ccdd1",
   "metadata": {
    "id": "f655fcd6-196d-4733-8e5c-77f4979ccdd1",
    "outputId": "1faca002-41fa-41a7-9b13-389d32310744"
   },
   "outputs": [
    {
     "name": "stdout",
     "output_type": "stream",
     "text": [
      "accuracy:  0.4180115560868699\n"
     ]
    }
   ],
   "source": [
    "pred = xgb_model.predict(X_test)\n",
    "accuracy = accuracy_score(y_test, pred)\n",
    "print(\"accuracy: \", accuracy)"
   ]
  },
  {
   "cell_type": "code",
   "execution_count": null,
   "id": "61d4b61b-0709-4ed5-8dc1-95df53092503",
   "metadata": {
    "id": "61d4b61b-0709-4ed5-8dc1-95df53092503",
    "outputId": "353c6d66-b618-412e-9634-886e724485ac"
   },
   "outputs": [
    {
     "name": "stdout",
     "output_type": "stream",
     "text": [
      "              precision    recall  f1-score   support\n",
      "\n",
      "           0       0.69      0.34      0.46      9450\n",
      "           1       0.45      0.29      0.35      5559\n",
      "           2       0.37      0.19      0.25      8186\n",
      "           3       0.34      0.84      0.48      7900\n",
      "           4       0.46      0.42      0.44      9057\n",
      "\n",
      "    accuracy                           0.42     40152\n",
      "   macro avg       0.46      0.41      0.40     40152\n",
      "weighted avg       0.47      0.42      0.40     40152\n",
      "\n"
     ]
    }
   ],
   "source": [
    "from sklearn.metrics import classification_report\n",
    "print(classification_report(y_test, pred))"
   ]
  },
  {
   "cell_type": "code",
   "execution_count": null,
   "id": "51835275-274d-414a-b8b7-1c2f89bba895",
   "metadata": {
    "id": "51835275-274d-414a-b8b7-1c2f89bba895"
   },
   "outputs": [],
   "source": [
    "### lightgbm"
   ]
  },
  {
   "cell_type": "code",
   "execution_count": null,
   "id": "7a046343-2d25-4ef6-a954-0148e7ce2ada",
   "metadata": {
    "id": "7a046343-2d25-4ef6-a954-0148e7ce2ada",
    "outputId": "5773ad50-1538-45a6-8d76-523b183c47c2"
   },
   "outputs": [
    {
     "name": "stdout",
     "output_type": "stream",
     "text": [
      "[LightGBM] [Info] Auto-choosing row-wise multi-threading, the overhead of testing was 0.072365 seconds.\n",
      "You can set `force_row_wise=true` to remove the overhead.\n",
      "And if memory is not enough, you can set `force_col_wise=true`.\n",
      "[LightGBM] [Info] Total Bins 41150\n",
      "[LightGBM] [Info] Number of data points in the train set: 100000, number of used features: 1543\n",
      "[LightGBM] [Info] Start training from score -1.609438\n",
      "[LightGBM] [Info] Start training from score -1.609438\n",
      "[LightGBM] [Info] Start training from score -1.609438\n",
      "[LightGBM] [Info] Start training from score -1.609438\n",
      "[LightGBM] [Info] Start training from score -1.609438\n"
     ]
    },
    {
     "data": {
      "text/html": [
       "<style>#sk-container-id-11 {color: black;background-color: white;}#sk-container-id-11 pre{padding: 0;}#sk-container-id-11 div.sk-toggleable {background-color: white;}#sk-container-id-11 label.sk-toggleable__label {cursor: pointer;display: block;width: 100%;margin-bottom: 0;padding: 0.3em;box-sizing: border-box;text-align: center;}#sk-container-id-11 label.sk-toggleable__label-arrow:before {content: \"▸\";float: left;margin-right: 0.25em;color: #696969;}#sk-container-id-11 label.sk-toggleable__label-arrow:hover:before {color: black;}#sk-container-id-11 div.sk-estimator:hover label.sk-toggleable__label-arrow:before {color: black;}#sk-container-id-11 div.sk-toggleable__content {max-height: 0;max-width: 0;overflow: hidden;text-align: left;background-color: #f0f8ff;}#sk-container-id-11 div.sk-toggleable__content pre {margin: 0.2em;color: black;border-radius: 0.25em;background-color: #f0f8ff;}#sk-container-id-11 input.sk-toggleable__control:checked~div.sk-toggleable__content {max-height: 200px;max-width: 100%;overflow: auto;}#sk-container-id-11 input.sk-toggleable__control:checked~label.sk-toggleable__label-arrow:before {content: \"▾\";}#sk-container-id-11 div.sk-estimator input.sk-toggleable__control:checked~label.sk-toggleable__label {background-color: #d4ebff;}#sk-container-id-11 div.sk-label input.sk-toggleable__control:checked~label.sk-toggleable__label {background-color: #d4ebff;}#sk-container-id-11 input.sk-hidden--visually {border: 0;clip: rect(1px 1px 1px 1px);clip: rect(1px, 1px, 1px, 1px);height: 1px;margin: -1px;overflow: hidden;padding: 0;position: absolute;width: 1px;}#sk-container-id-11 div.sk-estimator {font-family: monospace;background-color: #f0f8ff;border: 1px dotted black;border-radius: 0.25em;box-sizing: border-box;margin-bottom: 0.5em;}#sk-container-id-11 div.sk-estimator:hover {background-color: #d4ebff;}#sk-container-id-11 div.sk-parallel-item::after {content: \"\";width: 100%;border-bottom: 1px solid gray;flex-grow: 1;}#sk-container-id-11 div.sk-label:hover label.sk-toggleable__label {background-color: #d4ebff;}#sk-container-id-11 div.sk-serial::before {content: \"\";position: absolute;border-left: 1px solid gray;box-sizing: border-box;top: 0;bottom: 0;left: 50%;z-index: 0;}#sk-container-id-11 div.sk-serial {display: flex;flex-direction: column;align-items: center;background-color: white;padding-right: 0.2em;padding-left: 0.2em;position: relative;}#sk-container-id-11 div.sk-item {position: relative;z-index: 1;}#sk-container-id-11 div.sk-parallel {display: flex;align-items: stretch;justify-content: center;background-color: white;position: relative;}#sk-container-id-11 div.sk-item::before, #sk-container-id-11 div.sk-parallel-item::before {content: \"\";position: absolute;border-left: 1px solid gray;box-sizing: border-box;top: 0;bottom: 0;left: 50%;z-index: -1;}#sk-container-id-11 div.sk-parallel-item {display: flex;flex-direction: column;z-index: 1;position: relative;background-color: white;}#sk-container-id-11 div.sk-parallel-item:first-child::after {align-self: flex-end;width: 50%;}#sk-container-id-11 div.sk-parallel-item:last-child::after {align-self: flex-start;width: 50%;}#sk-container-id-11 div.sk-parallel-item:only-child::after {width: 0;}#sk-container-id-11 div.sk-dashed-wrapped {border: 1px dashed gray;margin: 0 0.4em 0.5em 0.4em;box-sizing: border-box;padding-bottom: 0.4em;background-color: white;}#sk-container-id-11 div.sk-label label {font-family: monospace;font-weight: bold;display: inline-block;line-height: 1.2em;}#sk-container-id-11 div.sk-label-container {text-align: center;}#sk-container-id-11 div.sk-container {/* jupyter's `normalize.less` sets `[hidden] { display: none; }` but bootstrap.min.css set `[hidden] { display: none !important; }` so we also need the `!important` here to be able to override the default hidden behavior on the sphinx rendered scikit-learn.org. See: https://github.com/scikit-learn/scikit-learn/issues/21755 */display: inline-block !important;position: relative;}#sk-container-id-11 div.sk-text-repr-fallback {display: none;}</style><div id=\"sk-container-id-11\" class=\"sk-top-container\"><div class=\"sk-text-repr-fallback\"><pre>LGBMClassifier()</pre><b>In a Jupyter environment, please rerun this cell to show the HTML representation or trust the notebook. <br />On GitHub, the HTML representation is unable to render, please try loading this page with nbviewer.org.</b></div><div class=\"sk-container\" hidden><div class=\"sk-item\"><div class=\"sk-estimator sk-toggleable\"><input class=\"sk-toggleable__control sk-hidden--visually\" id=\"sk-estimator-id-11\" type=\"checkbox\" checked><label for=\"sk-estimator-id-11\" class=\"sk-toggleable__label sk-toggleable__label-arrow\">LGBMClassifier</label><div class=\"sk-toggleable__content\"><pre>LGBMClassifier()</pre></div></div></div></div></div>"
      ],
      "text/plain": [
       "LGBMClassifier()"
      ]
     },
     "execution_count": 115,
     "metadata": {},
     "output_type": "execute_result"
    }
   ],
   "source": [
    "from lightgbm import LGBMClassifier\n",
    "lgbm_model = LGBMClassifier()\n",
    "lgbm_model.fit(X_train, y_train)"
   ]
  },
  {
   "cell_type": "code",
   "execution_count": null,
   "id": "e534319d-2037-4297-b6f8-eabd73bc5d0e",
   "metadata": {
    "id": "e534319d-2037-4297-b6f8-eabd73bc5d0e",
    "outputId": "a7d66ea4-2140-4d61-cc03-3a395694f47b"
   },
   "outputs": [
    {
     "name": "stdout",
     "output_type": "stream",
     "text": [
      "accuracy:  0.42986650727236503\n"
     ]
    }
   ],
   "source": [
    "pred = lgbm_model.predict(X_test)\n",
    "accuracy = accuracy_score(y_test, pred)\n",
    "print(\"accuracy: \", accuracy)"
   ]
  },
  {
   "cell_type": "code",
   "execution_count": null,
   "id": "0080cae6-0195-47d5-8593-000aefd2fcaf",
   "metadata": {
    "id": "0080cae6-0195-47d5-8593-000aefd2fcaf",
    "outputId": "485a762b-536b-4084-f50f-ce74f410137d"
   },
   "outputs": [
    {
     "name": "stdout",
     "output_type": "stream",
     "text": [
      "              precision    recall  f1-score   support\n",
      "\n",
      "           0       0.65      0.38      0.48      9450\n",
      "           1       0.40      0.32      0.35      5559\n",
      "           2       0.37      0.20      0.26      8186\n",
      "           3       0.37      0.78      0.50      7900\n",
      "           4       0.45      0.46      0.45      9057\n",
      "\n",
      "    accuracy                           0.43     40152\n",
      "   macro avg       0.45      0.43      0.41     40152\n",
      "weighted avg       0.46      0.43      0.42     40152\n",
      "\n"
     ]
    }
   ],
   "source": [
    "from sklearn.metrics import classification_report\n",
    "print(classification_report(y_test, pred))"
   ]
  },
  {
   "cell_type": "code",
   "execution_count": null,
   "id": "9d123c03-08dc-4cee-82d5-25bca3c50b78",
   "metadata": {
    "id": "9d123c03-08dc-4cee-82d5-25bca3c50b78",
    "outputId": "8a8852fd-950b-47d7-a2a7-e4449bf6a918"
   },
   "outputs": [
    {
     "name": "stdout",
     "output_type": "stream",
     "text": [
      "Collecting catboost\n",
      "  Downloading catboost-1.2.5-cp311-cp311-win_amd64.whl.metadata (1.2 kB)\n",
      "Collecting graphviz (from catboost)\n",
      "  Using cached graphviz-0.20.3-py3-none-any.whl.metadata (12 kB)\n",
      "Requirement already satisfied: matplotlib in c:\\users\\kosa\\anaconda3\\lib\\site-packages (from catboost) (3.8.0)\n",
      "Requirement already satisfied: numpy>=1.16.0 in c:\\users\\kosa\\anaconda3\\lib\\site-packages (from catboost) (1.26.4)\n",
      "Requirement already satisfied: pandas>=0.24 in c:\\users\\kosa\\anaconda3\\lib\\site-packages (from catboost) (1.5.3)\n",
      "Requirement already satisfied: scipy in c:\\users\\kosa\\anaconda3\\lib\\site-packages (from catboost) (1.11.4)\n",
      "Requirement already satisfied: plotly in c:\\users\\kosa\\anaconda3\\lib\\site-packages (from catboost) (5.9.0)\n",
      "Requirement already satisfied: six in c:\\users\\kosa\\anaconda3\\lib\\site-packages (from catboost) (1.16.0)\n",
      "Requirement already satisfied: python-dateutil>=2.8.1 in c:\\users\\kosa\\anaconda3\\lib\\site-packages (from pandas>=0.24->catboost) (2.8.2)\n",
      "Requirement already satisfied: pytz>=2020.1 in c:\\users\\kosa\\anaconda3\\lib\\site-packages (from pandas>=0.24->catboost) (2023.3.post1)\n",
      "Requirement already satisfied: contourpy>=1.0.1 in c:\\users\\kosa\\anaconda3\\lib\\site-packages (from matplotlib->catboost) (1.2.0)\n",
      "Requirement already satisfied: cycler>=0.10 in c:\\users\\kosa\\anaconda3\\lib\\site-packages (from matplotlib->catboost) (0.11.0)\n",
      "Requirement already satisfied: fonttools>=4.22.0 in c:\\users\\kosa\\anaconda3\\lib\\site-packages (from matplotlib->catboost) (4.25.0)\n",
      "Requirement already satisfied: kiwisolver>=1.0.1 in c:\\users\\kosa\\anaconda3\\lib\\site-packages (from matplotlib->catboost) (1.4.4)\n",
      "Requirement already satisfied: packaging>=20.0 in c:\\users\\kosa\\anaconda3\\lib\\site-packages (from matplotlib->catboost) (23.1)\n",
      "Requirement already satisfied: pillow>=6.2.0 in c:\\users\\kosa\\anaconda3\\lib\\site-packages (from matplotlib->catboost) (10.2.0)\n",
      "Requirement already satisfied: pyparsing>=2.3.1 in c:\\users\\kosa\\anaconda3\\lib\\site-packages (from matplotlib->catboost) (3.0.9)\n",
      "Requirement already satisfied: tenacity>=6.2.0 in c:\\users\\kosa\\anaconda3\\lib\\site-packages (from plotly->catboost) (8.2.2)\n",
      "Downloading catboost-1.2.5-cp311-cp311-win_amd64.whl (101.1 MB)\n",
      "   ---------------------------------------- 0.0/101.1 MB ? eta -:--:--\n",
      "   ---------------------------------------- 0.0/101.1 MB 960.0 kB/s eta 0:01:46\n",
      "   ---------------------------------------- 1.0/101.1 MB 12.4 MB/s eta 0:00:09\n",
      "    --------------------------------------- 2.4/101.1 MB 19.1 MB/s eta 0:00:06\n",
      "   - -------------------------------------- 3.3/101.1 MB 21.1 MB/s eta 0:00:05\n",
      "   - -------------------------------------- 3.7/101.1 MB 16.7 MB/s eta 0:00:06\n",
      "   - -------------------------------------- 4.1/101.1 MB 16.3 MB/s eta 0:00:06\n",
      "   -- ------------------------------------- 6.8/101.1 MB 21.6 MB/s eta 0:00:05\n",
      "   ---- ----------------------------------- 10.1/101.1 MB 28.1 MB/s eta 0:00:04\n",
      "   ----- ---------------------------------- 14.1/101.1 MB 72.6 MB/s eta 0:00:02\n",
      "   ------ --------------------------------- 17.4/101.1 MB 81.8 MB/s eta 0:00:02\n",
      "   -------- ------------------------------- 21.1/101.1 MB 81.8 MB/s eta 0:00:01\n",
      "   -------- ------------------------------- 21.2/101.1 MB 59.5 MB/s eta 0:00:02\n",
      "   -------- ------------------------------- 21.7/101.1 MB 50.1 MB/s eta 0:00:02\n",
      "   --------- ------------------------------ 22.8/101.1 MB 38.5 MB/s eta 0:00:03\n",
      "   ---------- ----------------------------- 25.8/101.1 MB 40.9 MB/s eta 0:00:02\n",
      "   ----------- ---------------------------- 29.6/101.1 MB 38.6 MB/s eta 0:00:02\n",
      "   ----------- ---------------------------- 29.9/101.1 MB 32.7 MB/s eta 0:00:03\n",
      "   ------------ --------------------------- 31.2/101.1 MB 28.4 MB/s eta 0:00:03\n",
      "   ------------- -------------------------- 34.6/101.1 MB 50.4 MB/s eta 0:00:02\n",
      "   -------------- ------------------------- 36.9/101.1 MB 50.4 MB/s eta 0:00:02\n",
      "   -------------- ------------------------- 36.9/101.1 MB 38.6 MB/s eta 0:00:02\n",
      "   -------------- ------------------------- 36.9/101.1 MB 34.6 MB/s eta 0:00:02\n",
      "   -------------- ------------------------- 37.0/101.1 MB 29.8 MB/s eta 0:00:03\n",
      "   -------------- ------------------------- 37.3/101.1 MB 26.2 MB/s eta 0:00:03\n",
      "   -------------- ------------------------- 37.7/101.1 MB 22.6 MB/s eta 0:00:03\n",
      "   ---------------- ----------------------- 40.7/101.1 MB 26.2 MB/s eta 0:00:03\n",
      "   ----------------- ---------------------- 43.2/101.1 MB 25.2 MB/s eta 0:00:03\n",
      "   ------------------ --------------------- 47.2/101.1 MB 36.4 MB/s eta 0:00:02\n",
      "   ------------------- -------------------- 49.4/101.1 MB 72.6 MB/s eta 0:00:01\n",
      "   -------------------- ------------------- 51.8/101.1 MB 65.6 MB/s eta 0:00:01\n",
      "   -------------------- ------------------- 52.7/101.1 MB 54.7 MB/s eta 0:00:01\n",
      "   --------------------- ------------------ 53.2/101.1 MB 43.7 MB/s eta 0:00:02\n",
      "   --------------------- ------------------ 55.4/101.1 MB 40.9 MB/s eta 0:00:02\n",
      "   ---------------------- ----------------- 57.8/101.1 MB 38.5 MB/s eta 0:00:02\n",
      "   ------------------------ --------------- 61.2/101.1 MB 40.9 MB/s eta 0:00:01\n",
      "   ------------------------- -------------- 63.9/101.1 MB 72.6 MB/s eta 0:00:01\n",
      "   --------------------------- ----------- 70.6/101.1 MB 108.8 MB/s eta 0:00:01\n",
      "   ---------------------------- ---------- 73.7/101.1 MB 108.8 MB/s eta 0:00:01\n",
      "   ------------------------------ --------- 76.4/101.1 MB 81.8 MB/s eta 0:00:01\n",
      "   ------------------------------- -------- 80.9/101.1 MB 81.8 MB/s eta 0:00:01\n",
      "   -------------------------------- ------- 81.0/101.1 MB 59.8 MB/s eta 0:00:01\n",
      "   -------------------------------- ------- 81.2/101.1 MB 50.4 MB/s eta 0:00:01\n",
      "   -------------------------------- ------- 81.7/101.1 MB 38.6 MB/s eta 0:00:01\n",
      "   --------------------------------- ------ 85.1/101.1 MB 38.5 MB/s eta 0:00:01\n",
      "   --------------------------------- ------ 85.1/101.1 MB 34.4 MB/s eta 0:00:01\n",
      "   --------------------------------- ------ 85.2/101.1 MB 28.5 MB/s eta 0:00:01\n",
      "   --------------------------------- ------ 85.4/101.1 MB 26.2 MB/s eta 0:00:01\n",
      "   --------------------------------- ------ 85.7/101.1 MB 23.4 MB/s eta 0:00:01\n",
      "   ---------------------------------- ----- 86.9/101.1 MB 21.1 MB/s eta 0:00:01\n",
      "   ----------------------------------- ---- 89.7/101.1 MB 20.5 MB/s eta 0:00:01\n",
      "   ------------------------------------ --- 93.1/101.1 MB 29.7 MB/s eta 0:00:01\n",
      "   ------------------------------------- -- 94.6/101.1 MB 27.3 MB/s eta 0:00:01\n",
      "   ---------------------------------------  99.2/101.1 MB 72.6 MB/s eta 0:00:01\n",
      "   --------------------------------------  101.1/101.1 MB 59.8 MB/s eta 0:00:01\n",
      "   --------------------------------------  101.1/101.1 MB 59.8 MB/s eta 0:00:01\n",
      "   --------------------------------------  101.1/101.1 MB 59.8 MB/s eta 0:00:01\n",
      "   --------------------------------------  101.1/101.1 MB 59.8 MB/s eta 0:00:01\n",
      "   --------------------------------------  101.1/101.1 MB 59.8 MB/s eta 0:00:01\n",
      "   --------------------------------------  101.1/101.1 MB 59.8 MB/s eta 0:00:01\n",
      "   --------------------------------------- 101.1/101.1 MB 22.6 MB/s eta 0:00:00\n",
      "Using cached graphviz-0.20.3-py3-none-any.whl (47 kB)\n",
      "Installing collected packages: graphviz, catboost\n",
      "Successfully installed catboost-1.2.5 graphviz-0.20.3\n"
     ]
    }
   ],
   "source": [
    "!pip install catboost"
   ]
  },
  {
   "cell_type": "code",
   "execution_count": null,
   "id": "b2fcf3d0-c520-4f39-b90d-b06cbbc886b3",
   "metadata": {
    "id": "b2fcf3d0-c520-4f39-b90d-b06cbbc886b3",
    "outputId": "f9b29560-1648-4e4d-d314-88786017a524"
   },
   "outputs": [
    {
     "name": "stdout",
     "output_type": "stream",
     "text": [
      "Learning rate set to 0.100074\n",
      "0:\tlearn: 1.6025779\ttotal: 333ms\tremaining: 5m 32s\n",
      "1:\tlearn: 1.5950519\ttotal: 515ms\tremaining: 4m 16s\n",
      "2:\tlearn: 1.5900661\ttotal: 691ms\tremaining: 3m 49s\n",
      "3:\tlearn: 1.5855004\ttotal: 873ms\tremaining: 3m 37s\n",
      "4:\tlearn: 1.5811916\ttotal: 1.08s\tremaining: 3m 35s\n",
      "5:\tlearn: 1.5772553\ttotal: 1.27s\tremaining: 3m 30s\n",
      "6:\tlearn: 1.5729280\ttotal: 1.46s\tremaining: 3m 26s\n",
      "7:\tlearn: 1.5699783\ttotal: 1.63s\tremaining: 3m 21s\n",
      "8:\tlearn: 1.5666662\ttotal: 1.8s\tremaining: 3m 18s\n",
      "9:\tlearn: 1.5635926\ttotal: 1.98s\tremaining: 3m 16s\n",
      "10:\tlearn: 1.5608867\ttotal: 2.17s\tremaining: 3m 14s\n",
      "11:\tlearn: 1.5584866\ttotal: 2.35s\tremaining: 3m 13s\n",
      "12:\tlearn: 1.5559668\ttotal: 2.58s\tremaining: 3m 15s\n",
      "13:\tlearn: 1.5537594\ttotal: 2.76s\tremaining: 3m 14s\n",
      "14:\tlearn: 1.5514097\ttotal: 2.94s\tremaining: 3m 12s\n",
      "15:\tlearn: 1.5490478\ttotal: 3.14s\tremaining: 3m 13s\n",
      "16:\tlearn: 1.5470529\ttotal: 3.32s\tremaining: 3m 11s\n",
      "17:\tlearn: 1.5451715\ttotal: 3.51s\tremaining: 3m 11s\n",
      "18:\tlearn: 1.5434535\ttotal: 3.69s\tremaining: 3m 10s\n",
      "19:\tlearn: 1.5415518\ttotal: 3.87s\tremaining: 3m 9s\n",
      "20:\tlearn: 1.5399738\ttotal: 4.06s\tremaining: 3m 9s\n",
      "21:\tlearn: 1.5383198\ttotal: 4.23s\tremaining: 3m 8s\n",
      "22:\tlearn: 1.5369118\ttotal: 4.41s\tremaining: 3m 7s\n",
      "23:\tlearn: 1.5352923\ttotal: 4.59s\tremaining: 3m 6s\n",
      "24:\tlearn: 1.5336412\ttotal: 4.78s\tremaining: 3m 6s\n",
      "25:\tlearn: 1.5322490\ttotal: 4.96s\tremaining: 3m 5s\n",
      "26:\tlearn: 1.5305900\ttotal: 5.15s\tremaining: 3m 5s\n",
      "27:\tlearn: 1.5292080\ttotal: 5.33s\tremaining: 3m 4s\n",
      "28:\tlearn: 1.5275863\ttotal: 5.51s\tremaining: 3m 4s\n",
      "29:\tlearn: 1.5260251\ttotal: 5.69s\tremaining: 3m 3s\n",
      "30:\tlearn: 1.5247434\ttotal: 5.86s\tremaining: 3m 3s\n",
      "31:\tlearn: 1.5234345\ttotal: 6.04s\tremaining: 3m 2s\n",
      "32:\tlearn: 1.5219431\ttotal: 6.22s\tremaining: 3m 2s\n",
      "33:\tlearn: 1.5206656\ttotal: 6.39s\tremaining: 3m 1s\n",
      "34:\tlearn: 1.5195131\ttotal: 6.56s\tremaining: 3m\n",
      "35:\tlearn: 1.5183892\ttotal: 6.75s\tremaining: 3m\n",
      "36:\tlearn: 1.5172267\ttotal: 6.92s\tremaining: 3m\n",
      "37:\tlearn: 1.5160604\ttotal: 7.08s\tremaining: 2m 59s\n",
      "38:\tlearn: 1.5150870\ttotal: 7.26s\tremaining: 2m 58s\n",
      "39:\tlearn: 1.5140449\ttotal: 7.44s\tremaining: 2m 58s\n",
      "40:\tlearn: 1.5128129\ttotal: 7.62s\tremaining: 2m 58s\n",
      "41:\tlearn: 1.5120861\ttotal: 7.81s\tremaining: 2m 58s\n",
      "42:\tlearn: 1.5108598\ttotal: 8s\tremaining: 2m 57s\n",
      "43:\tlearn: 1.5099193\ttotal: 8.17s\tremaining: 2m 57s\n",
      "44:\tlearn: 1.5090443\ttotal: 8.35s\tremaining: 2m 57s\n",
      "45:\tlearn: 1.5079613\ttotal: 8.53s\tremaining: 2m 56s\n",
      "46:\tlearn: 1.5070715\ttotal: 8.71s\tremaining: 2m 56s\n",
      "47:\tlearn: 1.5060277\ttotal: 8.88s\tremaining: 2m 56s\n",
      "48:\tlearn: 1.5051533\ttotal: 9.06s\tremaining: 2m 55s\n",
      "49:\tlearn: 1.5042844\ttotal: 9.23s\tremaining: 2m 55s\n",
      "50:\tlearn: 1.5034981\ttotal: 9.41s\tremaining: 2m 55s\n",
      "51:\tlearn: 1.5026112\ttotal: 9.58s\tremaining: 2m 54s\n",
      "52:\tlearn: 1.5018376\ttotal: 9.77s\tremaining: 2m 54s\n",
      "53:\tlearn: 1.5009666\ttotal: 9.95s\tremaining: 2m 54s\n",
      "54:\tlearn: 1.5001392\ttotal: 10.1s\tremaining: 2m 53s\n",
      "55:\tlearn: 1.4993773\ttotal: 10.3s\tremaining: 2m 53s\n",
      "56:\tlearn: 1.4987720\ttotal: 10.5s\tremaining: 2m 53s\n",
      "57:\tlearn: 1.4980839\ttotal: 10.7s\tremaining: 2m 53s\n",
      "58:\tlearn: 1.4971942\ttotal: 10.8s\tremaining: 2m 52s\n",
      "59:\tlearn: 1.4963609\ttotal: 11s\tremaining: 2m 52s\n",
      "60:\tlearn: 1.4955959\ttotal: 11.2s\tremaining: 2m 52s\n",
      "61:\tlearn: 1.4947953\ttotal: 11.4s\tremaining: 2m 52s\n",
      "62:\tlearn: 1.4939957\ttotal: 11.6s\tremaining: 2m 52s\n",
      "63:\tlearn: 1.4932132\ttotal: 11.8s\tremaining: 2m 52s\n",
      "64:\tlearn: 1.4923424\ttotal: 11.9s\tremaining: 2m 51s\n",
      "65:\tlearn: 1.4914776\ttotal: 12.1s\tremaining: 2m 51s\n",
      "66:\tlearn: 1.4905555\ttotal: 12.3s\tremaining: 2m 51s\n",
      "67:\tlearn: 1.4897625\ttotal: 12.5s\tremaining: 2m 51s\n",
      "68:\tlearn: 1.4891596\ttotal: 12.7s\tremaining: 2m 51s\n",
      "69:\tlearn: 1.4884252\ttotal: 12.9s\tremaining: 2m 50s\n",
      "70:\tlearn: 1.4877512\ttotal: 13s\tremaining: 2m 50s\n",
      "71:\tlearn: 1.4870852\ttotal: 13.2s\tremaining: 2m 50s\n",
      "72:\tlearn: 1.4863923\ttotal: 13.4s\tremaining: 2m 50s\n",
      "73:\tlearn: 1.4856649\ttotal: 13.6s\tremaining: 2m 49s\n",
      "74:\tlearn: 1.4850760\ttotal: 13.7s\tremaining: 2m 49s\n",
      "75:\tlearn: 1.4842826\ttotal: 13.9s\tremaining: 2m 49s\n",
      "76:\tlearn: 1.4836316\ttotal: 14.1s\tremaining: 2m 49s\n",
      "77:\tlearn: 1.4831111\ttotal: 14.3s\tremaining: 2m 48s\n",
      "78:\tlearn: 1.4825927\ttotal: 14.5s\tremaining: 2m 49s\n",
      "79:\tlearn: 1.4819198\ttotal: 14.7s\tremaining: 2m 48s\n",
      "80:\tlearn: 1.4812853\ttotal: 14.9s\tremaining: 2m 48s\n",
      "81:\tlearn: 1.4805659\ttotal: 15.1s\tremaining: 2m 48s\n",
      "82:\tlearn: 1.4800205\ttotal: 15.3s\tremaining: 2m 48s\n",
      "83:\tlearn: 1.4794515\ttotal: 15.5s\tremaining: 2m 48s\n",
      "84:\tlearn: 1.4789294\ttotal: 15.7s\tremaining: 2m 48s\n",
      "85:\tlearn: 1.4783145\ttotal: 15.8s\tremaining: 2m 48s\n",
      "86:\tlearn: 1.4776588\ttotal: 16s\tremaining: 2m 48s\n",
      "87:\tlearn: 1.4772277\ttotal: 16.2s\tremaining: 2m 48s\n",
      "88:\tlearn: 1.4766444\ttotal: 16.4s\tremaining: 2m 48s\n",
      "89:\tlearn: 1.4760788\ttotal: 16.6s\tremaining: 2m 47s\n",
      "90:\tlearn: 1.4755908\ttotal: 16.8s\tremaining: 2m 47s\n",
      "91:\tlearn: 1.4751456\ttotal: 17s\tremaining: 2m 47s\n",
      "92:\tlearn: 1.4746715\ttotal: 17.1s\tremaining: 2m 47s\n",
      "93:\tlearn: 1.4741142\ttotal: 17.3s\tremaining: 2m 47s\n",
      "94:\tlearn: 1.4735765\ttotal: 17.5s\tremaining: 2m 46s\n",
      "95:\tlearn: 1.4730484\ttotal: 17.7s\tremaining: 2m 46s\n",
      "96:\tlearn: 1.4723994\ttotal: 17.9s\tremaining: 2m 46s\n",
      "97:\tlearn: 1.4719241\ttotal: 18.1s\tremaining: 2m 46s\n",
      "98:\tlearn: 1.4713737\ttotal: 18.2s\tremaining: 2m 46s\n",
      "99:\tlearn: 1.4708520\ttotal: 18.4s\tremaining: 2m 45s\n",
      "100:\tlearn: 1.4703091\ttotal: 18.6s\tremaining: 2m 45s\n",
      "101:\tlearn: 1.4698363\ttotal: 18.8s\tremaining: 2m 45s\n",
      "102:\tlearn: 1.4692747\ttotal: 19s\tremaining: 2m 45s\n",
      "103:\tlearn: 1.4686074\ttotal: 19.1s\tremaining: 2m 44s\n",
      "104:\tlearn: 1.4682317\ttotal: 19.3s\tremaining: 2m 44s\n",
      "105:\tlearn: 1.4678187\ttotal: 19.5s\tremaining: 2m 44s\n",
      "106:\tlearn: 1.4673017\ttotal: 19.7s\tremaining: 2m 44s\n",
      "107:\tlearn: 1.4667743\ttotal: 19.9s\tremaining: 2m 44s\n",
      "108:\tlearn: 1.4663758\ttotal: 20.1s\tremaining: 2m 44s\n",
      "109:\tlearn: 1.4658422\ttotal: 20.2s\tremaining: 2m 43s\n",
      "110:\tlearn: 1.4653786\ttotal: 20.4s\tremaining: 2m 43s\n",
      "111:\tlearn: 1.4648700\ttotal: 20.6s\tremaining: 2m 43s\n",
      "112:\tlearn: 1.4643541\ttotal: 20.8s\tremaining: 2m 43s\n",
      "113:\tlearn: 1.4637449\ttotal: 21s\tremaining: 2m 42s\n",
      "114:\tlearn: 1.4631478\ttotal: 21.1s\tremaining: 2m 42s\n",
      "115:\tlearn: 1.4627164\ttotal: 21.3s\tremaining: 2m 42s\n",
      "116:\tlearn: 1.4622773\ttotal: 21.5s\tremaining: 2m 42s\n",
      "117:\tlearn: 1.4618038\ttotal: 21.7s\tremaining: 2m 42s\n",
      "118:\tlearn: 1.4613177\ttotal: 21.9s\tremaining: 2m 41s\n",
      "119:\tlearn: 1.4608691\ttotal: 22.1s\tremaining: 2m 41s\n",
      "120:\tlearn: 1.4602505\ttotal: 22.2s\tremaining: 2m 41s\n",
      "121:\tlearn: 1.4597339\ttotal: 22.4s\tremaining: 2m 41s\n",
      "122:\tlearn: 1.4592819\ttotal: 22.6s\tremaining: 2m 41s\n",
      "123:\tlearn: 1.4588852\ttotal: 22.8s\tremaining: 2m 40s\n",
      "124:\tlearn: 1.4583254\ttotal: 23s\tremaining: 2m 40s\n",
      "125:\tlearn: 1.4578686\ttotal: 23.1s\tremaining: 2m 40s\n",
      "126:\tlearn: 1.4573549\ttotal: 23.3s\tremaining: 2m 40s\n",
      "127:\tlearn: 1.4568372\ttotal: 23.5s\tremaining: 2m 40s\n",
      "128:\tlearn: 1.4562924\ttotal: 23.7s\tremaining: 2m 39s\n",
      "129:\tlearn: 1.4558809\ttotal: 23.9s\tremaining: 2m 39s\n",
      "130:\tlearn: 1.4553828\ttotal: 24s\tremaining: 2m 39s\n",
      "131:\tlearn: 1.4547755\ttotal: 24.2s\tremaining: 2m 39s\n",
      "132:\tlearn: 1.4542657\ttotal: 24.4s\tremaining: 2m 39s\n",
      "133:\tlearn: 1.4537529\ttotal: 24.6s\tremaining: 2m 38s\n",
      "134:\tlearn: 1.4532568\ttotal: 24.8s\tremaining: 2m 38s\n",
      "135:\tlearn: 1.4528516\ttotal: 25s\tremaining: 2m 38s\n",
      "136:\tlearn: 1.4523809\ttotal: 25.2s\tremaining: 2m 38s\n",
      "137:\tlearn: 1.4518769\ttotal: 25.3s\tremaining: 2m 38s\n",
      "138:\tlearn: 1.4514848\ttotal: 25.5s\tremaining: 2m 38s\n",
      "139:\tlearn: 1.4508548\ttotal: 25.7s\tremaining: 2m 37s\n",
      "140:\tlearn: 1.4504367\ttotal: 25.9s\tremaining: 2m 37s\n",
      "141:\tlearn: 1.4499869\ttotal: 26.1s\tremaining: 2m 37s\n",
      "142:\tlearn: 1.4495703\ttotal: 26.2s\tremaining: 2m 37s\n",
      "143:\tlearn: 1.4491015\ttotal: 26.4s\tremaining: 2m 37s\n",
      "144:\tlearn: 1.4486145\ttotal: 26.6s\tremaining: 2m 36s\n",
      "145:\tlearn: 1.4481866\ttotal: 26.8s\tremaining: 2m 36s\n",
      "146:\tlearn: 1.4478232\ttotal: 27s\tremaining: 2m 36s\n",
      "147:\tlearn: 1.4474905\ttotal: 27.2s\tremaining: 2m 36s\n",
      "148:\tlearn: 1.4470280\ttotal: 27.4s\tremaining: 2m 36s\n",
      "149:\tlearn: 1.4466467\ttotal: 27.6s\tremaining: 2m 36s\n",
      "150:\tlearn: 1.4461130\ttotal: 27.7s\tremaining: 2m 35s\n",
      "151:\tlearn: 1.4457438\ttotal: 27.9s\tremaining: 2m 35s\n",
      "152:\tlearn: 1.4453473\ttotal: 28.1s\tremaining: 2m 35s\n",
      "153:\tlearn: 1.4449947\ttotal: 28.3s\tremaining: 2m 35s\n",
      "154:\tlearn: 1.4446367\ttotal: 28.4s\tremaining: 2m 35s\n",
      "155:\tlearn: 1.4441288\ttotal: 28.6s\tremaining: 2m 34s\n",
      "156:\tlearn: 1.4436708\ttotal: 28.8s\tremaining: 2m 34s\n",
      "157:\tlearn: 1.4431740\ttotal: 29s\tremaining: 2m 34s\n",
      "158:\tlearn: 1.4428369\ttotal: 29.2s\tremaining: 2m 34s\n",
      "159:\tlearn: 1.4423746\ttotal: 29.3s\tremaining: 2m 34s\n",
      "160:\tlearn: 1.4419181\ttotal: 29.5s\tremaining: 2m 33s\n",
      "161:\tlearn: 1.4415156\ttotal: 29.7s\tremaining: 2m 33s\n",
      "162:\tlearn: 1.4411466\ttotal: 29.9s\tremaining: 2m 33s\n",
      "163:\tlearn: 1.4405986\ttotal: 30.1s\tremaining: 2m 33s\n",
      "164:\tlearn: 1.4403034\ttotal: 30.2s\tremaining: 2m 33s\n",
      "165:\tlearn: 1.4397844\ttotal: 30.4s\tremaining: 2m 32s\n",
      "166:\tlearn: 1.4394163\ttotal: 30.6s\tremaining: 2m 32s\n",
      "167:\tlearn: 1.4391313\ttotal: 30.8s\tremaining: 2m 32s\n",
      "168:\tlearn: 1.4387106\ttotal: 31s\tremaining: 2m 32s\n",
      "169:\tlearn: 1.4382970\ttotal: 31.2s\tremaining: 2m 32s\n",
      "170:\tlearn: 1.4379847\ttotal: 31.3s\tremaining: 2m 31s\n",
      "171:\tlearn: 1.4376670\ttotal: 31.5s\tremaining: 2m 31s\n",
      "172:\tlearn: 1.4372971\ttotal: 31.7s\tremaining: 2m 31s\n",
      "173:\tlearn: 1.4369969\ttotal: 31.9s\tremaining: 2m 31s\n",
      "174:\tlearn: 1.4366519\ttotal: 32.1s\tremaining: 2m 31s\n",
      "175:\tlearn: 1.4363087\ttotal: 32.2s\tremaining: 2m 30s\n",
      "176:\tlearn: 1.4359675\ttotal: 32.4s\tremaining: 2m 30s\n",
      "177:\tlearn: 1.4355921\ttotal: 32.6s\tremaining: 2m 30s\n",
      "178:\tlearn: 1.4352756\ttotal: 32.8s\tremaining: 2m 30s\n",
      "179:\tlearn: 1.4349790\ttotal: 33s\tremaining: 2m 30s\n",
      "180:\tlearn: 1.4344733\ttotal: 33.1s\tremaining: 2m 29s\n",
      "181:\tlearn: 1.4340927\ttotal: 33.3s\tremaining: 2m 29s\n",
      "182:\tlearn: 1.4338284\ttotal: 33.5s\tremaining: 2m 29s\n",
      "183:\tlearn: 1.4335137\ttotal: 33.7s\tremaining: 2m 29s\n",
      "184:\tlearn: 1.4332061\ttotal: 33.8s\tremaining: 2m 29s\n",
      "185:\tlearn: 1.4329219\ttotal: 34s\tremaining: 2m 28s\n",
      "186:\tlearn: 1.4325627\ttotal: 34.2s\tremaining: 2m 28s\n",
      "187:\tlearn: 1.4321776\ttotal: 34.4s\tremaining: 2m 28s\n",
      "188:\tlearn: 1.4317740\ttotal: 34.6s\tremaining: 2m 28s\n",
      "189:\tlearn: 1.4314019\ttotal: 34.7s\tremaining: 2m 28s\n",
      "190:\tlearn: 1.4311001\ttotal: 35s\tremaining: 2m 28s\n",
      "191:\tlearn: 1.4308230\ttotal: 35.2s\tremaining: 2m 28s\n",
      "192:\tlearn: 1.4304805\ttotal: 35.4s\tremaining: 2m 27s\n",
      "193:\tlearn: 1.4301453\ttotal: 35.5s\tremaining: 2m 27s\n",
      "194:\tlearn: 1.4298557\ttotal: 35.7s\tremaining: 2m 27s\n",
      "195:\tlearn: 1.4295935\ttotal: 35.9s\tremaining: 2m 27s\n",
      "196:\tlearn: 1.4293157\ttotal: 36.1s\tremaining: 2m 27s\n",
      "197:\tlearn: 1.4290338\ttotal: 36.3s\tremaining: 2m 26s\n",
      "198:\tlearn: 1.4286624\ttotal: 36.4s\tremaining: 2m 26s\n",
      "199:\tlearn: 1.4283108\ttotal: 36.6s\tremaining: 2m 26s\n",
      "200:\tlearn: 1.4280457\ttotal: 36.8s\tremaining: 2m 26s\n",
      "201:\tlearn: 1.4277510\ttotal: 37s\tremaining: 2m 26s\n",
      "202:\tlearn: 1.4275131\ttotal: 37.2s\tremaining: 2m 25s\n",
      "203:\tlearn: 1.4271562\ttotal: 37.3s\tremaining: 2m 25s\n",
      "204:\tlearn: 1.4269287\ttotal: 37.5s\tremaining: 2m 25s\n",
      "205:\tlearn: 1.4266125\ttotal: 37.7s\tremaining: 2m 25s\n",
      "206:\tlearn: 1.4263546\ttotal: 37.8s\tremaining: 2m 24s\n",
      "207:\tlearn: 1.4259463\ttotal: 38s\tremaining: 2m 24s\n",
      "208:\tlearn: 1.4256408\ttotal: 38.2s\tremaining: 2m 24s\n",
      "209:\tlearn: 1.4253177\ttotal: 38.4s\tremaining: 2m 24s\n",
      "210:\tlearn: 1.4249375\ttotal: 38.5s\tremaining: 2m 24s\n",
      "211:\tlearn: 1.4245487\ttotal: 38.7s\tremaining: 2m 23s\n",
      "212:\tlearn: 1.4242999\ttotal: 38.9s\tremaining: 2m 23s\n",
      "213:\tlearn: 1.4240385\ttotal: 39.1s\tremaining: 2m 23s\n",
      "214:\tlearn: 1.4237493\ttotal: 39.3s\tremaining: 2m 23s\n",
      "215:\tlearn: 1.4234931\ttotal: 39.5s\tremaining: 2m 23s\n",
      "216:\tlearn: 1.4231856\ttotal: 39.6s\tremaining: 2m 23s\n",
      "217:\tlearn: 1.4227536\ttotal: 39.8s\tremaining: 2m 22s\n",
      "218:\tlearn: 1.4224876\ttotal: 40s\tremaining: 2m 22s\n",
      "219:\tlearn: 1.4221544\ttotal: 40.1s\tremaining: 2m 22s\n",
      "220:\tlearn: 1.4218811\ttotal: 40.3s\tremaining: 2m 22s\n",
      "221:\tlearn: 1.4215605\ttotal: 40.5s\tremaining: 2m 21s\n",
      "222:\tlearn: 1.4212257\ttotal: 40.7s\tremaining: 2m 21s\n",
      "223:\tlearn: 1.4209735\ttotal: 40.8s\tremaining: 2m 21s\n",
      "224:\tlearn: 1.4207017\ttotal: 41s\tremaining: 2m 21s\n",
      "225:\tlearn: 1.4204511\ttotal: 41.2s\tremaining: 2m 20s\n",
      "226:\tlearn: 1.4201892\ttotal: 41.3s\tremaining: 2m 20s\n",
      "227:\tlearn: 1.4199610\ttotal: 41.5s\tremaining: 2m 20s\n",
      "228:\tlearn: 1.4196700\ttotal: 41.7s\tremaining: 2m 20s\n",
      "229:\tlearn: 1.4193725\ttotal: 41.9s\tremaining: 2m 20s\n",
      "230:\tlearn: 1.4191150\ttotal: 42s\tremaining: 2m 19s\n",
      "231:\tlearn: 1.4188701\ttotal: 42.2s\tremaining: 2m 19s\n",
      "232:\tlearn: 1.4184235\ttotal: 42.4s\tremaining: 2m 19s\n",
      "233:\tlearn: 1.4181647\ttotal: 42.6s\tremaining: 2m 19s\n",
      "234:\tlearn: 1.4179400\ttotal: 42.8s\tremaining: 2m 19s\n",
      "235:\tlearn: 1.4176801\ttotal: 43s\tremaining: 2m 19s\n",
      "236:\tlearn: 1.4174592\ttotal: 43.2s\tremaining: 2m 19s\n",
      "237:\tlearn: 1.4172246\ttotal: 43.4s\tremaining: 2m 18s\n",
      "238:\tlearn: 1.4169873\ttotal: 43.6s\tremaining: 2m 18s\n",
      "239:\tlearn: 1.4167575\ttotal: 43.8s\tremaining: 2m 18s\n",
      "240:\tlearn: 1.4164570\ttotal: 44s\tremaining: 2m 18s\n",
      "241:\tlearn: 1.4162430\ttotal: 44.1s\tremaining: 2m 18s\n",
      "242:\tlearn: 1.4160231\ttotal: 44.3s\tremaining: 2m 18s\n",
      "243:\tlearn: 1.4157704\ttotal: 44.5s\tremaining: 2m 17s\n",
      "244:\tlearn: 1.4154743\ttotal: 44.7s\tremaining: 2m 17s\n",
      "245:\tlearn: 1.4151475\ttotal: 44.8s\tremaining: 2m 17s\n",
      "246:\tlearn: 1.4149079\ttotal: 45s\tremaining: 2m 17s\n",
      "247:\tlearn: 1.4147054\ttotal: 45.2s\tremaining: 2m 17s\n",
      "248:\tlearn: 1.4144457\ttotal: 45.4s\tremaining: 2m 16s\n",
      "249:\tlearn: 1.4142392\ttotal: 45.5s\tremaining: 2m 16s\n",
      "250:\tlearn: 1.4139935\ttotal: 45.7s\tremaining: 2m 16s\n",
      "251:\tlearn: 1.4137733\ttotal: 45.9s\tremaining: 2m 16s\n",
      "252:\tlearn: 1.4135171\ttotal: 46.1s\tremaining: 2m 16s\n",
      "253:\tlearn: 1.4132391\ttotal: 46.2s\tremaining: 2m 15s\n",
      "254:\tlearn: 1.4130436\ttotal: 46.4s\tremaining: 2m 15s\n",
      "255:\tlearn: 1.4128653\ttotal: 46.6s\tremaining: 2m 15s\n",
      "256:\tlearn: 1.4126364\ttotal: 46.8s\tremaining: 2m 15s\n",
      "257:\tlearn: 1.4123794\ttotal: 47s\tremaining: 2m 15s\n",
      "258:\tlearn: 1.4121290\ttotal: 47.2s\tremaining: 2m 14s\n",
      "259:\tlearn: 1.4118892\ttotal: 47.3s\tremaining: 2m 14s\n",
      "260:\tlearn: 1.4117159\ttotal: 47.5s\tremaining: 2m 14s\n",
      "261:\tlearn: 1.4114303\ttotal: 47.7s\tremaining: 2m 14s\n",
      "262:\tlearn: 1.4111000\ttotal: 47.9s\tremaining: 2m 14s\n",
      "263:\tlearn: 1.4109339\ttotal: 48.1s\tremaining: 2m 14s\n",
      "264:\tlearn: 1.4107439\ttotal: 48.3s\tremaining: 2m 13s\n",
      "265:\tlearn: 1.4105717\ttotal: 48.5s\tremaining: 2m 13s\n",
      "266:\tlearn: 1.4102953\ttotal: 48.7s\tremaining: 2m 13s\n",
      "267:\tlearn: 1.4101004\ttotal: 48.9s\tremaining: 2m 13s\n",
      "268:\tlearn: 1.4098792\ttotal: 49.1s\tremaining: 2m 13s\n",
      "269:\tlearn: 1.4096884\ttotal: 49.3s\tremaining: 2m 13s\n",
      "270:\tlearn: 1.4094532\ttotal: 49.5s\tremaining: 2m 13s\n",
      "271:\tlearn: 1.4092694\ttotal: 49.6s\tremaining: 2m 12s\n",
      "272:\tlearn: 1.4090162\ttotal: 49.8s\tremaining: 2m 12s\n",
      "273:\tlearn: 1.4087904\ttotal: 50s\tremaining: 2m 12s\n",
      "274:\tlearn: 1.4085758\ttotal: 50.2s\tremaining: 2m 12s\n",
      "275:\tlearn: 1.4083607\ttotal: 50.4s\tremaining: 2m 12s\n",
      "276:\tlearn: 1.4081790\ttotal: 50.6s\tremaining: 2m 11s\n",
      "277:\tlearn: 1.4079498\ttotal: 50.7s\tremaining: 2m 11s\n",
      "278:\tlearn: 1.4077027\ttotal: 50.9s\tremaining: 2m 11s\n",
      "279:\tlearn: 1.4074462\ttotal: 51.1s\tremaining: 2m 11s\n",
      "280:\tlearn: 1.4072109\ttotal: 51.3s\tremaining: 2m 11s\n",
      "281:\tlearn: 1.4070163\ttotal: 51.4s\tremaining: 2m 10s\n",
      "282:\tlearn: 1.4067100\ttotal: 51.6s\tremaining: 2m 10s\n",
      "283:\tlearn: 1.4064883\ttotal: 51.8s\tremaining: 2m 10s\n",
      "284:\tlearn: 1.4063034\ttotal: 52s\tremaining: 2m 10s\n",
      "285:\tlearn: 1.4061073\ttotal: 52.2s\tremaining: 2m 10s\n",
      "286:\tlearn: 1.4058664\ttotal: 52.4s\tremaining: 2m 10s\n",
      "287:\tlearn: 1.4056655\ttotal: 52.5s\tremaining: 2m 9s\n",
      "288:\tlearn: 1.4055081\ttotal: 52.7s\tremaining: 2m 9s\n",
      "289:\tlearn: 1.4052851\ttotal: 52.9s\tremaining: 2m 9s\n",
      "290:\tlearn: 1.4051255\ttotal: 53.1s\tremaining: 2m 9s\n",
      "291:\tlearn: 1.4048900\ttotal: 53.3s\tremaining: 2m 9s\n",
      "292:\tlearn: 1.4045573\ttotal: 53.5s\tremaining: 2m 9s\n",
      "293:\tlearn: 1.4043525\ttotal: 53.7s\tremaining: 2m 8s\n",
      "294:\tlearn: 1.4040727\ttotal: 53.8s\tremaining: 2m 8s\n",
      "295:\tlearn: 1.4038170\ttotal: 54s\tremaining: 2m 8s\n",
      "296:\tlearn: 1.4036350\ttotal: 54.2s\tremaining: 2m 8s\n",
      "297:\tlearn: 1.4034279\ttotal: 54.4s\tremaining: 2m 8s\n",
      "298:\tlearn: 1.4032477\ttotal: 54.6s\tremaining: 2m 8s\n",
      "299:\tlearn: 1.4030643\ttotal: 54.8s\tremaining: 2m 7s\n",
      "300:\tlearn: 1.4028625\ttotal: 55s\tremaining: 2m 7s\n",
      "301:\tlearn: 1.4026632\ttotal: 55.2s\tremaining: 2m 7s\n",
      "302:\tlearn: 1.4024704\ttotal: 55.3s\tremaining: 2m 7s\n",
      "303:\tlearn: 1.4022233\ttotal: 55.6s\tremaining: 2m 7s\n",
      "304:\tlearn: 1.4020584\ttotal: 55.7s\tremaining: 2m 6s\n",
      "305:\tlearn: 1.4018880\ttotal: 55.9s\tremaining: 2m 6s\n",
      "306:\tlearn: 1.4016853\ttotal: 56.1s\tremaining: 2m 6s\n",
      "307:\tlearn: 1.4014378\ttotal: 56.3s\tremaining: 2m 6s\n",
      "308:\tlearn: 1.4012082\ttotal: 56.5s\tremaining: 2m 6s\n",
      "309:\tlearn: 1.4010113\ttotal: 56.7s\tremaining: 2m 6s\n",
      "310:\tlearn: 1.4007615\ttotal: 56.8s\tremaining: 2m 5s\n",
      "311:\tlearn: 1.4004722\ttotal: 57s\tremaining: 2m 5s\n",
      "312:\tlearn: 1.4002931\ttotal: 57.2s\tremaining: 2m 5s\n",
      "313:\tlearn: 1.4000944\ttotal: 57.4s\tremaining: 2m 5s\n",
      "314:\tlearn: 1.3998636\ttotal: 57.6s\tremaining: 2m 5s\n",
      "315:\tlearn: 1.3996953\ttotal: 57.8s\tremaining: 2m 5s\n",
      "316:\tlearn: 1.3995206\ttotal: 57.9s\tremaining: 2m 4s\n",
      "317:\tlearn: 1.3993236\ttotal: 58.1s\tremaining: 2m 4s\n",
      "318:\tlearn: 1.3991489\ttotal: 58.3s\tremaining: 2m 4s\n",
      "319:\tlearn: 1.3988870\ttotal: 58.5s\tremaining: 2m 4s\n",
      "320:\tlearn: 1.3987073\ttotal: 58.7s\tremaining: 2m 4s\n",
      "321:\tlearn: 1.3985446\ttotal: 58.8s\tremaining: 2m 3s\n",
      "322:\tlearn: 1.3983250\ttotal: 59s\tremaining: 2m 3s\n",
      "323:\tlearn: 1.3981577\ttotal: 59.2s\tremaining: 2m 3s\n",
      "324:\tlearn: 1.3979955\ttotal: 59.4s\tremaining: 2m 3s\n",
      "325:\tlearn: 1.3977848\ttotal: 59.6s\tremaining: 2m 3s\n",
      "326:\tlearn: 1.3976102\ttotal: 59.8s\tremaining: 2m 3s\n",
      "327:\tlearn: 1.3974722\ttotal: 60s\tremaining: 2m 2s\n",
      "328:\tlearn: 1.3972604\ttotal: 1m\tremaining: 2m 2s\n",
      "329:\tlearn: 1.3970740\ttotal: 1m\tremaining: 2m 2s\n",
      "330:\tlearn: 1.3968248\ttotal: 1m\tremaining: 2m 2s\n",
      "331:\tlearn: 1.3966848\ttotal: 1m\tremaining: 2m 2s\n",
      "332:\tlearn: 1.3965001\ttotal: 1m\tremaining: 2m 1s\n",
      "333:\tlearn: 1.3962944\ttotal: 1m 1s\tremaining: 2m 1s\n",
      "334:\tlearn: 1.3960554\ttotal: 1m 1s\tremaining: 2m 1s\n",
      "335:\tlearn: 1.3958537\ttotal: 1m 1s\tremaining: 2m 1s\n",
      "336:\tlearn: 1.3956401\ttotal: 1m 1s\tremaining: 2m 1s\n",
      "337:\tlearn: 1.3954625\ttotal: 1m 1s\tremaining: 2m 1s\n",
      "338:\tlearn: 1.3953123\ttotal: 1m 2s\tremaining: 2m\n",
      "339:\tlearn: 1.3951369\ttotal: 1m 2s\tremaining: 2m\n",
      "340:\tlearn: 1.3948192\ttotal: 1m 2s\tremaining: 2m\n",
      "341:\tlearn: 1.3946534\ttotal: 1m 2s\tremaining: 2m\n",
      "342:\tlearn: 1.3944827\ttotal: 1m 2s\tremaining: 2m\n",
      "343:\tlearn: 1.3943141\ttotal: 1m 3s\tremaining: 2m\n",
      "344:\tlearn: 1.3941517\ttotal: 1m 3s\tremaining: 2m\n",
      "345:\tlearn: 1.3939741\ttotal: 1m 3s\tremaining: 2m\n",
      "346:\tlearn: 1.3937604\ttotal: 1m 3s\tremaining: 1m 59s\n",
      "347:\tlearn: 1.3935325\ttotal: 1m 3s\tremaining: 1m 59s\n",
      "348:\tlearn: 1.3932757\ttotal: 1m 4s\tremaining: 1m 59s\n",
      "349:\tlearn: 1.3929876\ttotal: 1m 4s\tremaining: 1m 59s\n",
      "350:\tlearn: 1.3927844\ttotal: 1m 4s\tremaining: 1m 59s\n",
      "351:\tlearn: 1.3925977\ttotal: 1m 4s\tremaining: 1m 58s\n",
      "352:\tlearn: 1.3924369\ttotal: 1m 4s\tremaining: 1m 58s\n",
      "353:\tlearn: 1.3923011\ttotal: 1m 4s\tremaining: 1m 58s\n",
      "354:\tlearn: 1.3921497\ttotal: 1m 5s\tremaining: 1m 58s\n",
      "355:\tlearn: 1.3919671\ttotal: 1m 5s\tremaining: 1m 58s\n",
      "356:\tlearn: 1.3918212\ttotal: 1m 5s\tremaining: 1m 58s\n",
      "357:\tlearn: 1.3916398\ttotal: 1m 5s\tremaining: 1m 57s\n",
      "358:\tlearn: 1.3914549\ttotal: 1m 5s\tremaining: 1m 57s\n",
      "359:\tlearn: 1.3912670\ttotal: 1m 6s\tremaining: 1m 57s\n",
      "360:\tlearn: 1.3910346\ttotal: 1m 6s\tremaining: 1m 57s\n",
      "361:\tlearn: 1.3908803\ttotal: 1m 6s\tremaining: 1m 57s\n",
      "362:\tlearn: 1.3906916\ttotal: 1m 6s\tremaining: 1m 56s\n",
      "363:\tlearn: 1.3905362\ttotal: 1m 6s\tremaining: 1m 56s\n",
      "364:\tlearn: 1.3904024\ttotal: 1m 7s\tremaining: 1m 56s\n",
      "365:\tlearn: 1.3902571\ttotal: 1m 7s\tremaining: 1m 56s\n",
      "366:\tlearn: 1.3900913\ttotal: 1m 7s\tremaining: 1m 56s\n",
      "367:\tlearn: 1.3899412\ttotal: 1m 7s\tremaining: 1m 56s\n",
      "368:\tlearn: 1.3897978\ttotal: 1m 7s\tremaining: 1m 55s\n",
      "369:\tlearn: 1.3895661\ttotal: 1m 8s\tremaining: 1m 55s\n",
      "370:\tlearn: 1.3893738\ttotal: 1m 8s\tremaining: 1m 55s\n",
      "371:\tlearn: 1.3892094\ttotal: 1m 8s\tremaining: 1m 55s\n",
      "372:\tlearn: 1.3890430\ttotal: 1m 8s\tremaining: 1m 55s\n",
      "373:\tlearn: 1.3889116\ttotal: 1m 8s\tremaining: 1m 55s\n",
      "374:\tlearn: 1.3886788\ttotal: 1m 8s\tremaining: 1m 54s\n",
      "375:\tlearn: 1.3884514\ttotal: 1m 9s\tremaining: 1m 54s\n",
      "376:\tlearn: 1.3883153\ttotal: 1m 9s\tremaining: 1m 54s\n",
      "377:\tlearn: 1.3881396\ttotal: 1m 9s\tremaining: 1m 54s\n",
      "378:\tlearn: 1.3879367\ttotal: 1m 9s\tremaining: 1m 54s\n",
      "379:\tlearn: 1.3876908\ttotal: 1m 9s\tremaining: 1m 53s\n",
      "380:\tlearn: 1.3875534\ttotal: 1m 10s\tremaining: 1m 53s\n",
      "381:\tlearn: 1.3873009\ttotal: 1m 10s\tremaining: 1m 53s\n",
      "382:\tlearn: 1.3871533\ttotal: 1m 10s\tremaining: 1m 53s\n",
      "383:\tlearn: 1.3870092\ttotal: 1m 10s\tremaining: 1m 53s\n",
      "384:\tlearn: 1.3868597\ttotal: 1m 10s\tremaining: 1m 53s\n",
      "385:\tlearn: 1.3867341\ttotal: 1m 10s\tremaining: 1m 52s\n",
      "386:\tlearn: 1.3865581\ttotal: 1m 11s\tremaining: 1m 52s\n",
      "387:\tlearn: 1.3864319\ttotal: 1m 11s\tremaining: 1m 52s\n",
      "388:\tlearn: 1.3862479\ttotal: 1m 11s\tremaining: 1m 52s\n",
      "389:\tlearn: 1.3860928\ttotal: 1m 11s\tremaining: 1m 52s\n",
      "390:\tlearn: 1.3858914\ttotal: 1m 11s\tremaining: 1m 51s\n",
      "391:\tlearn: 1.3857417\ttotal: 1m 12s\tremaining: 1m 51s\n",
      "392:\tlearn: 1.3855934\ttotal: 1m 12s\tremaining: 1m 51s\n",
      "393:\tlearn: 1.3854655\ttotal: 1m 12s\tremaining: 1m 51s\n",
      "394:\tlearn: 1.3853269\ttotal: 1m 12s\tremaining: 1m 51s\n",
      "395:\tlearn: 1.3851162\ttotal: 1m 12s\tremaining: 1m 50s\n",
      "396:\tlearn: 1.3849215\ttotal: 1m 12s\tremaining: 1m 50s\n",
      "397:\tlearn: 1.3847353\ttotal: 1m 13s\tremaining: 1m 50s\n",
      "398:\tlearn: 1.3844740\ttotal: 1m 13s\tremaining: 1m 50s\n",
      "399:\tlearn: 1.3843349\ttotal: 1m 13s\tremaining: 1m 50s\n",
      "400:\tlearn: 1.3841869\ttotal: 1m 13s\tremaining: 1m 49s\n",
      "401:\tlearn: 1.3840267\ttotal: 1m 13s\tremaining: 1m 49s\n",
      "402:\tlearn: 1.3839000\ttotal: 1m 13s\tremaining: 1m 49s\n",
      "403:\tlearn: 1.3837501\ttotal: 1m 14s\tremaining: 1m 49s\n",
      "404:\tlearn: 1.3835683\ttotal: 1m 14s\tremaining: 1m 49s\n",
      "405:\tlearn: 1.3833601\ttotal: 1m 14s\tremaining: 1m 49s\n",
      "406:\tlearn: 1.3832126\ttotal: 1m 14s\tremaining: 1m 48s\n",
      "407:\tlearn: 1.3830764\ttotal: 1m 14s\tremaining: 1m 48s\n",
      "408:\tlearn: 1.3829127\ttotal: 1m 15s\tremaining: 1m 48s\n",
      "409:\tlearn: 1.3827625\ttotal: 1m 15s\tremaining: 1m 48s\n",
      "410:\tlearn: 1.3825874\ttotal: 1m 15s\tremaining: 1m 48s\n",
      "411:\tlearn: 1.3824203\ttotal: 1m 15s\tremaining: 1m 47s\n",
      "412:\tlearn: 1.3822424\ttotal: 1m 15s\tremaining: 1m 47s\n",
      "413:\tlearn: 1.3821191\ttotal: 1m 15s\tremaining: 1m 47s\n",
      "414:\tlearn: 1.3819577\ttotal: 1m 16s\tremaining: 1m 47s\n",
      "415:\tlearn: 1.3818030\ttotal: 1m 16s\tremaining: 1m 47s\n",
      "416:\tlearn: 1.3816613\ttotal: 1m 16s\tremaining: 1m 46s\n",
      "417:\tlearn: 1.3815204\ttotal: 1m 16s\tremaining: 1m 46s\n",
      "418:\tlearn: 1.3813768\ttotal: 1m 16s\tremaining: 1m 46s\n",
      "419:\tlearn: 1.3811604\ttotal: 1m 17s\tremaining: 1m 46s\n",
      "420:\tlearn: 1.3809364\ttotal: 1m 17s\tremaining: 1m 46s\n",
      "421:\tlearn: 1.3807431\ttotal: 1m 17s\tremaining: 1m 46s\n",
      "422:\tlearn: 1.3806093\ttotal: 1m 17s\tremaining: 1m 45s\n",
      "423:\tlearn: 1.3804209\ttotal: 1m 17s\tremaining: 1m 45s\n",
      "424:\tlearn: 1.3802431\ttotal: 1m 18s\tremaining: 1m 45s\n",
      "425:\tlearn: 1.3800974\ttotal: 1m 18s\tremaining: 1m 45s\n",
      "426:\tlearn: 1.3798934\ttotal: 1m 18s\tremaining: 1m 45s\n",
      "427:\tlearn: 1.3797343\ttotal: 1m 18s\tremaining: 1m 44s\n",
      "428:\tlearn: 1.3795685\ttotal: 1m 18s\tremaining: 1m 44s\n",
      "429:\tlearn: 1.3794518\ttotal: 1m 18s\tremaining: 1m 44s\n",
      "430:\tlearn: 1.3793148\ttotal: 1m 19s\tremaining: 1m 44s\n",
      "431:\tlearn: 1.3791663\ttotal: 1m 19s\tremaining: 1m 44s\n",
      "432:\tlearn: 1.3790061\ttotal: 1m 19s\tremaining: 1m 44s\n",
      "433:\tlearn: 1.3788797\ttotal: 1m 19s\tremaining: 1m 43s\n",
      "434:\tlearn: 1.3787293\ttotal: 1m 19s\tremaining: 1m 43s\n",
      "435:\tlearn: 1.3785652\ttotal: 1m 19s\tremaining: 1m 43s\n",
      "436:\tlearn: 1.3784375\ttotal: 1m 20s\tremaining: 1m 43s\n",
      "437:\tlearn: 1.3782865\ttotal: 1m 20s\tremaining: 1m 43s\n",
      "438:\tlearn: 1.3781672\ttotal: 1m 20s\tremaining: 1m 42s\n",
      "439:\tlearn: 1.3779905\ttotal: 1m 20s\tremaining: 1m 42s\n",
      "440:\tlearn: 1.3778348\ttotal: 1m 20s\tremaining: 1m 42s\n",
      "441:\tlearn: 1.3777336\ttotal: 1m 21s\tremaining: 1m 42s\n",
      "442:\tlearn: 1.3776085\ttotal: 1m 21s\tremaining: 1m 42s\n",
      "443:\tlearn: 1.3774816\ttotal: 1m 21s\tremaining: 1m 41s\n",
      "444:\tlearn: 1.3773248\ttotal: 1m 21s\tremaining: 1m 41s\n",
      "445:\tlearn: 1.3771953\ttotal: 1m 21s\tremaining: 1m 41s\n",
      "446:\tlearn: 1.3770906\ttotal: 1m 21s\tremaining: 1m 41s\n",
      "447:\tlearn: 1.3769268\ttotal: 1m 22s\tremaining: 1m 41s\n",
      "448:\tlearn: 1.3767693\ttotal: 1m 22s\tremaining: 1m 40s\n",
      "449:\tlearn: 1.3766272\ttotal: 1m 22s\tremaining: 1m 40s\n",
      "450:\tlearn: 1.3765208\ttotal: 1m 22s\tremaining: 1m 40s\n",
      "451:\tlearn: 1.3764080\ttotal: 1m 22s\tremaining: 1m 40s\n",
      "452:\tlearn: 1.3762168\ttotal: 1m 22s\tremaining: 1m 40s\n",
      "453:\tlearn: 1.3760957\ttotal: 1m 23s\tremaining: 1m 39s\n",
      "454:\tlearn: 1.3759782\ttotal: 1m 23s\tremaining: 1m 39s\n",
      "455:\tlearn: 1.3758620\ttotal: 1m 23s\tremaining: 1m 39s\n",
      "456:\tlearn: 1.3757470\ttotal: 1m 23s\tremaining: 1m 39s\n",
      "457:\tlearn: 1.3755977\ttotal: 1m 23s\tremaining: 1m 39s\n",
      "458:\tlearn: 1.3754270\ttotal: 1m 23s\tremaining: 1m 38s\n",
      "459:\tlearn: 1.3753278\ttotal: 1m 24s\tremaining: 1m 38s\n",
      "460:\tlearn: 1.3752119\ttotal: 1m 24s\tremaining: 1m 38s\n",
      "461:\tlearn: 1.3751083\ttotal: 1m 24s\tremaining: 1m 38s\n",
      "462:\tlearn: 1.3749132\ttotal: 1m 24s\tremaining: 1m 38s\n",
      "463:\tlearn: 1.3747384\ttotal: 1m 24s\tremaining: 1m 37s\n",
      "464:\tlearn: 1.3746024\ttotal: 1m 24s\tremaining: 1m 37s\n",
      "465:\tlearn: 1.3744894\ttotal: 1m 25s\tremaining: 1m 37s\n",
      "466:\tlearn: 1.3743761\ttotal: 1m 25s\tremaining: 1m 37s\n",
      "467:\tlearn: 1.3742349\ttotal: 1m 25s\tremaining: 1m 37s\n",
      "468:\tlearn: 1.3741069\ttotal: 1m 25s\tremaining: 1m 36s\n",
      "469:\tlearn: 1.3739475\ttotal: 1m 25s\tremaining: 1m 36s\n",
      "470:\tlearn: 1.3738367\ttotal: 1m 26s\tremaining: 1m 36s\n",
      "471:\tlearn: 1.3737145\ttotal: 1m 26s\tremaining: 1m 36s\n",
      "472:\tlearn: 1.3735979\ttotal: 1m 26s\tremaining: 1m 36s\n",
      "473:\tlearn: 1.3734782\ttotal: 1m 26s\tremaining: 1m 36s\n",
      "474:\tlearn: 1.3733414\ttotal: 1m 26s\tremaining: 1m 35s\n",
      "475:\tlearn: 1.3732075\ttotal: 1m 26s\tremaining: 1m 35s\n",
      "476:\tlearn: 1.3730477\ttotal: 1m 27s\tremaining: 1m 35s\n",
      "477:\tlearn: 1.3729309\ttotal: 1m 27s\tremaining: 1m 35s\n",
      "478:\tlearn: 1.3727885\ttotal: 1m 27s\tremaining: 1m 35s\n",
      "479:\tlearn: 1.3726382\ttotal: 1m 27s\tremaining: 1m 34s\n",
      "480:\tlearn: 1.3725217\ttotal: 1m 27s\tremaining: 1m 34s\n",
      "481:\tlearn: 1.3724132\ttotal: 1m 27s\tremaining: 1m 34s\n",
      "482:\tlearn: 1.3722889\ttotal: 1m 28s\tremaining: 1m 34s\n",
      "483:\tlearn: 1.3721497\ttotal: 1m 28s\tremaining: 1m 34s\n",
      "484:\tlearn: 1.3720195\ttotal: 1m 28s\tremaining: 1m 33s\n",
      "485:\tlearn: 1.3718855\ttotal: 1m 28s\tremaining: 1m 33s\n",
      "486:\tlearn: 1.3717504\ttotal: 1m 28s\tremaining: 1m 33s\n",
      "487:\tlearn: 1.3716363\ttotal: 1m 28s\tremaining: 1m 33s\n",
      "488:\tlearn: 1.3714977\ttotal: 1m 29s\tremaining: 1m 33s\n",
      "489:\tlearn: 1.3713757\ttotal: 1m 29s\tremaining: 1m 32s\n",
      "490:\tlearn: 1.3712646\ttotal: 1m 29s\tremaining: 1m 32s\n",
      "491:\tlearn: 1.3711675\ttotal: 1m 29s\tremaining: 1m 32s\n",
      "492:\tlearn: 1.3710664\ttotal: 1m 29s\tremaining: 1m 32s\n",
      "493:\tlearn: 1.3708587\ttotal: 1m 29s\tremaining: 1m 32s\n",
      "494:\tlearn: 1.3707361\ttotal: 1m 30s\tremaining: 1m 31s\n",
      "495:\tlearn: 1.3705893\ttotal: 1m 30s\tremaining: 1m 31s\n",
      "496:\tlearn: 1.3704830\ttotal: 1m 30s\tremaining: 1m 31s\n",
      "497:\tlearn: 1.3702944\ttotal: 1m 30s\tremaining: 1m 31s\n",
      "498:\tlearn: 1.3701198\ttotal: 1m 30s\tremaining: 1m 31s\n",
      "499:\tlearn: 1.3700136\ttotal: 1m 30s\tremaining: 1m 30s\n",
      "500:\tlearn: 1.3699207\ttotal: 1m 31s\tremaining: 1m 30s\n",
      "501:\tlearn: 1.3697834\ttotal: 1m 31s\tremaining: 1m 30s\n",
      "502:\tlearn: 1.3696499\ttotal: 1m 31s\tremaining: 1m 30s\n",
      "503:\tlearn: 1.3694957\ttotal: 1m 31s\tremaining: 1m 30s\n",
      "504:\tlearn: 1.3693680\ttotal: 1m 31s\tremaining: 1m 30s\n",
      "505:\tlearn: 1.3691877\ttotal: 1m 32s\tremaining: 1m 29s\n",
      "506:\tlearn: 1.3690477\ttotal: 1m 32s\tremaining: 1m 29s\n",
      "507:\tlearn: 1.3689490\ttotal: 1m 32s\tremaining: 1m 29s\n",
      "508:\tlearn: 1.3687986\ttotal: 1m 32s\tremaining: 1m 29s\n",
      "509:\tlearn: 1.3686923\ttotal: 1m 32s\tremaining: 1m 29s\n",
      "510:\tlearn: 1.3685574\ttotal: 1m 32s\tremaining: 1m 28s\n",
      "511:\tlearn: 1.3683489\ttotal: 1m 33s\tremaining: 1m 28s\n",
      "512:\tlearn: 1.3682103\ttotal: 1m 33s\tremaining: 1m 28s\n",
      "513:\tlearn: 1.3680721\ttotal: 1m 33s\tremaining: 1m 28s\n",
      "514:\tlearn: 1.3679638\ttotal: 1m 33s\tremaining: 1m 28s\n",
      "515:\tlearn: 1.3678266\ttotal: 1m 33s\tremaining: 1m 27s\n",
      "516:\tlearn: 1.3677129\ttotal: 1m 33s\tremaining: 1m 27s\n",
      "517:\tlearn: 1.3675594\ttotal: 1m 34s\tremaining: 1m 27s\n",
      "518:\tlearn: 1.3674356\ttotal: 1m 34s\tremaining: 1m 27s\n",
      "519:\tlearn: 1.3672847\ttotal: 1m 34s\tremaining: 1m 27s\n",
      "520:\tlearn: 1.3671829\ttotal: 1m 34s\tremaining: 1m 27s\n",
      "521:\tlearn: 1.3670757\ttotal: 1m 34s\tremaining: 1m 26s\n",
      "522:\tlearn: 1.3669434\ttotal: 1m 34s\tremaining: 1m 26s\n",
      "523:\tlearn: 1.3668259\ttotal: 1m 35s\tremaining: 1m 26s\n",
      "524:\tlearn: 1.3666792\ttotal: 1m 35s\tremaining: 1m 26s\n",
      "525:\tlearn: 1.3665577\ttotal: 1m 35s\tremaining: 1m 26s\n",
      "526:\tlearn: 1.3664055\ttotal: 1m 35s\tremaining: 1m 25s\n",
      "527:\tlearn: 1.3663150\ttotal: 1m 35s\tremaining: 1m 25s\n",
      "528:\tlearn: 1.3662181\ttotal: 1m 35s\tremaining: 1m 25s\n",
      "529:\tlearn: 1.3660948\ttotal: 1m 36s\tremaining: 1m 25s\n",
      "530:\tlearn: 1.3659935\ttotal: 1m 36s\tremaining: 1m 25s\n",
      "531:\tlearn: 1.3658911\ttotal: 1m 36s\tremaining: 1m 24s\n",
      "532:\tlearn: 1.3657560\ttotal: 1m 36s\tremaining: 1m 24s\n",
      "533:\tlearn: 1.3656022\ttotal: 1m 36s\tremaining: 1m 24s\n",
      "534:\tlearn: 1.3654900\ttotal: 1m 37s\tremaining: 1m 24s\n",
      "535:\tlearn: 1.3653690\ttotal: 1m 37s\tremaining: 1m 24s\n",
      "536:\tlearn: 1.3652709\ttotal: 1m 37s\tremaining: 1m 23s\n",
      "537:\tlearn: 1.3651639\ttotal: 1m 37s\tremaining: 1m 23s\n",
      "538:\tlearn: 1.3650397\ttotal: 1m 37s\tremaining: 1m 23s\n",
      "539:\tlearn: 1.3649296\ttotal: 1m 37s\tremaining: 1m 23s\n",
      "540:\tlearn: 1.3648204\ttotal: 1m 38s\tremaining: 1m 23s\n",
      "541:\tlearn: 1.3647058\ttotal: 1m 38s\tremaining: 1m 22s\n",
      "542:\tlearn: 1.3646002\ttotal: 1m 38s\tremaining: 1m 22s\n",
      "543:\tlearn: 1.3644615\ttotal: 1m 38s\tremaining: 1m 22s\n",
      "544:\tlearn: 1.3643539\ttotal: 1m 38s\tremaining: 1m 22s\n",
      "545:\tlearn: 1.3642795\ttotal: 1m 38s\tremaining: 1m 22s\n",
      "546:\tlearn: 1.3641700\ttotal: 1m 39s\tremaining: 1m 22s\n",
      "547:\tlearn: 1.3640605\ttotal: 1m 39s\tremaining: 1m 21s\n",
      "548:\tlearn: 1.3639510\ttotal: 1m 39s\tremaining: 1m 21s\n",
      "549:\tlearn: 1.3637808\ttotal: 1m 39s\tremaining: 1m 21s\n",
      "550:\tlearn: 1.3636525\ttotal: 1m 39s\tremaining: 1m 21s\n",
      "551:\tlearn: 1.3635625\ttotal: 1m 39s\tremaining: 1m 21s\n",
      "552:\tlearn: 1.3634734\ttotal: 1m 40s\tremaining: 1m 20s\n",
      "553:\tlearn: 1.3633826\ttotal: 1m 40s\tremaining: 1m 20s\n",
      "554:\tlearn: 1.3632836\ttotal: 1m 40s\tremaining: 1m 20s\n",
      "555:\tlearn: 1.3631800\ttotal: 1m 40s\tremaining: 1m 20s\n",
      "556:\tlearn: 1.3630497\ttotal: 1m 40s\tremaining: 1m 20s\n",
      "557:\tlearn: 1.3629177\ttotal: 1m 40s\tremaining: 1m 19s\n",
      "558:\tlearn: 1.3628242\ttotal: 1m 41s\tremaining: 1m 19s\n",
      "559:\tlearn: 1.3627309\ttotal: 1m 41s\tremaining: 1m 19s\n",
      "560:\tlearn: 1.3626578\ttotal: 1m 41s\tremaining: 1m 19s\n",
      "561:\tlearn: 1.3625257\ttotal: 1m 41s\tremaining: 1m 19s\n",
      "562:\tlearn: 1.3624119\ttotal: 1m 41s\tremaining: 1m 19s\n",
      "563:\tlearn: 1.3623050\ttotal: 1m 41s\tremaining: 1m 18s\n",
      "564:\tlearn: 1.3621786\ttotal: 1m 42s\tremaining: 1m 18s\n",
      "565:\tlearn: 1.3620836\ttotal: 1m 42s\tremaining: 1m 18s\n",
      "566:\tlearn: 1.3619705\ttotal: 1m 42s\tremaining: 1m 18s\n",
      "567:\tlearn: 1.3618701\ttotal: 1m 42s\tremaining: 1m 18s\n",
      "568:\tlearn: 1.3617563\ttotal: 1m 42s\tremaining: 1m 17s\n",
      "569:\tlearn: 1.3616611\ttotal: 1m 43s\tremaining: 1m 17s\n",
      "570:\tlearn: 1.3615530\ttotal: 1m 43s\tremaining: 1m 17s\n",
      "571:\tlearn: 1.3614580\ttotal: 1m 43s\tremaining: 1m 17s\n",
      "572:\tlearn: 1.3613555\ttotal: 1m 43s\tremaining: 1m 17s\n",
      "573:\tlearn: 1.3612260\ttotal: 1m 43s\tremaining: 1m 16s\n",
      "574:\tlearn: 1.3611560\ttotal: 1m 43s\tremaining: 1m 16s\n",
      "575:\tlearn: 1.3610519\ttotal: 1m 44s\tremaining: 1m 16s\n",
      "576:\tlearn: 1.3609448\ttotal: 1m 44s\tremaining: 1m 16s\n",
      "577:\tlearn: 1.3608287\ttotal: 1m 44s\tremaining: 1m 16s\n",
      "578:\tlearn: 1.3607229\ttotal: 1m 44s\tremaining: 1m 16s\n",
      "579:\tlearn: 1.3606181\ttotal: 1m 44s\tremaining: 1m 15s\n",
      "580:\tlearn: 1.3604925\ttotal: 1m 44s\tremaining: 1m 15s\n",
      "581:\tlearn: 1.3603921\ttotal: 1m 45s\tremaining: 1m 15s\n",
      "582:\tlearn: 1.3602592\ttotal: 1m 45s\tremaining: 1m 15s\n",
      "583:\tlearn: 1.3601729\ttotal: 1m 45s\tremaining: 1m 15s\n",
      "584:\tlearn: 1.3600606\ttotal: 1m 45s\tremaining: 1m 14s\n",
      "585:\tlearn: 1.3599328\ttotal: 1m 45s\tremaining: 1m 14s\n",
      "586:\tlearn: 1.3598232\ttotal: 1m 45s\tremaining: 1m 14s\n",
      "587:\tlearn: 1.3597057\ttotal: 1m 46s\tremaining: 1m 14s\n",
      "588:\tlearn: 1.3596211\ttotal: 1m 46s\tremaining: 1m 14s\n",
      "589:\tlearn: 1.3594900\ttotal: 1m 46s\tremaining: 1m 13s\n",
      "590:\tlearn: 1.3593790\ttotal: 1m 46s\tremaining: 1m 13s\n",
      "591:\tlearn: 1.3592725\ttotal: 1m 46s\tremaining: 1m 13s\n",
      "592:\tlearn: 1.3591251\ttotal: 1m 46s\tremaining: 1m 13s\n",
      "593:\tlearn: 1.3590276\ttotal: 1m 47s\tremaining: 1m 13s\n",
      "594:\tlearn: 1.3589222\ttotal: 1m 47s\tremaining: 1m 13s\n",
      "595:\tlearn: 1.3587614\ttotal: 1m 47s\tremaining: 1m 12s\n",
      "596:\tlearn: 1.3586676\ttotal: 1m 47s\tremaining: 1m 12s\n",
      "597:\tlearn: 1.3585674\ttotal: 1m 47s\tremaining: 1m 12s\n",
      "598:\tlearn: 1.3584273\ttotal: 1m 47s\tremaining: 1m 12s\n",
      "599:\tlearn: 1.3583464\ttotal: 1m 48s\tremaining: 1m 12s\n",
      "600:\tlearn: 1.3581387\ttotal: 1m 48s\tremaining: 1m 11s\n",
      "601:\tlearn: 1.3579155\ttotal: 1m 48s\tremaining: 1m 11s\n",
      "602:\tlearn: 1.3578162\ttotal: 1m 48s\tremaining: 1m 11s\n",
      "603:\tlearn: 1.3577193\ttotal: 1m 48s\tremaining: 1m 11s\n",
      "604:\tlearn: 1.3576149\ttotal: 1m 49s\tremaining: 1m 11s\n",
      "605:\tlearn: 1.3575395\ttotal: 1m 49s\tremaining: 1m 10s\n",
      "606:\tlearn: 1.3574339\ttotal: 1m 49s\tremaining: 1m 10s\n",
      "607:\tlearn: 1.3573350\ttotal: 1m 49s\tremaining: 1m 10s\n",
      "608:\tlearn: 1.3572541\ttotal: 1m 49s\tremaining: 1m 10s\n",
      "609:\tlearn: 1.3571274\ttotal: 1m 49s\tremaining: 1m 10s\n",
      "610:\tlearn: 1.3570198\ttotal: 1m 50s\tremaining: 1m 10s\n",
      "611:\tlearn: 1.3569461\ttotal: 1m 50s\tremaining: 1m 9s\n",
      "612:\tlearn: 1.3568353\ttotal: 1m 50s\tremaining: 1m 9s\n",
      "613:\tlearn: 1.3567585\ttotal: 1m 50s\tremaining: 1m 9s\n",
      "614:\tlearn: 1.3566608\ttotal: 1m 50s\tremaining: 1m 9s\n",
      "615:\tlearn: 1.3564960\ttotal: 1m 50s\tremaining: 1m 9s\n",
      "616:\tlearn: 1.3564217\ttotal: 1m 51s\tremaining: 1m 8s\n",
      "617:\tlearn: 1.3563369\ttotal: 1m 51s\tremaining: 1m 8s\n",
      "618:\tlearn: 1.3562535\ttotal: 1m 51s\tremaining: 1m 8s\n",
      "619:\tlearn: 1.3561704\ttotal: 1m 51s\tremaining: 1m 8s\n",
      "620:\tlearn: 1.3560524\ttotal: 1m 51s\tremaining: 1m 8s\n",
      "621:\tlearn: 1.3559624\ttotal: 1m 52s\tremaining: 1m 8s\n",
      "622:\tlearn: 1.3558712\ttotal: 1m 52s\tremaining: 1m 7s\n",
      "623:\tlearn: 1.3557341\ttotal: 1m 52s\tremaining: 1m 7s\n",
      "624:\tlearn: 1.3556260\ttotal: 1m 52s\tremaining: 1m 7s\n",
      "625:\tlearn: 1.3555523\ttotal: 1m 52s\tremaining: 1m 7s\n",
      "626:\tlearn: 1.3554583\ttotal: 1m 52s\tremaining: 1m 7s\n",
      "627:\tlearn: 1.3553307\ttotal: 1m 53s\tremaining: 1m 6s\n",
      "628:\tlearn: 1.3552056\ttotal: 1m 53s\tremaining: 1m 6s\n",
      "629:\tlearn: 1.3551082\ttotal: 1m 53s\tremaining: 1m 6s\n",
      "630:\tlearn: 1.3550260\ttotal: 1m 53s\tremaining: 1m 6s\n",
      "631:\tlearn: 1.3549492\ttotal: 1m 53s\tremaining: 1m 6s\n",
      "632:\tlearn: 1.3548365\ttotal: 1m 53s\tremaining: 1m 6s\n",
      "633:\tlearn: 1.3546721\ttotal: 1m 54s\tremaining: 1m 5s\n",
      "634:\tlearn: 1.3545364\ttotal: 1m 54s\tremaining: 1m 5s\n",
      "635:\tlearn: 1.3544554\ttotal: 1m 54s\tremaining: 1m 5s\n",
      "636:\tlearn: 1.3543659\ttotal: 1m 54s\tremaining: 1m 5s\n",
      "637:\tlearn: 1.3542287\ttotal: 1m 54s\tremaining: 1m 5s\n",
      "638:\tlearn: 1.3541552\ttotal: 1m 55s\tremaining: 1m 4s\n",
      "639:\tlearn: 1.3540430\ttotal: 1m 55s\tremaining: 1m 4s\n",
      "640:\tlearn: 1.3539589\ttotal: 1m 55s\tremaining: 1m 4s\n",
      "641:\tlearn: 1.3538289\ttotal: 1m 55s\tremaining: 1m 4s\n",
      "642:\tlearn: 1.3537236\ttotal: 1m 55s\tremaining: 1m 4s\n",
      "643:\tlearn: 1.3536500\ttotal: 1m 55s\tremaining: 1m 4s\n",
      "644:\tlearn: 1.3535544\ttotal: 1m 56s\tremaining: 1m 3s\n",
      "645:\tlearn: 1.3534716\ttotal: 1m 56s\tremaining: 1m 3s\n",
      "646:\tlearn: 1.3533269\ttotal: 1m 56s\tremaining: 1m 3s\n",
      "647:\tlearn: 1.3532340\ttotal: 1m 56s\tremaining: 1m 3s\n",
      "648:\tlearn: 1.3531467\ttotal: 1m 56s\tremaining: 1m 3s\n",
      "649:\tlearn: 1.3530573\ttotal: 1m 56s\tremaining: 1m 2s\n",
      "650:\tlearn: 1.3529811\ttotal: 1m 57s\tremaining: 1m 2s\n",
      "651:\tlearn: 1.3529217\ttotal: 1m 57s\tremaining: 1m 2s\n",
      "652:\tlearn: 1.3528226\ttotal: 1m 57s\tremaining: 1m 2s\n",
      "653:\tlearn: 1.3527049\ttotal: 1m 57s\tremaining: 1m 2s\n",
      "654:\tlearn: 1.3526080\ttotal: 1m 57s\tremaining: 1m 2s\n",
      "655:\tlearn: 1.3525312\ttotal: 1m 57s\tremaining: 1m 1s\n",
      "656:\tlearn: 1.3524485\ttotal: 1m 58s\tremaining: 1m 1s\n",
      "657:\tlearn: 1.3523356\ttotal: 1m 58s\tremaining: 1m 1s\n",
      "658:\tlearn: 1.3522530\ttotal: 1m 58s\tremaining: 1m 1s\n",
      "659:\tlearn: 1.3521739\ttotal: 1m 58s\tremaining: 1m 1s\n",
      "660:\tlearn: 1.3520243\ttotal: 1m 58s\tremaining: 1m\n",
      "661:\tlearn: 1.3519091\ttotal: 1m 59s\tremaining: 1m\n",
      "662:\tlearn: 1.3518512\ttotal: 1m 59s\tremaining: 1m\n",
      "663:\tlearn: 1.3517591\ttotal: 1m 59s\tremaining: 1m\n",
      "664:\tlearn: 1.3516718\ttotal: 1m 59s\tremaining: 1m\n",
      "665:\tlearn: 1.3515728\ttotal: 1m 59s\tremaining: 1m\n",
      "666:\tlearn: 1.3514995\ttotal: 1m 59s\tremaining: 59.9s\n",
      "667:\tlearn: 1.3514274\ttotal: 2m\tremaining: 59.7s\n",
      "668:\tlearn: 1.3513387\ttotal: 2m\tremaining: 59.5s\n",
      "669:\tlearn: 1.3512509\ttotal: 2m\tremaining: 59.3s\n",
      "670:\tlearn: 1.3511503\ttotal: 2m\tremaining: 59.1s\n",
      "671:\tlearn: 1.3510623\ttotal: 2m\tremaining: 59s\n",
      "672:\tlearn: 1.3509659\ttotal: 2m\tremaining: 58.8s\n",
      "673:\tlearn: 1.3508761\ttotal: 2m 1s\tremaining: 58.6s\n",
      "674:\tlearn: 1.3507773\ttotal: 2m 1s\tremaining: 58.4s\n",
      "675:\tlearn: 1.3506285\ttotal: 2m 1s\tremaining: 58.2s\n",
      "676:\tlearn: 1.3505561\ttotal: 2m 1s\tremaining: 58s\n",
      "677:\tlearn: 1.3504685\ttotal: 2m 1s\tremaining: 57.9s\n",
      "678:\tlearn: 1.3503816\ttotal: 2m 2s\tremaining: 57.7s\n",
      "679:\tlearn: 1.3502774\ttotal: 2m 2s\tremaining: 57.5s\n",
      "680:\tlearn: 1.3502089\ttotal: 2m 2s\tremaining: 57.3s\n",
      "681:\tlearn: 1.3500845\ttotal: 2m 2s\tremaining: 57.1s\n",
      "682:\tlearn: 1.3500181\ttotal: 2m 2s\tremaining: 57s\n",
      "683:\tlearn: 1.3499322\ttotal: 2m 2s\tremaining: 56.8s\n",
      "684:\tlearn: 1.3498511\ttotal: 2m 3s\tremaining: 56.6s\n",
      "685:\tlearn: 1.3497565\ttotal: 2m 3s\tremaining: 56.4s\n",
      "686:\tlearn: 1.3496689\ttotal: 2m 3s\tremaining: 56.2s\n",
      "687:\tlearn: 1.3495225\ttotal: 2m 3s\tremaining: 56s\n",
      "688:\tlearn: 1.3494481\ttotal: 2m 3s\tremaining: 55.9s\n",
      "689:\tlearn: 1.3493935\ttotal: 2m 3s\tremaining: 55.7s\n",
      "690:\tlearn: 1.3493084\ttotal: 2m 4s\tremaining: 55.5s\n",
      "691:\tlearn: 1.3492241\ttotal: 2m 4s\tremaining: 55.3s\n",
      "692:\tlearn: 1.3491281\ttotal: 2m 4s\tremaining: 55.1s\n",
      "693:\tlearn: 1.3490224\ttotal: 2m 4s\tremaining: 54.9s\n",
      "694:\tlearn: 1.3489300\ttotal: 2m 4s\tremaining: 54.8s\n",
      "695:\tlearn: 1.3488601\ttotal: 2m 4s\tremaining: 54.6s\n",
      "696:\tlearn: 1.3487362\ttotal: 2m 5s\tremaining: 54.4s\n",
      "697:\tlearn: 1.3486499\ttotal: 2m 5s\tremaining: 54.2s\n",
      "698:\tlearn: 1.3485677\ttotal: 2m 5s\tremaining: 54s\n",
      "699:\tlearn: 1.3484885\ttotal: 2m 5s\tremaining: 53.9s\n",
      "700:\tlearn: 1.3484044\ttotal: 2m 5s\tremaining: 53.7s\n",
      "701:\tlearn: 1.3483246\ttotal: 2m 6s\tremaining: 53.5s\n",
      "702:\tlearn: 1.3481868\ttotal: 2m 6s\tremaining: 53.3s\n",
      "703:\tlearn: 1.3481166\ttotal: 2m 6s\tremaining: 53.1s\n",
      "704:\tlearn: 1.3479976\ttotal: 2m 6s\tremaining: 52.9s\n",
      "705:\tlearn: 1.3479245\ttotal: 2m 6s\tremaining: 52.8s\n",
      "706:\tlearn: 1.3478088\ttotal: 2m 6s\tremaining: 52.6s\n",
      "707:\tlearn: 1.3477140\ttotal: 2m 7s\tremaining: 52.4s\n",
      "708:\tlearn: 1.3476236\ttotal: 2m 7s\tremaining: 52.2s\n",
      "709:\tlearn: 1.3475231\ttotal: 2m 7s\tremaining: 52s\n",
      "710:\tlearn: 1.3474339\ttotal: 2m 7s\tremaining: 51.8s\n",
      "711:\tlearn: 1.3473506\ttotal: 2m 7s\tremaining: 51.7s\n",
      "712:\tlearn: 1.3472612\ttotal: 2m 7s\tremaining: 51.5s\n",
      "713:\tlearn: 1.3471639\ttotal: 2m 8s\tremaining: 51.3s\n",
      "714:\tlearn: 1.3471005\ttotal: 2m 8s\tremaining: 51.1s\n",
      "715:\tlearn: 1.3470268\ttotal: 2m 8s\tremaining: 50.9s\n",
      "716:\tlearn: 1.3469503\ttotal: 2m 8s\tremaining: 50.7s\n",
      "717:\tlearn: 1.3468623\ttotal: 2m 8s\tremaining: 50.6s\n",
      "718:\tlearn: 1.3467714\ttotal: 2m 8s\tremaining: 50.4s\n",
      "719:\tlearn: 1.3466890\ttotal: 2m 9s\tremaining: 50.2s\n",
      "720:\tlearn: 1.3466209\ttotal: 2m 9s\tremaining: 50s\n",
      "721:\tlearn: 1.3465584\ttotal: 2m 9s\tremaining: 49.8s\n",
      "722:\tlearn: 1.3464462\ttotal: 2m 9s\tremaining: 49.6s\n",
      "723:\tlearn: 1.3463620\ttotal: 2m 9s\tremaining: 49.5s\n",
      "724:\tlearn: 1.3462725\ttotal: 2m 9s\tremaining: 49.3s\n",
      "725:\tlearn: 1.3461809\ttotal: 2m 10s\tremaining: 49.1s\n",
      "726:\tlearn: 1.3460815\ttotal: 2m 10s\tremaining: 48.9s\n",
      "727:\tlearn: 1.3460020\ttotal: 2m 10s\tremaining: 48.7s\n",
      "728:\tlearn: 1.3458936\ttotal: 2m 10s\tremaining: 48.6s\n",
      "729:\tlearn: 1.3457634\ttotal: 2m 10s\tremaining: 48.4s\n",
      "730:\tlearn: 1.3456953\ttotal: 2m 11s\tremaining: 48.2s\n",
      "731:\tlearn: 1.3456004\ttotal: 2m 11s\tremaining: 48s\n",
      "732:\tlearn: 1.3455249\ttotal: 2m 11s\tremaining: 47.9s\n",
      "733:\tlearn: 1.3454526\ttotal: 2m 11s\tremaining: 47.7s\n",
      "734:\tlearn: 1.3453618\ttotal: 2m 11s\tremaining: 47.5s\n",
      "735:\tlearn: 1.3453015\ttotal: 2m 11s\tremaining: 47.3s\n",
      "736:\tlearn: 1.3452088\ttotal: 2m 12s\tremaining: 47.1s\n",
      "737:\tlearn: 1.3450994\ttotal: 2m 12s\tremaining: 47s\n",
      "738:\tlearn: 1.3450209\ttotal: 2m 12s\tremaining: 46.8s\n",
      "739:\tlearn: 1.3449421\ttotal: 2m 12s\tremaining: 46.6s\n",
      "740:\tlearn: 1.3448440\ttotal: 2m 12s\tremaining: 46.4s\n",
      "741:\tlearn: 1.3447526\ttotal: 2m 12s\tremaining: 46.2s\n",
      "742:\tlearn: 1.3446903\ttotal: 2m 13s\tremaining: 46.1s\n",
      "743:\tlearn: 1.3445854\ttotal: 2m 13s\tremaining: 45.9s\n",
      "744:\tlearn: 1.3445180\ttotal: 2m 13s\tremaining: 45.7s\n",
      "745:\tlearn: 1.3444703\ttotal: 2m 13s\tremaining: 45.5s\n",
      "746:\tlearn: 1.3444060\ttotal: 2m 13s\tremaining: 45.3s\n",
      "747:\tlearn: 1.3443441\ttotal: 2m 14s\tremaining: 45.2s\n",
      "748:\tlearn: 1.3442378\ttotal: 2m 14s\tremaining: 45s\n",
      "749:\tlearn: 1.3441776\ttotal: 2m 14s\tremaining: 44.8s\n",
      "750:\tlearn: 1.3440968\ttotal: 2m 14s\tremaining: 44.6s\n",
      "751:\tlearn: 1.3440241\ttotal: 2m 14s\tremaining: 44.5s\n",
      "752:\tlearn: 1.3439220\ttotal: 2m 15s\tremaining: 44.3s\n",
      "753:\tlearn: 1.3438293\ttotal: 2m 15s\tremaining: 44.1s\n",
      "754:\tlearn: 1.3437548\ttotal: 2m 15s\tremaining: 43.9s\n",
      "755:\tlearn: 1.3436791\ttotal: 2m 15s\tremaining: 43.8s\n",
      "756:\tlearn: 1.3436154\ttotal: 2m 15s\tremaining: 43.6s\n",
      "757:\tlearn: 1.3434993\ttotal: 2m 16s\tremaining: 43.4s\n",
      "758:\tlearn: 1.3434050\ttotal: 2m 16s\tremaining: 43.2s\n",
      "759:\tlearn: 1.3433475\ttotal: 2m 16s\tremaining: 43.1s\n",
      "760:\tlearn: 1.3432686\ttotal: 2m 16s\tremaining: 42.9s\n",
      "761:\tlearn: 1.3431935\ttotal: 2m 16s\tremaining: 42.7s\n",
      "762:\tlearn: 1.3430886\ttotal: 2m 16s\tremaining: 42.5s\n",
      "763:\tlearn: 1.3430234\ttotal: 2m 17s\tremaining: 42.4s\n",
      "764:\tlearn: 1.3429558\ttotal: 2m 17s\tremaining: 42.2s\n",
      "765:\tlearn: 1.3428735\ttotal: 2m 17s\tremaining: 42s\n",
      "766:\tlearn: 1.3428124\ttotal: 2m 17s\tremaining: 41.8s\n",
      "767:\tlearn: 1.3426992\ttotal: 2m 17s\tremaining: 41.6s\n",
      "768:\tlearn: 1.3425941\ttotal: 2m 18s\tremaining: 41.5s\n",
      "769:\tlearn: 1.3425214\ttotal: 2m 18s\tremaining: 41.3s\n",
      "770:\tlearn: 1.3424548\ttotal: 2m 18s\tremaining: 41.1s\n",
      "771:\tlearn: 1.3423881\ttotal: 2m 18s\tremaining: 40.9s\n",
      "772:\tlearn: 1.3422832\ttotal: 2m 18s\tremaining: 40.7s\n",
      "773:\tlearn: 1.3421696\ttotal: 2m 18s\tremaining: 40.6s\n",
      "774:\tlearn: 1.3420717\ttotal: 2m 19s\tremaining: 40.4s\n",
      "775:\tlearn: 1.3420018\ttotal: 2m 19s\tremaining: 40.2s\n",
      "776:\tlearn: 1.3419518\ttotal: 2m 19s\tremaining: 40s\n",
      "777:\tlearn: 1.3418631\ttotal: 2m 19s\tremaining: 39.8s\n",
      "778:\tlearn: 1.3417942\ttotal: 2m 19s\tremaining: 39.6s\n",
      "779:\tlearn: 1.3417272\ttotal: 2m 19s\tremaining: 39.5s\n",
      "780:\tlearn: 1.3415931\ttotal: 2m 20s\tremaining: 39.3s\n",
      "781:\tlearn: 1.3414483\ttotal: 2m 20s\tremaining: 39.1s\n",
      "782:\tlearn: 1.3413806\ttotal: 2m 20s\tremaining: 38.9s\n",
      "783:\tlearn: 1.3412967\ttotal: 2m 20s\tremaining: 38.8s\n",
      "784:\tlearn: 1.3412118\ttotal: 2m 20s\tremaining: 38.6s\n",
      "785:\tlearn: 1.3411577\ttotal: 2m 21s\tremaining: 38.4s\n",
      "786:\tlearn: 1.3410835\ttotal: 2m 21s\tremaining: 38.2s\n",
      "787:\tlearn: 1.3409711\ttotal: 2m 21s\tremaining: 38s\n",
      "788:\tlearn: 1.3409069\ttotal: 2m 21s\tremaining: 37.9s\n",
      "789:\tlearn: 1.3408176\ttotal: 2m 21s\tremaining: 37.7s\n",
      "790:\tlearn: 1.3407427\ttotal: 2m 21s\tremaining: 37.5s\n",
      "791:\tlearn: 1.3406848\ttotal: 2m 22s\tremaining: 37.3s\n",
      "792:\tlearn: 1.3405770\ttotal: 2m 22s\tremaining: 37.1s\n",
      "793:\tlearn: 1.3405124\ttotal: 2m 22s\tremaining: 37s\n",
      "794:\tlearn: 1.3404450\ttotal: 2m 22s\tremaining: 36.8s\n",
      "795:\tlearn: 1.3403734\ttotal: 2m 22s\tremaining: 36.6s\n",
      "796:\tlearn: 1.3402684\ttotal: 2m 22s\tremaining: 36.4s\n",
      "797:\tlearn: 1.3402242\ttotal: 2m 23s\tremaining: 36.2s\n",
      "798:\tlearn: 1.3401270\ttotal: 2m 23s\tremaining: 36s\n",
      "799:\tlearn: 1.3400573\ttotal: 2m 23s\tremaining: 35.9s\n",
      "800:\tlearn: 1.3399955\ttotal: 2m 23s\tremaining: 35.7s\n",
      "801:\tlearn: 1.3399369\ttotal: 2m 23s\tremaining: 35.5s\n",
      "802:\tlearn: 1.3398393\ttotal: 2m 24s\tremaining: 35.3s\n",
      "803:\tlearn: 1.3397004\ttotal: 2m 24s\tremaining: 35.1s\n",
      "804:\tlearn: 1.3395974\ttotal: 2m 24s\tremaining: 35s\n",
      "805:\tlearn: 1.3395512\ttotal: 2m 24s\tremaining: 34.8s\n",
      "806:\tlearn: 1.3394927\ttotal: 2m 24s\tremaining: 34.6s\n",
      "807:\tlearn: 1.3394381\ttotal: 2m 24s\tremaining: 34.4s\n",
      "808:\tlearn: 1.3393783\ttotal: 2m 25s\tremaining: 34.2s\n",
      "809:\tlearn: 1.3393047\ttotal: 2m 25s\tremaining: 34.1s\n",
      "810:\tlearn: 1.3392303\ttotal: 2m 25s\tremaining: 33.9s\n",
      "811:\tlearn: 1.3391360\ttotal: 2m 25s\tremaining: 33.7s\n",
      "812:\tlearn: 1.3390568\ttotal: 2m 25s\tremaining: 33.5s\n",
      "813:\tlearn: 1.3389950\ttotal: 2m 25s\tremaining: 33.4s\n",
      "814:\tlearn: 1.3389036\ttotal: 2m 26s\tremaining: 33.2s\n",
      "815:\tlearn: 1.3388299\ttotal: 2m 26s\tremaining: 33s\n",
      "816:\tlearn: 1.3387678\ttotal: 2m 26s\tremaining: 32.8s\n",
      "817:\tlearn: 1.3387021\ttotal: 2m 26s\tremaining: 32.6s\n",
      "818:\tlearn: 1.3386213\ttotal: 2m 26s\tremaining: 32.5s\n",
      "819:\tlearn: 1.3385218\ttotal: 2m 27s\tremaining: 32.3s\n",
      "820:\tlearn: 1.3384668\ttotal: 2m 27s\tremaining: 32.1s\n",
      "821:\tlearn: 1.3383603\ttotal: 2m 27s\tremaining: 31.9s\n",
      "822:\tlearn: 1.3382841\ttotal: 2m 27s\tremaining: 31.7s\n",
      "823:\tlearn: 1.3382056\ttotal: 2m 27s\tremaining: 31.5s\n",
      "824:\tlearn: 1.3380910\ttotal: 2m 27s\tremaining: 31.4s\n",
      "825:\tlearn: 1.3380279\ttotal: 2m 28s\tremaining: 31.2s\n",
      "826:\tlearn: 1.3379567\ttotal: 2m 28s\tremaining: 31s\n",
      "827:\tlearn: 1.3378865\ttotal: 2m 28s\tremaining: 30.8s\n",
      "828:\tlearn: 1.3378140\ttotal: 2m 28s\tremaining: 30.6s\n",
      "829:\tlearn: 1.3377352\ttotal: 2m 28s\tremaining: 30.5s\n",
      "830:\tlearn: 1.3376734\ttotal: 2m 28s\tremaining: 30.3s\n",
      "831:\tlearn: 1.3375928\ttotal: 2m 29s\tremaining: 30.1s\n",
      "832:\tlearn: 1.3375251\ttotal: 2m 29s\tremaining: 29.9s\n",
      "833:\tlearn: 1.3374608\ttotal: 2m 29s\tremaining: 29.7s\n",
      "834:\tlearn: 1.3374026\ttotal: 2m 29s\tremaining: 29.6s\n",
      "835:\tlearn: 1.3373374\ttotal: 2m 29s\tremaining: 29.4s\n",
      "836:\tlearn: 1.3372653\ttotal: 2m 29s\tremaining: 29.2s\n",
      "837:\tlearn: 1.3372049\ttotal: 2m 30s\tremaining: 29s\n",
      "838:\tlearn: 1.3371182\ttotal: 2m 30s\tremaining: 28.8s\n",
      "839:\tlearn: 1.3370645\ttotal: 2m 30s\tremaining: 28.7s\n",
      "840:\tlearn: 1.3370089\ttotal: 2m 30s\tremaining: 28.5s\n",
      "841:\tlearn: 1.3369082\ttotal: 2m 30s\tremaining: 28.3s\n",
      "842:\tlearn: 1.3368564\ttotal: 2m 30s\tremaining: 28.1s\n",
      "843:\tlearn: 1.3367894\ttotal: 2m 31s\tremaining: 27.9s\n",
      "844:\tlearn: 1.3366966\ttotal: 2m 31s\tremaining: 27.8s\n",
      "845:\tlearn: 1.3366096\ttotal: 2m 31s\tremaining: 27.6s\n",
      "846:\tlearn: 1.3364644\ttotal: 2m 31s\tremaining: 27.4s\n",
      "847:\tlearn: 1.3363646\ttotal: 2m 31s\tremaining: 27.2s\n",
      "848:\tlearn: 1.3363106\ttotal: 2m 32s\tremaining: 27s\n",
      "849:\tlearn: 1.3362482\ttotal: 2m 32s\tremaining: 26.9s\n",
      "850:\tlearn: 1.3361261\ttotal: 2m 32s\tremaining: 26.7s\n",
      "851:\tlearn: 1.3360389\ttotal: 2m 32s\tremaining: 26.5s\n",
      "852:\tlearn: 1.3359753\ttotal: 2m 32s\tremaining: 26.3s\n",
      "853:\tlearn: 1.3359215\ttotal: 2m 32s\tremaining: 26.1s\n",
      "854:\tlearn: 1.3358293\ttotal: 2m 33s\tremaining: 26s\n",
      "855:\tlearn: 1.3357613\ttotal: 2m 33s\tremaining: 25.8s\n",
      "856:\tlearn: 1.3357198\ttotal: 2m 33s\tremaining: 25.6s\n",
      "857:\tlearn: 1.3356475\ttotal: 2m 33s\tremaining: 25.4s\n",
      "858:\tlearn: 1.3355801\ttotal: 2m 33s\tremaining: 25.2s\n",
      "859:\tlearn: 1.3354831\ttotal: 2m 33s\tremaining: 25.1s\n",
      "860:\tlearn: 1.3354217\ttotal: 2m 34s\tremaining: 24.9s\n",
      "861:\tlearn: 1.3353644\ttotal: 2m 34s\tremaining: 24.7s\n",
      "862:\tlearn: 1.3352849\ttotal: 2m 34s\tremaining: 24.5s\n",
      "863:\tlearn: 1.3352245\ttotal: 2m 34s\tremaining: 24.3s\n",
      "864:\tlearn: 1.3351641\ttotal: 2m 34s\tremaining: 24.2s\n",
      "865:\tlearn: 1.3351017\ttotal: 2m 34s\tremaining: 24s\n",
      "866:\tlearn: 1.3350121\ttotal: 2m 35s\tremaining: 23.8s\n",
      "867:\tlearn: 1.3349566\ttotal: 2m 35s\tremaining: 23.6s\n",
      "868:\tlearn: 1.3348831\ttotal: 2m 35s\tremaining: 23.4s\n",
      "869:\tlearn: 1.3348156\ttotal: 2m 35s\tremaining: 23.3s\n",
      "870:\tlearn: 1.3347461\ttotal: 2m 35s\tremaining: 23.1s\n",
      "871:\tlearn: 1.3346826\ttotal: 2m 35s\tremaining: 22.9s\n",
      "872:\tlearn: 1.3346116\ttotal: 2m 36s\tremaining: 22.7s\n",
      "873:\tlearn: 1.3345580\ttotal: 2m 36s\tremaining: 22.5s\n",
      "874:\tlearn: 1.3344732\ttotal: 2m 36s\tremaining: 22.4s\n",
      "875:\tlearn: 1.3343635\ttotal: 2m 36s\tremaining: 22.2s\n",
      "876:\tlearn: 1.3342714\ttotal: 2m 36s\tremaining: 22s\n",
      "877:\tlearn: 1.3342227\ttotal: 2m 37s\tremaining: 21.8s\n",
      "878:\tlearn: 1.3341630\ttotal: 2m 37s\tremaining: 21.6s\n",
      "879:\tlearn: 1.3341039\ttotal: 2m 37s\tremaining: 21.5s\n",
      "880:\tlearn: 1.3340467\ttotal: 2m 37s\tremaining: 21.3s\n",
      "881:\tlearn: 1.3339635\ttotal: 2m 37s\tremaining: 21.1s\n",
      "882:\tlearn: 1.3338992\ttotal: 2m 37s\tremaining: 20.9s\n",
      "883:\tlearn: 1.3338166\ttotal: 2m 38s\tremaining: 20.7s\n",
      "884:\tlearn: 1.3337264\ttotal: 2m 38s\tremaining: 20.6s\n",
      "885:\tlearn: 1.3336767\ttotal: 2m 38s\tremaining: 20.4s\n",
      "886:\tlearn: 1.3335520\ttotal: 2m 38s\tremaining: 20.2s\n",
      "887:\tlearn: 1.3334316\ttotal: 2m 38s\tremaining: 20s\n",
      "888:\tlearn: 1.3333824\ttotal: 2m 38s\tremaining: 19.8s\n",
      "889:\tlearn: 1.3333226\ttotal: 2m 39s\tremaining: 19.7s\n",
      "890:\tlearn: 1.3332381\ttotal: 2m 39s\tremaining: 19.5s\n",
      "891:\tlearn: 1.3331680\ttotal: 2m 39s\tremaining: 19.3s\n",
      "892:\tlearn: 1.3331150\ttotal: 2m 39s\tremaining: 19.1s\n",
      "893:\tlearn: 1.3330478\ttotal: 2m 39s\tremaining: 18.9s\n",
      "894:\tlearn: 1.3329941\ttotal: 2m 39s\tremaining: 18.8s\n",
      "895:\tlearn: 1.3329212\ttotal: 2m 40s\tremaining: 18.6s\n",
      "896:\tlearn: 1.3328631\ttotal: 2m 40s\tremaining: 18.4s\n",
      "897:\tlearn: 1.3328002\ttotal: 2m 40s\tremaining: 18.2s\n",
      "898:\tlearn: 1.3327514\ttotal: 2m 40s\tremaining: 18s\n",
      "899:\tlearn: 1.3326926\ttotal: 2m 40s\tremaining: 17.9s\n",
      "900:\tlearn: 1.3326236\ttotal: 2m 41s\tremaining: 17.7s\n",
      "901:\tlearn: 1.3325332\ttotal: 2m 41s\tremaining: 17.5s\n",
      "902:\tlearn: 1.3324635\ttotal: 2m 41s\tremaining: 17.3s\n",
      "903:\tlearn: 1.3323992\ttotal: 2m 41s\tremaining: 17.2s\n",
      "904:\tlearn: 1.3323456\ttotal: 2m 41s\tremaining: 17s\n",
      "905:\tlearn: 1.3322785\ttotal: 2m 41s\tremaining: 16.8s\n",
      "906:\tlearn: 1.3321704\ttotal: 2m 42s\tremaining: 16.6s\n",
      "907:\tlearn: 1.3320938\ttotal: 2m 42s\tremaining: 16.4s\n",
      "908:\tlearn: 1.3320542\ttotal: 2m 42s\tremaining: 16.3s\n",
      "909:\tlearn: 1.3319671\ttotal: 2m 42s\tremaining: 16.1s\n",
      "910:\tlearn: 1.3318768\ttotal: 2m 42s\tremaining: 15.9s\n",
      "911:\tlearn: 1.3317875\ttotal: 2m 42s\tremaining: 15.7s\n",
      "912:\tlearn: 1.3317199\ttotal: 2m 43s\tremaining: 15.5s\n",
      "913:\tlearn: 1.3316638\ttotal: 2m 43s\tremaining: 15.4s\n",
      "914:\tlearn: 1.3316165\ttotal: 2m 43s\tremaining: 15.2s\n",
      "915:\tlearn: 1.3315679\ttotal: 2m 43s\tremaining: 15s\n",
      "916:\tlearn: 1.3315011\ttotal: 2m 43s\tremaining: 14.8s\n",
      "917:\tlearn: 1.3314306\ttotal: 2m 43s\tremaining: 14.6s\n",
      "918:\tlearn: 1.3313581\ttotal: 2m 44s\tremaining: 14.5s\n",
      "919:\tlearn: 1.3313073\ttotal: 2m 44s\tremaining: 14.3s\n",
      "920:\tlearn: 1.3312242\ttotal: 2m 44s\tremaining: 14.1s\n",
      "921:\tlearn: 1.3311480\ttotal: 2m 44s\tremaining: 13.9s\n",
      "922:\tlearn: 1.3310727\ttotal: 2m 44s\tremaining: 13.7s\n",
      "923:\tlearn: 1.3310199\ttotal: 2m 44s\tremaining: 13.6s\n",
      "924:\tlearn: 1.3309599\ttotal: 2m 45s\tremaining: 13.4s\n",
      "925:\tlearn: 1.3308959\ttotal: 2m 45s\tremaining: 13.2s\n",
      "926:\tlearn: 1.3308409\ttotal: 2m 45s\tremaining: 13s\n",
      "927:\tlearn: 1.3307502\ttotal: 2m 45s\tremaining: 12.9s\n",
      "928:\tlearn: 1.3306948\ttotal: 2m 45s\tremaining: 12.7s\n",
      "929:\tlearn: 1.3306290\ttotal: 2m 46s\tremaining: 12.5s\n",
      "930:\tlearn: 1.3305431\ttotal: 2m 46s\tremaining: 12.3s\n",
      "931:\tlearn: 1.3304719\ttotal: 2m 46s\tremaining: 12.1s\n",
      "932:\tlearn: 1.3304187\ttotal: 2m 46s\tremaining: 12s\n",
      "933:\tlearn: 1.3303579\ttotal: 2m 46s\tremaining: 11.8s\n",
      "934:\tlearn: 1.3302876\ttotal: 2m 46s\tremaining: 11.6s\n",
      "935:\tlearn: 1.3302014\ttotal: 2m 47s\tremaining: 11.4s\n",
      "936:\tlearn: 1.3301288\ttotal: 2m 47s\tremaining: 11.2s\n",
      "937:\tlearn: 1.3300631\ttotal: 2m 47s\tremaining: 11.1s\n",
      "938:\tlearn: 1.3299875\ttotal: 2m 47s\tremaining: 10.9s\n",
      "939:\tlearn: 1.3299445\ttotal: 2m 47s\tremaining: 10.7s\n",
      "940:\tlearn: 1.3298871\ttotal: 2m 47s\tremaining: 10.5s\n",
      "941:\tlearn: 1.3298278\ttotal: 2m 48s\tremaining: 10.3s\n",
      "942:\tlearn: 1.3297567\ttotal: 2m 48s\tremaining: 10.2s\n",
      "943:\tlearn: 1.3297085\ttotal: 2m 48s\tremaining: 9.99s\n",
      "944:\tlearn: 1.3296581\ttotal: 2m 48s\tremaining: 9.81s\n",
      "945:\tlearn: 1.3295838\ttotal: 2m 48s\tremaining: 9.63s\n",
      "946:\tlearn: 1.3295208\ttotal: 2m 48s\tremaining: 9.46s\n",
      "947:\tlearn: 1.3294774\ttotal: 2m 49s\tremaining: 9.28s\n",
      "948:\tlearn: 1.3294243\ttotal: 2m 49s\tremaining: 9.1s\n",
      "949:\tlearn: 1.3293708\ttotal: 2m 49s\tremaining: 8.92s\n",
      "950:\tlearn: 1.3293327\ttotal: 2m 49s\tremaining: 8.74s\n",
      "951:\tlearn: 1.3292471\ttotal: 2m 49s\tremaining: 8.56s\n",
      "952:\tlearn: 1.3292052\ttotal: 2m 49s\tremaining: 8.38s\n",
      "953:\tlearn: 1.3291417\ttotal: 2m 50s\tremaining: 8.2s\n",
      "954:\tlearn: 1.3290993\ttotal: 2m 50s\tremaining: 8.02s\n",
      "955:\tlearn: 1.3290165\ttotal: 2m 50s\tremaining: 7.84s\n",
      "956:\tlearn: 1.3289638\ttotal: 2m 50s\tremaining: 7.67s\n",
      "957:\tlearn: 1.3288895\ttotal: 2m 50s\tremaining: 7.49s\n",
      "958:\tlearn: 1.3288480\ttotal: 2m 50s\tremaining: 7.31s\n",
      "959:\tlearn: 1.3287983\ttotal: 2m 51s\tremaining: 7.13s\n",
      "960:\tlearn: 1.3287487\ttotal: 2m 51s\tremaining: 6.95s\n",
      "961:\tlearn: 1.3287029\ttotal: 2m 51s\tremaining: 6.77s\n",
      "962:\tlearn: 1.3286200\ttotal: 2m 51s\tremaining: 6.59s\n",
      "963:\tlearn: 1.3285710\ttotal: 2m 51s\tremaining: 6.42s\n",
      "964:\tlearn: 1.3285199\ttotal: 2m 51s\tremaining: 6.24s\n",
      "965:\tlearn: 1.3284601\ttotal: 2m 52s\tremaining: 6.06s\n",
      "966:\tlearn: 1.3283970\ttotal: 2m 52s\tremaining: 5.88s\n",
      "967:\tlearn: 1.3283305\ttotal: 2m 52s\tremaining: 5.7s\n",
      "968:\tlearn: 1.3282451\ttotal: 2m 52s\tremaining: 5.53s\n",
      "969:\tlearn: 1.3281919\ttotal: 2m 52s\tremaining: 5.35s\n",
      "970:\tlearn: 1.3281120\ttotal: 2m 53s\tremaining: 5.17s\n",
      "971:\tlearn: 1.3280547\ttotal: 2m 53s\tremaining: 4.99s\n",
      "972:\tlearn: 1.3279799\ttotal: 2m 53s\tremaining: 4.81s\n",
      "973:\tlearn: 1.3278687\ttotal: 2m 53s\tremaining: 4.63s\n",
      "974:\tlearn: 1.3278104\ttotal: 2m 53s\tremaining: 4.46s\n",
      "975:\tlearn: 1.3277784\ttotal: 2m 53s\tremaining: 4.28s\n",
      "976:\tlearn: 1.3277348\ttotal: 2m 54s\tremaining: 4.1s\n",
      "977:\tlearn: 1.3276818\ttotal: 2m 54s\tremaining: 3.92s\n",
      "978:\tlearn: 1.3276248\ttotal: 2m 54s\tremaining: 3.74s\n",
      "979:\tlearn: 1.3275716\ttotal: 2m 54s\tremaining: 3.56s\n",
      "980:\tlearn: 1.3275055\ttotal: 2m 54s\tremaining: 3.38s\n",
      "981:\tlearn: 1.3274570\ttotal: 2m 54s\tremaining: 3.21s\n",
      "982:\tlearn: 1.3274091\ttotal: 2m 55s\tremaining: 3.03s\n",
      "983:\tlearn: 1.3273541\ttotal: 2m 55s\tremaining: 2.85s\n",
      "984:\tlearn: 1.3273009\ttotal: 2m 55s\tremaining: 2.67s\n",
      "985:\tlearn: 1.3272698\ttotal: 2m 55s\tremaining: 2.49s\n",
      "986:\tlearn: 1.3271754\ttotal: 2m 55s\tremaining: 2.32s\n",
      "987:\tlearn: 1.3271116\ttotal: 2m 56s\tremaining: 2.14s\n",
      "988:\tlearn: 1.3270617\ttotal: 2m 56s\tremaining: 1.96s\n",
      "989:\tlearn: 1.3270182\ttotal: 2m 56s\tremaining: 1.78s\n",
      "990:\tlearn: 1.3269669\ttotal: 2m 56s\tremaining: 1.6s\n",
      "991:\tlearn: 1.3269200\ttotal: 2m 56s\tremaining: 1.43s\n",
      "992:\tlearn: 1.3268556\ttotal: 2m 56s\tremaining: 1.25s\n",
      "993:\tlearn: 1.3268132\ttotal: 2m 57s\tremaining: 1.07s\n",
      "994:\tlearn: 1.3267650\ttotal: 2m 57s\tremaining: 891ms\n",
      "995:\tlearn: 1.3267071\ttotal: 2m 57s\tremaining: 713ms\n",
      "996:\tlearn: 1.3266497\ttotal: 2m 57s\tremaining: 534ms\n",
      "997:\tlearn: 1.3265909\ttotal: 2m 57s\tremaining: 356ms\n",
      "998:\tlearn: 1.3265408\ttotal: 2m 57s\tremaining: 178ms\n",
      "999:\tlearn: 1.3264921\ttotal: 2m 58s\tremaining: 0us\n"
     ]
    },
    {
     "data": {
      "text/plain": [
       "<catboost.core.CatBoostClassifier at 0x1ef9fd46c10>"
      ]
     },
     "execution_count": 121,
     "metadata": {},
     "output_type": "execute_result"
    }
   ],
   "source": [
    "# castboost\n",
    "from catboost import CatBoostClassifier\n",
    "cb_model = CatBoostClassifier()\n",
    "cb_model.fit(X_train, y_train)"
   ]
  },
  {
   "cell_type": "code",
   "execution_count": null,
   "id": "99e8f800-800e-4f56-bfce-f4dc438b3e97",
   "metadata": {
    "id": "99e8f800-800e-4f56-bfce-f4dc438b3e97",
    "outputId": "3010382d-0d99-43ba-c96f-c5a4c06894ed"
   },
   "outputs": [
    {
     "name": "stdout",
     "output_type": "stream",
     "text": [
      "              precision    recall  f1-score   support\n",
      "\n",
      "           0       0.65      0.38      0.48      9450\n",
      "           1       0.40      0.32      0.35      5559\n",
      "           2       0.37      0.20      0.26      8186\n",
      "           3       0.37      0.78      0.50      7900\n",
      "           4       0.45      0.46      0.45      9057\n",
      "\n",
      "    accuracy                           0.43     40152\n",
      "   macro avg       0.45      0.43      0.41     40152\n",
      "weighted avg       0.46      0.43      0.42     40152\n",
      "\n"
     ]
    }
   ],
   "source": [
    "from sklearn.metrics import classification_report\n",
    "print(classification_report(y_test, pred))"
   ]
  }
 ],
 "metadata": {
  "colab": {
   "provenance": []
  },
  "kernelspec": {
   "display_name": "Python 3 (ipykernel)",
   "language": "python",
   "name": "python3"
  },
  "language_info": {
   "codemirror_mode": {
    "name": "ipython",
    "version": 3
   },
   "file_extension": ".py",
   "mimetype": "text/x-python",
   "name": "python",
   "nbconvert_exporter": "python",
   "pygments_lexer": "ipython3",
   "version": "3.11.5"
  }
 },
 "nbformat": 4,
 "nbformat_minor": 5
}
