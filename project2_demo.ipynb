{
 "cells": [
  {
   "cell_type": "markdown",
   "id": "ba6ef954-1ce5-4ff7-8dff-45e8a0d1d160",
   "metadata": {},
   "source": [
    "# 데이터 불러오기"
   ]
  },
  {
   "cell_type": "code",
   "execution_count": 1,
   "id": "8d483527-ad60-4de0-a03f-82995ef1cfd5",
   "metadata": {},
   "outputs": [
    {
     "data": {
      "text/html": [
       "<div>\n",
       "<style scoped>\n",
       "    .dataframe tbody tr th:only-of-type {\n",
       "        vertical-align: middle;\n",
       "    }\n",
       "\n",
       "    .dataframe tbody tr th {\n",
       "        vertical-align: top;\n",
       "    }\n",
       "\n",
       "    .dataframe thead th {\n",
       "        text-align: right;\n",
       "    }\n",
       "</style>\n",
       "<table border=\"1\" class=\"dataframe\">\n",
       "  <thead>\n",
       "    <tr style=\"text-align: right;\">\n",
       "      <th></th>\n",
       "      <th>sentence</th>\n",
       "      <th>file</th>\n",
       "      <th>sentence2</th>\n",
       "      <th>dialect</th>\n",
       "      <th>sentence3</th>\n",
       "    </tr>\n",
       "  </thead>\n",
       "  <tbody>\n",
       "    <tr>\n",
       "      <th>0</th>\n",
       "      <td>개인적이로다가 생각하는 건 개인적인 의견이지 그니까 모든 사람들이 다 그러는 거는 ...</td>\n",
       "      <td>chungcheong</td>\n",
       "      <td>개인적이로다가 생각하는 건 개인적인 의견이지 그니까 모든 사람들이 다 그러는 거는 ...</td>\n",
       "      <td>0</td>\n",
       "      <td>개인적이로다가 생각하는 건 개인적인 의견이지 그니까 모든 사람들이 다 그러는 거는 ...</td>\n",
       "    </tr>\n",
       "    <tr>\n",
       "      <th>1</th>\n",
       "      <td>그 시대에 그까는 나훈아가 젊었을 때 나훈아를 봤을 거 아니야 엄마같이</td>\n",
       "      <td>chungcheong</td>\n",
       "      <td>그 시대에 그까는 나훈아가 젊었을 때 나훈아를 봤을 거 아니야 엄마같이</td>\n",
       "      <td>0</td>\n",
       "      <td>그 시대에 그까는 나훈아가 젊었을 때 나훈아를 봤을 거 아니야 엄마같이</td>\n",
       "    </tr>\n",
       "    <tr>\n",
       "      <th>2</th>\n",
       "      <td>그까는 그 사람은 늙지도 않고 그런 편견에 그냥</td>\n",
       "      <td>chungcheong</td>\n",
       "      <td>그까는 그 사람은 늙지도 않고 그런 편견에 그냥</td>\n",
       "      <td>0</td>\n",
       "      <td>그까는 그 사람은 늙지도 않고 그런 편견에 그냥</td>\n",
       "    </tr>\n",
       "    <tr>\n",
       "      <th>3</th>\n",
       "      <td>쫌 멜로는 조금 축축 처지는 게 있지.</td>\n",
       "      <td>chungcheong</td>\n",
       "      <td>쫌 멜로는 조금 축축 처지는 게 있지.</td>\n",
       "      <td>0</td>\n",
       "      <td>쫌 멜로는 조금 축축 처지는 게 있지</td>\n",
       "    </tr>\n",
       "    <tr>\n",
       "      <th>4</th>\n",
       "      <td>면이 많거든 그까는 어떻게 보면은</td>\n",
       "      <td>chungcheong</td>\n",
       "      <td>면이 많거든 그까는 어떻게 보면은</td>\n",
       "      <td>0</td>\n",
       "      <td>면이 많거든 그까는 어떻게 보면은</td>\n",
       "    </tr>\n",
       "  </tbody>\n",
       "</table>\n",
       "</div>"
      ],
      "text/plain": [
       "                                            sentence         file  \\\n",
       "0  개인적이로다가 생각하는 건 개인적인 의견이지 그니까 모든 사람들이 다 그러는 거는 ...  chungcheong   \n",
       "1            그 시대에 그까는 나훈아가 젊었을 때 나훈아를 봤을 거 아니야 엄마같이  chungcheong   \n",
       "2                         그까는 그 사람은 늙지도 않고 그런 편견에 그냥  chungcheong   \n",
       "3                              쫌 멜로는 조금 축축 처지는 게 있지.  chungcheong   \n",
       "4                                 면이 많거든 그까는 어떻게 보면은  chungcheong   \n",
       "\n",
       "                                           sentence2  dialect  \\\n",
       "0  개인적이로다가 생각하는 건 개인적인 의견이지 그니까 모든 사람들이 다 그러는 거는 ...        0   \n",
       "1            그 시대에 그까는 나훈아가 젊었을 때 나훈아를 봤을 거 아니야 엄마같이        0   \n",
       "2                         그까는 그 사람은 늙지도 않고 그런 편견에 그냥        0   \n",
       "3                              쫌 멜로는 조금 축축 처지는 게 있지.        0   \n",
       "4                                 면이 많거든 그까는 어떻게 보면은        0   \n",
       "\n",
       "                                           sentence3  \n",
       "0  개인적이로다가 생각하는 건 개인적인 의견이지 그니까 모든 사람들이 다 그러는 거는 ...  \n",
       "1            그 시대에 그까는 나훈아가 젊었을 때 나훈아를 봤을 거 아니야 엄마같이  \n",
       "2                         그까는 그 사람은 늙지도 않고 그런 편견에 그냥  \n",
       "3                               쫌 멜로는 조금 축축 처지는 게 있지  \n",
       "4                                 면이 많거든 그까는 어떻게 보면은  "
      ]
     },
     "execution_count": 1,
     "metadata": {},
     "output_type": "execute_result"
    }
   ],
   "source": [
    "import pandas as pd\n",
    "df = pd.read_csv('dialect_all_전처리new결측치제거_label.csv')\n",
    "df.head()"
   ]
  },
  {
   "cell_type": "markdown",
   "id": "b3a3be42-142c-4c79-885c-6ef64ef8158b",
   "metadata": {},
   "source": [
    "# 불용어 리스트"
   ]
  },
  {
   "cell_type": "code",
   "execution_count": 2,
   "id": "d651b3a4-7b41-475d-bbc8-d70d1ac23199",
   "metadata": {},
   "outputs": [
    {
     "name": "stdout",
     "output_type": "stream",
     "text": [
      "불용어 개수:  15\n",
      "['이제', '근데', '그런', '내가', '우리', '그냥', '진짜', '많이', '그래서', '나는', '아니', '이렇게', '너무', '그거', '하고']\n"
     ]
    }
   ],
   "source": [
    "stopword_list = pd.read_csv('cvect_전체_feature1000_표준어15.csv')\n",
    "stopwords = stopword_list['stopwords'].tolist()\n",
    "print('불용어 개수: ', len(stopwords))\n",
    "print(stopwords)"
   ]
  },
  {
   "cell_type": "markdown",
   "id": "328a7958-0d46-4e79-9adc-82c7d15bc4e3",
   "metadata": {},
   "source": [
    "# 불용어 처리"
   ]
  },
  {
   "cell_type": "code",
   "execution_count": 3,
   "id": "8f6b9a81-c3b8-41e3-b633-809a0c54ede3",
   "metadata": {},
   "outputs": [
    {
     "name": "stderr",
     "output_type": "stream",
     "text": [
      "100%|████████████████████████████████████████████████████████████████████| 2747461/2747461 [00:18<00:00, 147679.47it/s]\n"
     ]
    },
    {
     "data": {
      "text/html": [
       "<div>\n",
       "<style scoped>\n",
       "    .dataframe tbody tr th:only-of-type {\n",
       "        vertical-align: middle;\n",
       "    }\n",
       "\n",
       "    .dataframe tbody tr th {\n",
       "        vertical-align: top;\n",
       "    }\n",
       "\n",
       "    .dataframe thead th {\n",
       "        text-align: right;\n",
       "    }\n",
       "</style>\n",
       "<table border=\"1\" class=\"dataframe\">\n",
       "  <thead>\n",
       "    <tr style=\"text-align: right;\">\n",
       "      <th></th>\n",
       "      <th>sentence</th>\n",
       "      <th>file</th>\n",
       "      <th>sentence2</th>\n",
       "      <th>dialect</th>\n",
       "      <th>sentence3</th>\n",
       "      <th>sentence4불용어처리어절</th>\n",
       "    </tr>\n",
       "  </thead>\n",
       "  <tbody>\n",
       "    <tr>\n",
       "      <th>0</th>\n",
       "      <td>개인적이로다가 생각하는 건 개인적인 의견이지 그니까 모든 사람들이 다 그러는 거는 ...</td>\n",
       "      <td>chungcheong</td>\n",
       "      <td>개인적이로다가 생각하는 건 개인적인 의견이지 그니까 모든 사람들이 다 그러는 거는 ...</td>\n",
       "      <td>0</td>\n",
       "      <td>개인적이로다가 생각하는 건 개인적인 의견이지 그니까 모든 사람들이 다 그러는 거는 ...</td>\n",
       "      <td>개인적이로다가 생각하는 건 개인적인 의견이지 그니까 모든 사람들이 다 그러는 거는 ...</td>\n",
       "    </tr>\n",
       "    <tr>\n",
       "      <th>1</th>\n",
       "      <td>그 시대에 그까는 나훈아가 젊었을 때 나훈아를 봤을 거 아니야 엄마같이</td>\n",
       "      <td>chungcheong</td>\n",
       "      <td>그 시대에 그까는 나훈아가 젊었을 때 나훈아를 봤을 거 아니야 엄마같이</td>\n",
       "      <td>0</td>\n",
       "      <td>그 시대에 그까는 나훈아가 젊었을 때 나훈아를 봤을 거 아니야 엄마같이</td>\n",
       "      <td>그 시대에 그까는 나훈아가 젊었을 때 나훈아를 봤을 거 아니야 엄마같이</td>\n",
       "    </tr>\n",
       "    <tr>\n",
       "      <th>2</th>\n",
       "      <td>그까는 그 사람은 늙지도 않고 그런 편견에 그냥</td>\n",
       "      <td>chungcheong</td>\n",
       "      <td>그까는 그 사람은 늙지도 않고 그런 편견에 그냥</td>\n",
       "      <td>0</td>\n",
       "      <td>그까는 그 사람은 늙지도 않고 그런 편견에 그냥</td>\n",
       "      <td>그까는 그 사람은 늙지도 않고 편견에</td>\n",
       "    </tr>\n",
       "    <tr>\n",
       "      <th>3</th>\n",
       "      <td>쫌 멜로는 조금 축축 처지는 게 있지.</td>\n",
       "      <td>chungcheong</td>\n",
       "      <td>쫌 멜로는 조금 축축 처지는 게 있지.</td>\n",
       "      <td>0</td>\n",
       "      <td>쫌 멜로는 조금 축축 처지는 게 있지</td>\n",
       "      <td>쫌 멜로는 조금 축축 처지는 게 있지</td>\n",
       "    </tr>\n",
       "    <tr>\n",
       "      <th>4</th>\n",
       "      <td>면이 많거든 그까는 어떻게 보면은</td>\n",
       "      <td>chungcheong</td>\n",
       "      <td>면이 많거든 그까는 어떻게 보면은</td>\n",
       "      <td>0</td>\n",
       "      <td>면이 많거든 그까는 어떻게 보면은</td>\n",
       "      <td>면이 많거든 그까는 어떻게 보면은</td>\n",
       "    </tr>\n",
       "  </tbody>\n",
       "</table>\n",
       "</div>"
      ],
      "text/plain": [
       "                                            sentence         file  \\\n",
       "0  개인적이로다가 생각하는 건 개인적인 의견이지 그니까 모든 사람들이 다 그러는 거는 ...  chungcheong   \n",
       "1            그 시대에 그까는 나훈아가 젊었을 때 나훈아를 봤을 거 아니야 엄마같이  chungcheong   \n",
       "2                         그까는 그 사람은 늙지도 않고 그런 편견에 그냥  chungcheong   \n",
       "3                              쫌 멜로는 조금 축축 처지는 게 있지.  chungcheong   \n",
       "4                                 면이 많거든 그까는 어떻게 보면은  chungcheong   \n",
       "\n",
       "                                           sentence2  dialect  \\\n",
       "0  개인적이로다가 생각하는 건 개인적인 의견이지 그니까 모든 사람들이 다 그러는 거는 ...        0   \n",
       "1            그 시대에 그까는 나훈아가 젊었을 때 나훈아를 봤을 거 아니야 엄마같이        0   \n",
       "2                         그까는 그 사람은 늙지도 않고 그런 편견에 그냥        0   \n",
       "3                              쫌 멜로는 조금 축축 처지는 게 있지.        0   \n",
       "4                                 면이 많거든 그까는 어떻게 보면은        0   \n",
       "\n",
       "                                           sentence3  \\\n",
       "0  개인적이로다가 생각하는 건 개인적인 의견이지 그니까 모든 사람들이 다 그러는 거는 ...   \n",
       "1            그 시대에 그까는 나훈아가 젊었을 때 나훈아를 봤을 거 아니야 엄마같이   \n",
       "2                         그까는 그 사람은 늙지도 않고 그런 편견에 그냥   \n",
       "3                               쫌 멜로는 조금 축축 처지는 게 있지   \n",
       "4                                 면이 많거든 그까는 어떻게 보면은   \n",
       "\n",
       "                                    sentence4불용어처리어절  \n",
       "0  개인적이로다가 생각하는 건 개인적인 의견이지 그니까 모든 사람들이 다 그러는 거는 ...  \n",
       "1            그 시대에 그까는 나훈아가 젊었을 때 나훈아를 봤을 거 아니야 엄마같이  \n",
       "2                               그까는 그 사람은 늙지도 않고 편견에  \n",
       "3                               쫌 멜로는 조금 축축 처지는 게 있지  \n",
       "4                                 면이 많거든 그까는 어떻게 보면은  "
      ]
     },
     "execution_count": 3,
     "metadata": {},
     "output_type": "execute_result"
    }
   ],
   "source": [
    "def remove_stopwords(text):\n",
    "    tokens = text.split()\n",
    "    stops = stopwords\n",
    "    meaningful_words = [w for w in tokens if w not in stops]\n",
    "    return \" \".join(meaningful_words)\n",
    "\n",
    "from tqdm import tqdm\n",
    "tqdm.pandas()\n",
    "df['sentence4불용어처리어절'] = df['sentence3'].progress_map(remove_stopwords)\n",
    "df.head()"
   ]
  },
  {
   "cell_type": "markdown",
   "id": "1c9777ab-7e3f-4cca-8ceb-f17dff9313d9",
   "metadata": {},
   "source": [
    "- 데이터 점검"
   ]
  },
  {
   "cell_type": "code",
   "execution_count": 4,
   "id": "92e24e06-016a-4a5e-80aa-9ca10d70fc84",
   "metadata": {},
   "outputs": [
    {
     "data": {
      "text/plain": [
       "sentence            0\n",
       "file                0\n",
       "sentence2           0\n",
       "dialect             0\n",
       "sentence3           0\n",
       "sentence4불용어처리어절    0\n",
       "dtype: int64"
      ]
     },
     "execution_count": 4,
     "metadata": {},
     "output_type": "execute_result"
    }
   ],
   "source": [
    "df.isnull().sum()"
   ]
  },
  {
   "cell_type": "markdown",
   "id": "7f1589ef-b10d-43a5-ba1c-fb32788c9fb9",
   "metadata": {},
   "source": [
    "# 분류 모델 평가 및 검증\n",
    "- 벡터화: CountVectorizer\n",
    "- 모델: OneVsRestClassifier\n",
    "- 교차 검증: cross_val_score"
   ]
  },
  {
   "cell_type": "code",
   "execution_count": 5,
   "id": "49f746ba-a258-4d71-80fb-bc6c1873679e",
   "metadata": {},
   "outputs": [],
   "source": [
    "from sklearn.linear_model import LogisticRegression\n",
    "from sklearn.feature_extraction.text import TfidfVectorizer\n",
    "from sklearn.feature_extraction.text import CountVectorizer\n",
    "from sklearn.multiclass import OneVsRestClassifier"
   ]
  },
  {
   "cell_type": "code",
   "execution_count": 6,
   "id": "5aae64c5-bf3b-46bc-8bc7-67252ba0f0ca",
   "metadata": {},
   "outputs": [],
   "source": [
    "X = df['sentence4불용어처리어절'] # 독립변수\n",
    "y = df['dialect'] # 종속변수"
   ]
  },
  {
   "cell_type": "code",
   "execution_count": null,
   "id": "e70c5eae-355c-4e93-8520-ea1b9755c768",
   "metadata": {},
   "outputs": [
    {
     "name": "stderr",
     "output_type": "stream",
     "text": [
      "[Parallel(n_jobs=-1)]: Using backend LokyBackend with 18 concurrent workers.\n"
     ]
    }
   ],
   "source": [
    "%%time\n",
    "from sklearn.pipeline import make_pipeline\n",
    "from sklearn.feature_extraction.text import CountVectorizer\n",
    "from sklearn.model_selection import cross_val_score\n",
    "\n",
    "cvect = CountVectorizer()\n",
    "ovr_model = OneVsRestClassifier(LogisticRegression())\n",
    "\n",
    "model = make_pipeline(cvect, ovr_model)\n",
    "ovr_score = cross_val_score(model, X, y, cv=5, n_jobs=-1, verbose=1)\n",
    "print(ovr_score)\n",
    "print(ovr_score.mean())"
   ]
  }
 ],
 "metadata": {
  "kernelspec": {
   "display_name": "Python 3 (ipykernel)",
   "language": "python",
   "name": "python3"
  },
  "language_info": {
   "codemirror_mode": {
    "name": "ipython",
    "version": 3
   },
   "file_extension": ".py",
   "mimetype": "text/x-python",
   "name": "python",
   "nbconvert_exporter": "python",
   "pygments_lexer": "ipython3",
   "version": "3.11.7"
  }
 },
 "nbformat": 4,
 "nbformat_minor": 5
}
